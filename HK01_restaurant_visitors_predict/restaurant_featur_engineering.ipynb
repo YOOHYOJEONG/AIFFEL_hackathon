{
 "cells": [
  {
   "cell_type": "code",
   "execution_count": 1,
   "id": "abaefdf6",
   "metadata": {
    "execution": {
     "iopub.execute_input": "2021-08-05T04:53:25.819066Z",
     "iopub.status.busy": "2021-08-05T04:53:25.818314Z",
     "iopub.status.idle": "2021-08-05T04:53:25.821286Z",
     "shell.execute_reply": "2021-08-05T04:53:25.820547Z",
     "shell.execute_reply.started": "2021-08-05T04:29:29.396143Z"
    },
    "papermill": {
     "duration": 0.091394,
     "end_time": "2021-08-05T04:53:25.821453",
     "exception": false,
     "start_time": "2021-08-05T04:53:25.730059",
     "status": "completed"
    },
    "tags": []
   },
   "outputs": [],
   "source": [
    "#미완성입니다!!! 저장하고 다시 해보려고 저장하는 것!!!!!!!"
   ]
  },
  {
   "cell_type": "code",
   "execution_count": 2,
   "id": "5aebfa88",
   "metadata": {
    "_cell_guid": "b1076dfc-b9ad-4769-8c92-a6c4dae69d19",
    "_uuid": "8f2839f25d086af736a60e9eeb907d3b93b6e0e5",
    "execution": {
     "iopub.execute_input": "2021-08-05T04:53:25.989796Z",
     "iopub.status.busy": "2021-08-05T04:53:25.986521Z",
     "iopub.status.idle": "2021-08-05T04:53:25.995481Z",
     "shell.execute_reply": "2021-08-05T04:53:25.994796Z",
     "shell.execute_reply.started": "2021-08-05T04:29:29.405593Z"
    },
    "papermill": {
     "duration": 0.09486,
     "end_time": "2021-08-05T04:53:25.995628",
     "exception": false,
     "start_time": "2021-08-05T04:53:25.900768",
     "status": "completed"
    },
    "tags": []
   },
   "outputs": [
    {
     "name": "stdout",
     "output_type": "stream",
     "text": [
      "/kaggle/input/recruit-restaurant-visitor-forecasting/air_reserve.csv.zip\n",
      "/kaggle/input/recruit-restaurant-visitor-forecasting/hpg_store_info.csv.zip\n",
      "/kaggle/input/recruit-restaurant-visitor-forecasting/hpg_reserve.csv.zip\n",
      "/kaggle/input/recruit-restaurant-visitor-forecasting/sample_submission.csv.zip\n",
      "/kaggle/input/recruit-restaurant-visitor-forecasting/air_visit_data.csv.zip\n",
      "/kaggle/input/recruit-restaurant-visitor-forecasting/air_store_info.csv.zip\n",
      "/kaggle/input/recruit-restaurant-visitor-forecasting/date_info.csv.zip\n",
      "/kaggle/input/recruit-restaurant-visitor-forecasting/store_id_relation.csv.zip\n"
     ]
    }
   ],
   "source": [
    "# This Python 3 environment comes with many helpful analytics libraries installed\n",
    "# It is defined by the kaggle/python Docker image: https://github.com/kaggle/docker-python\n",
    "# For example, here's several helpful packages to load\n",
    "\n",
    "import numpy as np # linear algebra\n",
    "import pandas as pd # data processing, CSV file I/O (e.g. pd.read_csv)\n",
    "\n",
    "# Input data files are available in the read-only \"../input/\" directory\n",
    "# For example, running this (by clicking run or pressing Shift+Enter) will list all files under the input directory\n",
    "\n",
    "import os\n",
    "for dirname, _, filenames in os.walk('/kaggle/input'):\n",
    "    for filename in filenames:\n",
    "        print(os.path.join(dirname, filename))\n",
    "\n",
    "# You can write up to 20GB to the current directory (/kaggle/working/) that gets preserved as output when you create a version using \"Save & Run All\" \n",
    "# You can also write temporary files to /kaggle/temp/, but they won't be saved outside of the current session"
   ]
  },
  {
   "cell_type": "code",
   "execution_count": 3,
   "id": "446a65df",
   "metadata": {
    "execution": {
     "iopub.execute_input": "2021-08-05T04:53:26.163690Z",
     "iopub.status.busy": "2021-08-05T04:53:26.162999Z",
     "iopub.status.idle": "2021-08-05T04:53:30.037725Z",
     "shell.execute_reply": "2021-08-05T04:53:30.036725Z",
     "shell.execute_reply.started": "2021-08-05T04:29:29.427943Z"
    },
    "papermill": {
     "duration": 3.960812,
     "end_time": "2021-08-05T04:53:30.037907",
     "exception": false,
     "start_time": "2021-08-05T04:53:26.077095",
     "status": "completed"
    },
    "tags": []
   },
   "outputs": [],
   "source": [
    "#data load\n",
    "air_reserve = pd.read_csv('/kaggle/input/recruit-restaurant-visitor-forecasting/air_reserve.csv.zip')\n",
    "hpg_store_info = pd.read_csv('/kaggle/input/recruit-restaurant-visitor-forecasting/hpg_store_info.csv.zip')\n",
    "hpg_reserve = pd.read_csv('/kaggle/input/recruit-restaurant-visitor-forecasting/hpg_reserve.csv.zip')\n",
    "air_visit_data = pd.read_csv('/kaggle/input/recruit-restaurant-visitor-forecasting/air_visit_data.csv.zip')\n",
    "air_store_info = pd.read_csv('/kaggle/input/recruit-restaurant-visitor-forecasting/air_store_info.csv.zip')\n",
    "date_info = pd.read_csv('/kaggle/input/recruit-restaurant-visitor-forecasting/date_info.csv.zip')\n",
    "store_id_relation = pd.read_csv('/kaggle/input/recruit-restaurant-visitor-forecasting/store_id_relation.csv.zip')\n",
    "sample_sub = pd.read_csv('/kaggle/input/recruit-restaurant-visitor-forecasting/sample_submission.csv.zip')"
   ]
  },
  {
   "cell_type": "code",
   "execution_count": 4,
   "id": "5b27756b",
   "metadata": {
    "execution": {
     "iopub.execute_input": "2021-08-05T04:53:30.213135Z",
     "iopub.status.busy": "2021-08-05T04:53:30.212451Z",
     "iopub.status.idle": "2021-08-05T04:53:30.233542Z",
     "shell.execute_reply": "2021-08-05T04:53:30.234058Z",
     "shell.execute_reply.started": "2021-08-05T04:29:33.149052Z"
    },
    "papermill": {
     "duration": 0.118841,
     "end_time": "2021-08-05T04:53:30.234262",
     "exception": false,
     "start_time": "2021-08-05T04:53:30.115421",
     "status": "completed"
    },
    "tags": []
   },
   "outputs": [
    {
     "name": "stdout",
     "output_type": "stream",
     "text": [
      "(829, 5)\n"
     ]
    },
    {
     "data": {
      "text/html": [
       "<div>\n",
       "<style scoped>\n",
       "    .dataframe tbody tr th:only-of-type {\n",
       "        vertical-align: middle;\n",
       "    }\n",
       "\n",
       "    .dataframe tbody tr th {\n",
       "        vertical-align: top;\n",
       "    }\n",
       "\n",
       "    .dataframe thead th {\n",
       "        text-align: right;\n",
       "    }\n",
       "</style>\n",
       "<table border=\"1\" class=\"dataframe\">\n",
       "  <thead>\n",
       "    <tr style=\"text-align: right;\">\n",
       "      <th></th>\n",
       "      <th>air_store_id</th>\n",
       "      <th>air_genre_name</th>\n",
       "      <th>air_area_name</th>\n",
       "      <th>latitude</th>\n",
       "      <th>longitude</th>\n",
       "    </tr>\n",
       "  </thead>\n",
       "  <tbody>\n",
       "    <tr>\n",
       "      <th>0</th>\n",
       "      <td>air_0f0cdeee6c9bf3d7</td>\n",
       "      <td>Italian/French</td>\n",
       "      <td>Hyōgo-ken Kōbe-shi Kumoidōri</td>\n",
       "      <td>34.695124</td>\n",
       "      <td>135.197853</td>\n",
       "    </tr>\n",
       "    <tr>\n",
       "      <th>1</th>\n",
       "      <td>air_7cc17a324ae5c7dc</td>\n",
       "      <td>Italian/French</td>\n",
       "      <td>Hyōgo-ken Kōbe-shi Kumoidōri</td>\n",
       "      <td>34.695124</td>\n",
       "      <td>135.197853</td>\n",
       "    </tr>\n",
       "    <tr>\n",
       "      <th>2</th>\n",
       "      <td>air_fee8dcf4d619598e</td>\n",
       "      <td>Italian/French</td>\n",
       "      <td>Hyōgo-ken Kōbe-shi Kumoidōri</td>\n",
       "      <td>34.695124</td>\n",
       "      <td>135.197853</td>\n",
       "    </tr>\n",
       "    <tr>\n",
       "      <th>3</th>\n",
       "      <td>air_a17f0778617c76e2</td>\n",
       "      <td>Italian/French</td>\n",
       "      <td>Hyōgo-ken Kōbe-shi Kumoidōri</td>\n",
       "      <td>34.695124</td>\n",
       "      <td>135.197853</td>\n",
       "    </tr>\n",
       "    <tr>\n",
       "      <th>4</th>\n",
       "      <td>air_83db5aff8f50478e</td>\n",
       "      <td>Italian/French</td>\n",
       "      <td>Tōkyō-to Minato-ku Shibakōen</td>\n",
       "      <td>35.658068</td>\n",
       "      <td>139.751599</td>\n",
       "    </tr>\n",
       "  </tbody>\n",
       "</table>\n",
       "</div>"
      ],
      "text/plain": [
       "           air_store_id  air_genre_name                 air_area_name  \\\n",
       "0  air_0f0cdeee6c9bf3d7  Italian/French  Hyōgo-ken Kōbe-shi Kumoidōri   \n",
       "1  air_7cc17a324ae5c7dc  Italian/French  Hyōgo-ken Kōbe-shi Kumoidōri   \n",
       "2  air_fee8dcf4d619598e  Italian/French  Hyōgo-ken Kōbe-shi Kumoidōri   \n",
       "3  air_a17f0778617c76e2  Italian/French  Hyōgo-ken Kōbe-shi Kumoidōri   \n",
       "4  air_83db5aff8f50478e  Italian/French  Tōkyō-to Minato-ku Shibakōen   \n",
       "\n",
       "    latitude   longitude  \n",
       "0  34.695124  135.197853  \n",
       "1  34.695124  135.197853  \n",
       "2  34.695124  135.197853  \n",
       "3  34.695124  135.197853  \n",
       "4  35.658068  139.751599  "
      ]
     },
     "execution_count": 4,
     "metadata": {},
     "output_type": "execute_result"
    }
   ],
   "source": [
    "#data check\n",
    "\n",
    "print(air_store_info.shape)\n",
    "air_store_info.head()"
   ]
  },
  {
   "cell_type": "code",
   "execution_count": 5,
   "id": "043d24dd",
   "metadata": {
    "execution": {
     "iopub.execute_input": "2021-08-05T04:53:30.408104Z",
     "iopub.status.busy": "2021-08-05T04:53:30.407125Z",
     "iopub.status.idle": "2021-08-05T04:53:30.412453Z",
     "shell.execute_reply": "2021-08-05T04:53:30.411836Z",
     "shell.execute_reply.started": "2021-08-05T04:29:33.184983Z"
    },
    "papermill": {
     "duration": 0.09962,
     "end_time": "2021-08-05T04:53:30.412591",
     "exception": false,
     "start_time": "2021-08-05T04:53:30.312971",
     "status": "completed"
    },
    "tags": []
   },
   "outputs": [
    {
     "name": "stdout",
     "output_type": "stream",
     "text": [
      "(92378, 4)\n"
     ]
    },
    {
     "data": {
      "text/html": [
       "<div>\n",
       "<style scoped>\n",
       "    .dataframe tbody tr th:only-of-type {\n",
       "        vertical-align: middle;\n",
       "    }\n",
       "\n",
       "    .dataframe tbody tr th {\n",
       "        vertical-align: top;\n",
       "    }\n",
       "\n",
       "    .dataframe thead th {\n",
       "        text-align: right;\n",
       "    }\n",
       "</style>\n",
       "<table border=\"1\" class=\"dataframe\">\n",
       "  <thead>\n",
       "    <tr style=\"text-align: right;\">\n",
       "      <th></th>\n",
       "      <th>air_store_id</th>\n",
       "      <th>visit_datetime</th>\n",
       "      <th>reserve_datetime</th>\n",
       "      <th>reserve_visitors</th>\n",
       "    </tr>\n",
       "  </thead>\n",
       "  <tbody>\n",
       "    <tr>\n",
       "      <th>0</th>\n",
       "      <td>air_877f79706adbfb06</td>\n",
       "      <td>2016-01-01 19:00:00</td>\n",
       "      <td>2016-01-01 16:00:00</td>\n",
       "      <td>1</td>\n",
       "    </tr>\n",
       "    <tr>\n",
       "      <th>1</th>\n",
       "      <td>air_db4b38ebe7a7ceff</td>\n",
       "      <td>2016-01-01 19:00:00</td>\n",
       "      <td>2016-01-01 19:00:00</td>\n",
       "      <td>3</td>\n",
       "    </tr>\n",
       "    <tr>\n",
       "      <th>2</th>\n",
       "      <td>air_db4b38ebe7a7ceff</td>\n",
       "      <td>2016-01-01 19:00:00</td>\n",
       "      <td>2016-01-01 19:00:00</td>\n",
       "      <td>6</td>\n",
       "    </tr>\n",
       "    <tr>\n",
       "      <th>3</th>\n",
       "      <td>air_877f79706adbfb06</td>\n",
       "      <td>2016-01-01 20:00:00</td>\n",
       "      <td>2016-01-01 16:00:00</td>\n",
       "      <td>2</td>\n",
       "    </tr>\n",
       "    <tr>\n",
       "      <th>4</th>\n",
       "      <td>air_db80363d35f10926</td>\n",
       "      <td>2016-01-01 20:00:00</td>\n",
       "      <td>2016-01-01 01:00:00</td>\n",
       "      <td>5</td>\n",
       "    </tr>\n",
       "  </tbody>\n",
       "</table>\n",
       "</div>"
      ],
      "text/plain": [
       "           air_store_id       visit_datetime     reserve_datetime  \\\n",
       "0  air_877f79706adbfb06  2016-01-01 19:00:00  2016-01-01 16:00:00   \n",
       "1  air_db4b38ebe7a7ceff  2016-01-01 19:00:00  2016-01-01 19:00:00   \n",
       "2  air_db4b38ebe7a7ceff  2016-01-01 19:00:00  2016-01-01 19:00:00   \n",
       "3  air_877f79706adbfb06  2016-01-01 20:00:00  2016-01-01 16:00:00   \n",
       "4  air_db80363d35f10926  2016-01-01 20:00:00  2016-01-01 01:00:00   \n",
       "\n",
       "   reserve_visitors  \n",
       "0                 1  \n",
       "1                 3  \n",
       "2                 6  \n",
       "3                 2  \n",
       "4                 5  "
      ]
     },
     "execution_count": 5,
     "metadata": {},
     "output_type": "execute_result"
    }
   ],
   "source": [
    "print(air_reserve.shape)\n",
    "air_reserve.head()"
   ]
  },
  {
   "cell_type": "code",
   "execution_count": 6,
   "id": "4c6eff15",
   "metadata": {
    "execution": {
     "iopub.execute_input": "2021-08-05T04:53:30.586001Z",
     "iopub.status.busy": "2021-08-05T04:53:30.585341Z",
     "iopub.status.idle": "2021-08-05T04:53:30.602117Z",
     "shell.execute_reply": "2021-08-05T04:53:30.601590Z",
     "shell.execute_reply.started": "2021-08-05T04:29:33.200446Z"
    },
    "papermill": {
     "duration": 0.110858,
     "end_time": "2021-08-05T04:53:30.602278",
     "exception": false,
     "start_time": "2021-08-05T04:53:30.491420",
     "status": "completed"
    },
    "tags": []
   },
   "outputs": [
    {
     "data": {
      "text/plain": [
       "314"
      ]
     },
     "execution_count": 6,
     "metadata": {},
     "output_type": "execute_result"
    }
   ],
   "source": [
    "#air로 예약가능한 식당 수\n",
    "air_reserve.air_store_id.nunique()"
   ]
  },
  {
   "cell_type": "code",
   "execution_count": 7,
   "id": "dde0ac0d",
   "metadata": {
    "execution": {
     "iopub.execute_input": "2021-08-05T04:53:30.765941Z",
     "iopub.status.busy": "2021-08-05T04:53:30.765285Z",
     "iopub.status.idle": "2021-08-05T04:53:30.776073Z",
     "shell.execute_reply": "2021-08-05T04:53:30.776675Z",
     "shell.execute_reply.started": "2021-08-05T04:29:33.238124Z"
    },
    "papermill": {
     "duration": 0.093465,
     "end_time": "2021-08-05T04:53:30.776852",
     "exception": false,
     "start_time": "2021-08-05T04:53:30.683387",
     "status": "completed"
    },
    "tags": []
   },
   "outputs": [
    {
     "name": "stdout",
     "output_type": "stream",
     "text": [
      "(252108, 3)\n"
     ]
    },
    {
     "data": {
      "text/html": [
       "<div>\n",
       "<style scoped>\n",
       "    .dataframe tbody tr th:only-of-type {\n",
       "        vertical-align: middle;\n",
       "    }\n",
       "\n",
       "    .dataframe tbody tr th {\n",
       "        vertical-align: top;\n",
       "    }\n",
       "\n",
       "    .dataframe thead th {\n",
       "        text-align: right;\n",
       "    }\n",
       "</style>\n",
       "<table border=\"1\" class=\"dataframe\">\n",
       "  <thead>\n",
       "    <tr style=\"text-align: right;\">\n",
       "      <th></th>\n",
       "      <th>air_store_id</th>\n",
       "      <th>visit_date</th>\n",
       "      <th>visitors</th>\n",
       "    </tr>\n",
       "  </thead>\n",
       "  <tbody>\n",
       "    <tr>\n",
       "      <th>0</th>\n",
       "      <td>air_ba937bf13d40fb24</td>\n",
       "      <td>2016-01-13</td>\n",
       "      <td>25</td>\n",
       "    </tr>\n",
       "    <tr>\n",
       "      <th>1</th>\n",
       "      <td>air_ba937bf13d40fb24</td>\n",
       "      <td>2016-01-14</td>\n",
       "      <td>32</td>\n",
       "    </tr>\n",
       "    <tr>\n",
       "      <th>2</th>\n",
       "      <td>air_ba937bf13d40fb24</td>\n",
       "      <td>2016-01-15</td>\n",
       "      <td>29</td>\n",
       "    </tr>\n",
       "    <tr>\n",
       "      <th>3</th>\n",
       "      <td>air_ba937bf13d40fb24</td>\n",
       "      <td>2016-01-16</td>\n",
       "      <td>22</td>\n",
       "    </tr>\n",
       "    <tr>\n",
       "      <th>4</th>\n",
       "      <td>air_ba937bf13d40fb24</td>\n",
       "      <td>2016-01-18</td>\n",
       "      <td>6</td>\n",
       "    </tr>\n",
       "  </tbody>\n",
       "</table>\n",
       "</div>"
      ],
      "text/plain": [
       "           air_store_id  visit_date  visitors\n",
       "0  air_ba937bf13d40fb24  2016-01-13        25\n",
       "1  air_ba937bf13d40fb24  2016-01-14        32\n",
       "2  air_ba937bf13d40fb24  2016-01-15        29\n",
       "3  air_ba937bf13d40fb24  2016-01-16        22\n",
       "4  air_ba937bf13d40fb24  2016-01-18         6"
      ]
     },
     "execution_count": 7,
     "metadata": {},
     "output_type": "execute_result"
    }
   ],
   "source": [
    "print(air_visit_data.shape)\n",
    "air_visit_data.head()"
   ]
  },
  {
   "cell_type": "code",
   "execution_count": 8,
   "id": "0f016253",
   "metadata": {
    "execution": {
     "iopub.execute_input": "2021-08-05T04:53:30.941895Z",
     "iopub.status.busy": "2021-08-05T04:53:30.941206Z",
     "iopub.status.idle": "2021-08-05T04:53:30.966647Z",
     "shell.execute_reply": "2021-08-05T04:53:30.967141Z",
     "shell.execute_reply.started": "2021-08-05T04:29:33.253967Z"
    },
    "papermill": {
     "duration": 0.108893,
     "end_time": "2021-08-05T04:53:30.967334",
     "exception": false,
     "start_time": "2021-08-05T04:53:30.858441",
     "status": "completed"
    },
    "tags": []
   },
   "outputs": [
    {
     "data": {
      "text/plain": [
       "True"
      ]
     },
     "execution_count": 8,
     "metadata": {},
     "output_type": "execute_result"
    }
   ],
   "source": [
    "#air_visit_data의 모든 store id가 air_sotre의 store id에 있는지 확인\n",
    "air_visit_data.air_store_id.isin(air_store_info.air_store_id).all()"
   ]
  },
  {
   "cell_type": "code",
   "execution_count": 9,
   "id": "3ab53503",
   "metadata": {
    "execution": {
     "iopub.execute_input": "2021-08-05T04:53:31.131395Z",
     "iopub.status.busy": "2021-08-05T04:53:31.130682Z",
     "iopub.status.idle": "2021-08-05T04:53:31.142357Z",
     "shell.execute_reply": "2021-08-05T04:53:31.142931Z",
     "shell.execute_reply.started": "2021-08-05T04:29:33.284256Z"
    },
    "papermill": {
     "duration": 0.094825,
     "end_time": "2021-08-05T04:53:31.143110",
     "exception": false,
     "start_time": "2021-08-05T04:53:31.048285",
     "status": "completed"
    },
    "tags": []
   },
   "outputs": [
    {
     "name": "stdout",
     "output_type": "stream",
     "text": [
      "(4690, 5)\n"
     ]
    },
    {
     "data": {
      "text/html": [
       "<div>\n",
       "<style scoped>\n",
       "    .dataframe tbody tr th:only-of-type {\n",
       "        vertical-align: middle;\n",
       "    }\n",
       "\n",
       "    .dataframe tbody tr th {\n",
       "        vertical-align: top;\n",
       "    }\n",
       "\n",
       "    .dataframe thead th {\n",
       "        text-align: right;\n",
       "    }\n",
       "</style>\n",
       "<table border=\"1\" class=\"dataframe\">\n",
       "  <thead>\n",
       "    <tr style=\"text-align: right;\">\n",
       "      <th></th>\n",
       "      <th>hpg_store_id</th>\n",
       "      <th>hpg_genre_name</th>\n",
       "      <th>hpg_area_name</th>\n",
       "      <th>latitude</th>\n",
       "      <th>longitude</th>\n",
       "    </tr>\n",
       "  </thead>\n",
       "  <tbody>\n",
       "    <tr>\n",
       "      <th>0</th>\n",
       "      <td>hpg_6622b62385aec8bf</td>\n",
       "      <td>Japanese style</td>\n",
       "      <td>Tōkyō-to Setagaya-ku Taishidō</td>\n",
       "      <td>35.643675</td>\n",
       "      <td>139.668221</td>\n",
       "    </tr>\n",
       "    <tr>\n",
       "      <th>1</th>\n",
       "      <td>hpg_e9e068dd49c5fa00</td>\n",
       "      <td>Japanese style</td>\n",
       "      <td>Tōkyō-to Setagaya-ku Taishidō</td>\n",
       "      <td>35.643675</td>\n",
       "      <td>139.668221</td>\n",
       "    </tr>\n",
       "    <tr>\n",
       "      <th>2</th>\n",
       "      <td>hpg_2976f7acb4b3a3bc</td>\n",
       "      <td>Japanese style</td>\n",
       "      <td>Tōkyō-to Setagaya-ku Taishidō</td>\n",
       "      <td>35.643675</td>\n",
       "      <td>139.668221</td>\n",
       "    </tr>\n",
       "    <tr>\n",
       "      <th>3</th>\n",
       "      <td>hpg_e51a522e098f024c</td>\n",
       "      <td>Japanese style</td>\n",
       "      <td>Tōkyō-to Setagaya-ku Taishidō</td>\n",
       "      <td>35.643675</td>\n",
       "      <td>139.668221</td>\n",
       "    </tr>\n",
       "    <tr>\n",
       "      <th>4</th>\n",
       "      <td>hpg_e3d0e1519894f275</td>\n",
       "      <td>Japanese style</td>\n",
       "      <td>Tōkyō-to Setagaya-ku Taishidō</td>\n",
       "      <td>35.643675</td>\n",
       "      <td>139.668221</td>\n",
       "    </tr>\n",
       "  </tbody>\n",
       "</table>\n",
       "</div>"
      ],
      "text/plain": [
       "           hpg_store_id  hpg_genre_name                  hpg_area_name  \\\n",
       "0  hpg_6622b62385aec8bf  Japanese style  Tōkyō-to Setagaya-ku Taishidō   \n",
       "1  hpg_e9e068dd49c5fa00  Japanese style  Tōkyō-to Setagaya-ku Taishidō   \n",
       "2  hpg_2976f7acb4b3a3bc  Japanese style  Tōkyō-to Setagaya-ku Taishidō   \n",
       "3  hpg_e51a522e098f024c  Japanese style  Tōkyō-to Setagaya-ku Taishidō   \n",
       "4  hpg_e3d0e1519894f275  Japanese style  Tōkyō-to Setagaya-ku Taishidō   \n",
       "\n",
       "    latitude   longitude  \n",
       "0  35.643675  139.668221  \n",
       "1  35.643675  139.668221  \n",
       "2  35.643675  139.668221  \n",
       "3  35.643675  139.668221  \n",
       "4  35.643675  139.668221  "
      ]
     },
     "execution_count": 9,
     "metadata": {},
     "output_type": "execute_result"
    }
   ],
   "source": [
    "print(hpg_store_info.shape)\n",
    "hpg_store_info.head()"
   ]
  },
  {
   "cell_type": "code",
   "execution_count": 10,
   "id": "8b8cc94f",
   "metadata": {
    "execution": {
     "iopub.execute_input": "2021-08-05T04:53:31.308322Z",
     "iopub.status.busy": "2021-08-05T04:53:31.307593Z",
     "iopub.status.idle": "2021-08-05T04:53:31.320322Z",
     "shell.execute_reply": "2021-08-05T04:53:31.319704Z",
     "shell.execute_reply.started": "2021-08-05T04:29:33.309235Z"
    },
    "papermill": {
     "duration": 0.096642,
     "end_time": "2021-08-05T04:53:31.320472",
     "exception": false,
     "start_time": "2021-08-05T04:53:31.223830",
     "status": "completed"
    },
    "tags": []
   },
   "outputs": [
    {
     "name": "stdout",
     "output_type": "stream",
     "text": [
      "(2000320, 4)\n"
     ]
    },
    {
     "data": {
      "text/html": [
       "<div>\n",
       "<style scoped>\n",
       "    .dataframe tbody tr th:only-of-type {\n",
       "        vertical-align: middle;\n",
       "    }\n",
       "\n",
       "    .dataframe tbody tr th {\n",
       "        vertical-align: top;\n",
       "    }\n",
       "\n",
       "    .dataframe thead th {\n",
       "        text-align: right;\n",
       "    }\n",
       "</style>\n",
       "<table border=\"1\" class=\"dataframe\">\n",
       "  <thead>\n",
       "    <tr style=\"text-align: right;\">\n",
       "      <th></th>\n",
       "      <th>hpg_store_id</th>\n",
       "      <th>visit_datetime</th>\n",
       "      <th>reserve_datetime</th>\n",
       "      <th>reserve_visitors</th>\n",
       "    </tr>\n",
       "  </thead>\n",
       "  <tbody>\n",
       "    <tr>\n",
       "      <th>0</th>\n",
       "      <td>hpg_c63f6f42e088e50f</td>\n",
       "      <td>2016-01-01 11:00:00</td>\n",
       "      <td>2016-01-01 09:00:00</td>\n",
       "      <td>1</td>\n",
       "    </tr>\n",
       "    <tr>\n",
       "      <th>1</th>\n",
       "      <td>hpg_dac72789163a3f47</td>\n",
       "      <td>2016-01-01 13:00:00</td>\n",
       "      <td>2016-01-01 06:00:00</td>\n",
       "      <td>3</td>\n",
       "    </tr>\n",
       "    <tr>\n",
       "      <th>2</th>\n",
       "      <td>hpg_c8e24dcf51ca1eb5</td>\n",
       "      <td>2016-01-01 16:00:00</td>\n",
       "      <td>2016-01-01 14:00:00</td>\n",
       "      <td>2</td>\n",
       "    </tr>\n",
       "    <tr>\n",
       "      <th>3</th>\n",
       "      <td>hpg_24bb207e5fd49d4a</td>\n",
       "      <td>2016-01-01 17:00:00</td>\n",
       "      <td>2016-01-01 11:00:00</td>\n",
       "      <td>5</td>\n",
       "    </tr>\n",
       "    <tr>\n",
       "      <th>4</th>\n",
       "      <td>hpg_25291c542ebb3bc2</td>\n",
       "      <td>2016-01-01 17:00:00</td>\n",
       "      <td>2016-01-01 03:00:00</td>\n",
       "      <td>13</td>\n",
       "    </tr>\n",
       "  </tbody>\n",
       "</table>\n",
       "</div>"
      ],
      "text/plain": [
       "           hpg_store_id       visit_datetime     reserve_datetime  \\\n",
       "0  hpg_c63f6f42e088e50f  2016-01-01 11:00:00  2016-01-01 09:00:00   \n",
       "1  hpg_dac72789163a3f47  2016-01-01 13:00:00  2016-01-01 06:00:00   \n",
       "2  hpg_c8e24dcf51ca1eb5  2016-01-01 16:00:00  2016-01-01 14:00:00   \n",
       "3  hpg_24bb207e5fd49d4a  2016-01-01 17:00:00  2016-01-01 11:00:00   \n",
       "4  hpg_25291c542ebb3bc2  2016-01-01 17:00:00  2016-01-01 03:00:00   \n",
       "\n",
       "   reserve_visitors  \n",
       "0                 1  \n",
       "1                 3  \n",
       "2                 2  \n",
       "3                 5  \n",
       "4                13  "
      ]
     },
     "execution_count": 10,
     "metadata": {},
     "output_type": "execute_result"
    }
   ],
   "source": [
    "print(hpg_reserve.shape)\n",
    "hpg_reserve.head()"
   ]
  },
  {
   "cell_type": "code",
   "execution_count": 11,
   "id": "716773fe",
   "metadata": {
    "execution": {
     "iopub.execute_input": "2021-08-05T04:53:31.489551Z",
     "iopub.status.busy": "2021-08-05T04:53:31.488918Z",
     "iopub.status.idle": "2021-08-05T04:53:32.036118Z",
     "shell.execute_reply": "2021-08-05T04:53:32.035488Z",
     "shell.execute_reply.started": "2021-08-05T04:29:33.326748Z"
    },
    "papermill": {
     "duration": 0.632233,
     "end_time": "2021-08-05T04:53:32.036273",
     "exception": false,
     "start_time": "2021-08-05T04:53:31.404040",
     "status": "completed"
    },
    "tags": []
   },
   "outputs": [
    {
     "data": {
      "text/plain": [
       "13325"
      ]
     },
     "execution_count": 11,
     "metadata": {},
     "output_type": "execute_result"
    }
   ],
   "source": [
    "#hpg로 예약 가능한 식당 수\n",
    "hpg_reserve.hpg_store_id.nunique()"
   ]
  },
  {
   "cell_type": "code",
   "execution_count": 12,
   "id": "86a0e306",
   "metadata": {
    "execution": {
     "iopub.execute_input": "2021-08-05T04:53:32.211937Z",
     "iopub.status.busy": "2021-08-05T04:53:32.210972Z",
     "iopub.status.idle": "2021-08-05T04:53:32.215751Z",
     "shell.execute_reply": "2021-08-05T04:53:32.215263Z",
     "shell.execute_reply.started": "2021-08-05T04:29:33.890722Z"
    },
    "papermill": {
     "duration": 0.09687,
     "end_time": "2021-08-05T04:53:32.215885",
     "exception": false,
     "start_time": "2021-08-05T04:53:32.119015",
     "status": "completed"
    },
    "tags": []
   },
   "outputs": [
    {
     "name": "stdout",
     "output_type": "stream",
     "text": [
      "(517, 3)\n"
     ]
    },
    {
     "data": {
      "text/html": [
       "<div>\n",
       "<style scoped>\n",
       "    .dataframe tbody tr th:only-of-type {\n",
       "        vertical-align: middle;\n",
       "    }\n",
       "\n",
       "    .dataframe tbody tr th {\n",
       "        vertical-align: top;\n",
       "    }\n",
       "\n",
       "    .dataframe thead th {\n",
       "        text-align: right;\n",
       "    }\n",
       "</style>\n",
       "<table border=\"1\" class=\"dataframe\">\n",
       "  <thead>\n",
       "    <tr style=\"text-align: right;\">\n",
       "      <th></th>\n",
       "      <th>calendar_date</th>\n",
       "      <th>day_of_week</th>\n",
       "      <th>holiday_flg</th>\n",
       "    </tr>\n",
       "  </thead>\n",
       "  <tbody>\n",
       "    <tr>\n",
       "      <th>0</th>\n",
       "      <td>2016-01-01</td>\n",
       "      <td>Friday</td>\n",
       "      <td>1</td>\n",
       "    </tr>\n",
       "    <tr>\n",
       "      <th>1</th>\n",
       "      <td>2016-01-02</td>\n",
       "      <td>Saturday</td>\n",
       "      <td>1</td>\n",
       "    </tr>\n",
       "    <tr>\n",
       "      <th>2</th>\n",
       "      <td>2016-01-03</td>\n",
       "      <td>Sunday</td>\n",
       "      <td>1</td>\n",
       "    </tr>\n",
       "    <tr>\n",
       "      <th>3</th>\n",
       "      <td>2016-01-04</td>\n",
       "      <td>Monday</td>\n",
       "      <td>0</td>\n",
       "    </tr>\n",
       "    <tr>\n",
       "      <th>4</th>\n",
       "      <td>2016-01-05</td>\n",
       "      <td>Tuesday</td>\n",
       "      <td>0</td>\n",
       "    </tr>\n",
       "  </tbody>\n",
       "</table>\n",
       "</div>"
      ],
      "text/plain": [
       "  calendar_date day_of_week  holiday_flg\n",
       "0    2016-01-01      Friday            1\n",
       "1    2016-01-02    Saturday            1\n",
       "2    2016-01-03      Sunday            1\n",
       "3    2016-01-04      Monday            0\n",
       "4    2016-01-05     Tuesday            0"
      ]
     },
     "execution_count": 12,
     "metadata": {},
     "output_type": "execute_result"
    }
   ],
   "source": [
    "print(date_info.shape)\n",
    "date_info.head()"
   ]
  },
  {
   "cell_type": "code",
   "execution_count": 13,
   "id": "8fa58c4e",
   "metadata": {
    "execution": {
     "iopub.execute_input": "2021-08-05T04:53:32.393470Z",
     "iopub.status.busy": "2021-08-05T04:53:32.392494Z",
     "iopub.status.idle": "2021-08-05T04:53:32.397808Z",
     "shell.execute_reply": "2021-08-05T04:53:32.397310Z",
     "shell.execute_reply.started": "2021-08-05T04:29:33.904731Z"
    },
    "papermill": {
     "duration": 0.098166,
     "end_time": "2021-08-05T04:53:32.397944",
     "exception": false,
     "start_time": "2021-08-05T04:53:32.299778",
     "status": "completed"
    },
    "tags": []
   },
   "outputs": [
    {
     "name": "stdout",
     "output_type": "stream",
     "text": [
      "(150, 2)\n"
     ]
    },
    {
     "data": {
      "text/html": [
       "<div>\n",
       "<style scoped>\n",
       "    .dataframe tbody tr th:only-of-type {\n",
       "        vertical-align: middle;\n",
       "    }\n",
       "\n",
       "    .dataframe tbody tr th {\n",
       "        vertical-align: top;\n",
       "    }\n",
       "\n",
       "    .dataframe thead th {\n",
       "        text-align: right;\n",
       "    }\n",
       "</style>\n",
       "<table border=\"1\" class=\"dataframe\">\n",
       "  <thead>\n",
       "    <tr style=\"text-align: right;\">\n",
       "      <th></th>\n",
       "      <th>air_store_id</th>\n",
       "      <th>hpg_store_id</th>\n",
       "    </tr>\n",
       "  </thead>\n",
       "  <tbody>\n",
       "    <tr>\n",
       "      <th>0</th>\n",
       "      <td>air_63b13c56b7201bd9</td>\n",
       "      <td>hpg_4bc649e72e2a239a</td>\n",
       "    </tr>\n",
       "    <tr>\n",
       "      <th>1</th>\n",
       "      <td>air_a24bf50c3e90d583</td>\n",
       "      <td>hpg_c34b496d0305a809</td>\n",
       "    </tr>\n",
       "    <tr>\n",
       "      <th>2</th>\n",
       "      <td>air_c7f78b4f3cba33ff</td>\n",
       "      <td>hpg_cd8ae0d9bbd58ff9</td>\n",
       "    </tr>\n",
       "    <tr>\n",
       "      <th>3</th>\n",
       "      <td>air_947eb2cae4f3e8f2</td>\n",
       "      <td>hpg_de24ea49dc25d6b8</td>\n",
       "    </tr>\n",
       "    <tr>\n",
       "      <th>4</th>\n",
       "      <td>air_965b2e0cf4119003</td>\n",
       "      <td>hpg_653238a84804d8e7</td>\n",
       "    </tr>\n",
       "  </tbody>\n",
       "</table>\n",
       "</div>"
      ],
      "text/plain": [
       "           air_store_id          hpg_store_id\n",
       "0  air_63b13c56b7201bd9  hpg_4bc649e72e2a239a\n",
       "1  air_a24bf50c3e90d583  hpg_c34b496d0305a809\n",
       "2  air_c7f78b4f3cba33ff  hpg_cd8ae0d9bbd58ff9\n",
       "3  air_947eb2cae4f3e8f2  hpg_de24ea49dc25d6b8\n",
       "4  air_965b2e0cf4119003  hpg_653238a84804d8e7"
      ]
     },
     "execution_count": 13,
     "metadata": {},
     "output_type": "execute_result"
    }
   ],
   "source": [
    "print(store_id_relation.shape)\n",
    "store_id_relation.head()"
   ]
  },
  {
   "cell_type": "code",
   "execution_count": 14,
   "id": "12183335",
   "metadata": {
    "execution": {
     "iopub.execute_input": "2021-08-05T04:53:32.571482Z",
     "iopub.status.busy": "2021-08-05T04:53:32.570693Z",
     "iopub.status.idle": "2021-08-05T04:53:32.574142Z",
     "shell.execute_reply": "2021-08-05T04:53:32.573540Z",
     "shell.execute_reply.started": "2021-08-05T04:29:33.925446Z"
    },
    "papermill": {
     "duration": 0.092796,
     "end_time": "2021-08-05T04:53:32.574287",
     "exception": false,
     "start_time": "2021-08-05T04:53:32.481491",
     "status": "completed"
    },
    "tags": []
   },
   "outputs": [
    {
     "data": {
      "text/plain": [
       "150"
      ]
     },
     "execution_count": 14,
     "metadata": {},
     "output_type": "execute_result"
    }
   ],
   "source": [
    "#id, hpg 둘 다 사용가능한 식당 수 \n",
    "store_id_relation.air_store_id.nunique()"
   ]
  },
  {
   "cell_type": "code",
   "execution_count": 15,
   "id": "06e03aed",
   "metadata": {
    "execution": {
     "iopub.execute_input": "2021-08-05T04:53:32.755686Z",
     "iopub.status.busy": "2021-08-05T04:53:32.754859Z",
     "iopub.status.idle": "2021-08-05T04:53:32.759997Z",
     "shell.execute_reply": "2021-08-05T04:53:32.760507Z",
     "shell.execute_reply.started": "2021-08-05T04:29:33.938592Z"
    },
    "papermill": {
     "duration": 0.101398,
     "end_time": "2021-08-05T04:53:32.760672",
     "exception": false,
     "start_time": "2021-08-05T04:53:32.659274",
     "status": "completed"
    },
    "tags": []
   },
   "outputs": [
    {
     "name": "stdout",
     "output_type": "stream",
     "text": [
      "(32019, 2)\n"
     ]
    },
    {
     "data": {
      "text/html": [
       "<div>\n",
       "<style scoped>\n",
       "    .dataframe tbody tr th:only-of-type {\n",
       "        vertical-align: middle;\n",
       "    }\n",
       "\n",
       "    .dataframe tbody tr th {\n",
       "        vertical-align: top;\n",
       "    }\n",
       "\n",
       "    .dataframe thead th {\n",
       "        text-align: right;\n",
       "    }\n",
       "</style>\n",
       "<table border=\"1\" class=\"dataframe\">\n",
       "  <thead>\n",
       "    <tr style=\"text-align: right;\">\n",
       "      <th></th>\n",
       "      <th>id</th>\n",
       "      <th>visitors</th>\n",
       "    </tr>\n",
       "  </thead>\n",
       "  <tbody>\n",
       "    <tr>\n",
       "      <th>0</th>\n",
       "      <td>air_00a91d42b08b08d9_2017-04-23</td>\n",
       "      <td>0</td>\n",
       "    </tr>\n",
       "    <tr>\n",
       "      <th>1</th>\n",
       "      <td>air_00a91d42b08b08d9_2017-04-24</td>\n",
       "      <td>0</td>\n",
       "    </tr>\n",
       "    <tr>\n",
       "      <th>2</th>\n",
       "      <td>air_00a91d42b08b08d9_2017-04-25</td>\n",
       "      <td>0</td>\n",
       "    </tr>\n",
       "    <tr>\n",
       "      <th>3</th>\n",
       "      <td>air_00a91d42b08b08d9_2017-04-26</td>\n",
       "      <td>0</td>\n",
       "    </tr>\n",
       "    <tr>\n",
       "      <th>4</th>\n",
       "      <td>air_00a91d42b08b08d9_2017-04-27</td>\n",
       "      <td>0</td>\n",
       "    </tr>\n",
       "    <tr>\n",
       "      <th>...</th>\n",
       "      <td>...</td>\n",
       "      <td>...</td>\n",
       "    </tr>\n",
       "    <tr>\n",
       "      <th>32014</th>\n",
       "      <td>air_fff68b929994bfbd_2017-05-27</td>\n",
       "      <td>0</td>\n",
       "    </tr>\n",
       "    <tr>\n",
       "      <th>32015</th>\n",
       "      <td>air_fff68b929994bfbd_2017-05-28</td>\n",
       "      <td>0</td>\n",
       "    </tr>\n",
       "    <tr>\n",
       "      <th>32016</th>\n",
       "      <td>air_fff68b929994bfbd_2017-05-29</td>\n",
       "      <td>0</td>\n",
       "    </tr>\n",
       "    <tr>\n",
       "      <th>32017</th>\n",
       "      <td>air_fff68b929994bfbd_2017-05-30</td>\n",
       "      <td>0</td>\n",
       "    </tr>\n",
       "    <tr>\n",
       "      <th>32018</th>\n",
       "      <td>air_fff68b929994bfbd_2017-05-31</td>\n",
       "      <td>0</td>\n",
       "    </tr>\n",
       "  </tbody>\n",
       "</table>\n",
       "<p>32019 rows × 2 columns</p>\n",
       "</div>"
      ],
      "text/plain": [
       "                                    id  visitors\n",
       "0      air_00a91d42b08b08d9_2017-04-23         0\n",
       "1      air_00a91d42b08b08d9_2017-04-24         0\n",
       "2      air_00a91d42b08b08d9_2017-04-25         0\n",
       "3      air_00a91d42b08b08d9_2017-04-26         0\n",
       "4      air_00a91d42b08b08d9_2017-04-27         0\n",
       "...                                ...       ...\n",
       "32014  air_fff68b929994bfbd_2017-05-27         0\n",
       "32015  air_fff68b929994bfbd_2017-05-28         0\n",
       "32016  air_fff68b929994bfbd_2017-05-29         0\n",
       "32017  air_fff68b929994bfbd_2017-05-30         0\n",
       "32018  air_fff68b929994bfbd_2017-05-31         0\n",
       "\n",
       "[32019 rows x 2 columns]"
      ]
     },
     "execution_count": 15,
     "metadata": {},
     "output_type": "execute_result"
    }
   ],
   "source": [
    "#target 확인\n",
    "print(sample_sub.shape)\n",
    "sample_sub"
   ]
  },
  {
   "cell_type": "code",
   "execution_count": 16,
   "id": "c802ec38",
   "metadata": {
    "execution": {
     "iopub.execute_input": "2021-08-05T04:53:32.946261Z",
     "iopub.status.busy": "2021-08-05T04:53:32.941569Z",
     "iopub.status.idle": "2021-08-05T04:53:33.080164Z",
     "shell.execute_reply": "2021-08-05T04:53:33.080654Z",
     "shell.execute_reply.started": "2021-08-05T04:29:33.961916Z"
    },
    "papermill": {
     "duration": 0.234661,
     "end_time": "2021-08-05T04:53:33.080832",
     "exception": false,
     "start_time": "2021-08-05T04:53:32.846171",
     "status": "completed"
    },
    "tags": []
   },
   "outputs": [
    {
     "data": {
      "text/html": [
       "<div>\n",
       "<style scoped>\n",
       "    .dataframe tbody tr th:only-of-type {\n",
       "        vertical-align: middle;\n",
       "    }\n",
       "\n",
       "    .dataframe tbody tr th {\n",
       "        vertical-align: top;\n",
       "    }\n",
       "\n",
       "    .dataframe thead th {\n",
       "        text-align: right;\n",
       "    }\n",
       "</style>\n",
       "<table border=\"1\" class=\"dataframe\">\n",
       "  <thead>\n",
       "    <tr style=\"text-align: right;\">\n",
       "      <th></th>\n",
       "      <th>id</th>\n",
       "      <th>air_store_id</th>\n",
       "      <th>visit_date</th>\n",
       "      <th>visitors</th>\n",
       "    </tr>\n",
       "  </thead>\n",
       "  <tbody>\n",
       "    <tr>\n",
       "      <th>0</th>\n",
       "      <td>air_00a91d42b08b08d9_2017-04-23</td>\n",
       "      <td>air_00a91d42b08b08d9</td>\n",
       "      <td>2017-04-23</td>\n",
       "      <td>0</td>\n",
       "    </tr>\n",
       "    <tr>\n",
       "      <th>1</th>\n",
       "      <td>air_00a91d42b08b08d9_2017-04-24</td>\n",
       "      <td>air_00a91d42b08b08d9</td>\n",
       "      <td>2017-04-24</td>\n",
       "      <td>0</td>\n",
       "    </tr>\n",
       "    <tr>\n",
       "      <th>2</th>\n",
       "      <td>air_00a91d42b08b08d9_2017-04-25</td>\n",
       "      <td>air_00a91d42b08b08d9</td>\n",
       "      <td>2017-04-25</td>\n",
       "      <td>0</td>\n",
       "    </tr>\n",
       "    <tr>\n",
       "      <th>3</th>\n",
       "      <td>air_00a91d42b08b08d9_2017-04-26</td>\n",
       "      <td>air_00a91d42b08b08d9</td>\n",
       "      <td>2017-04-26</td>\n",
       "      <td>0</td>\n",
       "    </tr>\n",
       "    <tr>\n",
       "      <th>4</th>\n",
       "      <td>air_00a91d42b08b08d9_2017-04-27</td>\n",
       "      <td>air_00a91d42b08b08d9</td>\n",
       "      <td>2017-04-27</td>\n",
       "      <td>0</td>\n",
       "    </tr>\n",
       "  </tbody>\n",
       "</table>\n",
       "</div>"
      ],
      "text/plain": [
       "                                id          air_store_id visit_date  visitors\n",
       "0  air_00a91d42b08b08d9_2017-04-23  air_00a91d42b08b08d9 2017-04-23         0\n",
       "1  air_00a91d42b08b08d9_2017-04-24  air_00a91d42b08b08d9 2017-04-24         0\n",
       "2  air_00a91d42b08b08d9_2017-04-25  air_00a91d42b08b08d9 2017-04-25         0\n",
       "3  air_00a91d42b08b08d9_2017-04-26  air_00a91d42b08b08d9 2017-04-26         0\n",
       "4  air_00a91d42b08b08d9_2017-04-27  air_00a91d42b08b08d9 2017-04-27         0"
      ]
     },
     "execution_count": 16,
     "metadata": {},
     "output_type": "execute_result"
    }
   ],
   "source": [
    "#target에서 id에 있는 air_store_id, date 분리\n",
    "\n",
    "id_split = sample_sub['id'].str.split('_', expand=True)\n",
    "id_split.columns = ['source', 'store_id', 'visit_date']\n",
    "\n",
    "sample_sub = pd.concat([sample_sub, id_split], axis=1)\n",
    "\n",
    "sample_sub['air_store_id']=sample_sub['source'].str.cat(sample_sub['store_id'], sep='_')\n",
    "sample_sub = sample_sub[['id', 'air_store_id', 'visit_date', 'visitors']]\n",
    "sample_sub['visit_date'] = pd.to_datetime(sample_sub['visit_date'])\n",
    "\n",
    "sample_sub.head()"
   ]
  },
  {
   "cell_type": "code",
   "execution_count": 17,
   "id": "ecabe2d5",
   "metadata": {
    "execution": {
     "iopub.execute_input": "2021-08-05T04:53:33.263658Z",
     "iopub.status.busy": "2021-08-05T04:53:33.260431Z",
     "iopub.status.idle": "2021-08-05T04:53:33.270131Z",
     "shell.execute_reply": "2021-08-05T04:53:33.269481Z",
     "shell.execute_reply.started": "2021-08-05T04:29:34.108253Z"
    },
    "papermill": {
     "duration": 0.10412,
     "end_time": "2021-08-05T04:53:33.270305",
     "exception": false,
     "start_time": "2021-08-05T04:53:33.166185",
     "status": "completed"
    },
    "tags": []
   },
   "outputs": [
    {
     "data": {
      "text/plain": [
       "821"
      ]
     },
     "execution_count": 17,
     "metadata": {},
     "output_type": "execute_result"
    }
   ],
   "source": [
    "#tartget에 있는 stores 수\n",
    "sample_sub.air_store_id.nunique()"
   ]
  },
  {
   "cell_type": "code",
   "execution_count": 18,
   "id": "5d0489fb",
   "metadata": {
    "execution": {
     "iopub.execute_input": "2021-08-05T04:53:33.447685Z",
     "iopub.status.busy": "2021-08-05T04:53:33.447006Z",
     "iopub.status.idle": "2021-08-05T04:53:33.608177Z",
     "shell.execute_reply": "2021-08-05T04:53:33.608741Z",
     "shell.execute_reply.started": "2021-08-05T04:29:34.128450Z"
    },
    "papermill": {
     "duration": 0.251472,
     "end_time": "2021-08-05T04:53:33.608927",
     "exception": false,
     "start_time": "2021-08-05T04:53:33.357455",
     "status": "completed"
    },
    "tags": []
   },
   "outputs": [],
   "source": [
    "air_visit_data['id'] = air_visit_data['air_store_id'].str.cat(air_visit_data['visit_date'].astype(str), sep='_')"
   ]
  },
  {
   "cell_type": "code",
   "execution_count": 19,
   "id": "58e35839",
   "metadata": {
    "execution": {
     "iopub.execute_input": "2021-08-05T04:53:33.784386Z",
     "iopub.status.busy": "2021-08-05T04:53:33.783761Z",
     "iopub.status.idle": "2021-08-05T04:53:34.048553Z",
     "shell.execute_reply": "2021-08-05T04:53:34.047961Z",
     "shell.execute_reply.started": "2021-08-05T04:29:34.313566Z"
    },
    "papermill": {
     "duration": 0.35281,
     "end_time": "2021-08-05T04:53:34.048765",
     "exception": false,
     "start_time": "2021-08-05T04:53:33.695955",
     "status": "completed"
    },
    "tags": []
   },
   "outputs": [],
   "source": [
    "train_dt = pd.concat([air_visit_data, sample_sub], axis=0, keys=['past','future'], names=['dataset']).reset_index(level='dataset').reset_index(drop=True)"
   ]
  },
  {
   "cell_type": "code",
   "execution_count": 20,
   "id": "38c81bb3",
   "metadata": {
    "execution": {
     "iopub.execute_input": "2021-08-05T04:53:34.313883Z",
     "iopub.status.busy": "2021-08-05T04:53:34.285524Z",
     "iopub.status.idle": "2021-08-05T04:53:34.360802Z",
     "shell.execute_reply": "2021-08-05T04:53:34.360181Z",
     "shell.execute_reply.started": "2021-08-05T04:29:34.625060Z"
    },
    "papermill": {
     "duration": 0.224335,
     "end_time": "2021-08-05T04:53:34.360940",
     "exception": false,
     "start_time": "2021-08-05T04:53:34.136605",
     "status": "completed"
    },
    "tags": []
   },
   "outputs": [
    {
     "name": "stdout",
     "output_type": "stream",
     "text": [
      "<class 'pandas.core.frame.DataFrame'>\n",
      "RangeIndex: 284127 entries, 0 to 284126\n",
      "Data columns (total 5 columns):\n",
      " #   Column        Non-Null Count   Dtype \n",
      "---  ------        --------------   ----- \n",
      " 0   dataset       284127 non-null  object\n",
      " 1   air_store_id  284127 non-null  object\n",
      " 2   visit_date    284127 non-null  object\n",
      " 3   visitors      284127 non-null  int64 \n",
      " 4   id            284127 non-null  object\n",
      "dtypes: int64(1), object(4)\n",
      "memory usage: 10.8+ MB\n"
     ]
    }
   ],
   "source": [
    "train_dt.info()"
   ]
  },
  {
   "cell_type": "code",
   "execution_count": 21,
   "id": "b3d4c475",
   "metadata": {
    "execution": {
     "iopub.execute_input": "2021-08-05T04:53:34.550722Z",
     "iopub.status.busy": "2021-08-05T04:53:34.549752Z",
     "iopub.status.idle": "2021-08-05T04:53:34.553720Z",
     "shell.execute_reply": "2021-08-05T04:53:34.554167Z",
     "shell.execute_reply.started": "2021-08-05T04:29:34.762495Z"
    },
    "papermill": {
     "duration": 0.106853,
     "end_time": "2021-08-05T04:53:34.554366",
     "exception": false,
     "start_time": "2021-08-05T04:53:34.447513",
     "status": "completed"
    },
    "tags": []
   },
   "outputs": [
    {
     "data": {
      "text/html": [
       "<div>\n",
       "<style scoped>\n",
       "    .dataframe tbody tr th:only-of-type {\n",
       "        vertical-align: middle;\n",
       "    }\n",
       "\n",
       "    .dataframe tbody tr th {\n",
       "        vertical-align: top;\n",
       "    }\n",
       "\n",
       "    .dataframe thead th {\n",
       "        text-align: right;\n",
       "    }\n",
       "</style>\n",
       "<table border=\"1\" class=\"dataframe\">\n",
       "  <thead>\n",
       "    <tr style=\"text-align: right;\">\n",
       "      <th></th>\n",
       "      <th>dataset</th>\n",
       "      <th>air_store_id</th>\n",
       "      <th>visit_date</th>\n",
       "      <th>visitors</th>\n",
       "      <th>id</th>\n",
       "    </tr>\n",
       "  </thead>\n",
       "  <tbody>\n",
       "    <tr>\n",
       "      <th>0</th>\n",
       "      <td>past</td>\n",
       "      <td>air_ba937bf13d40fb24</td>\n",
       "      <td>2016-01-13</td>\n",
       "      <td>25</td>\n",
       "      <td>air_ba937bf13d40fb24_2016-01-13</td>\n",
       "    </tr>\n",
       "    <tr>\n",
       "      <th>1</th>\n",
       "      <td>past</td>\n",
       "      <td>air_ba937bf13d40fb24</td>\n",
       "      <td>2016-01-14</td>\n",
       "      <td>32</td>\n",
       "      <td>air_ba937bf13d40fb24_2016-01-14</td>\n",
       "    </tr>\n",
       "    <tr>\n",
       "      <th>2</th>\n",
       "      <td>past</td>\n",
       "      <td>air_ba937bf13d40fb24</td>\n",
       "      <td>2016-01-15</td>\n",
       "      <td>29</td>\n",
       "      <td>air_ba937bf13d40fb24_2016-01-15</td>\n",
       "    </tr>\n",
       "    <tr>\n",
       "      <th>3</th>\n",
       "      <td>past</td>\n",
       "      <td>air_ba937bf13d40fb24</td>\n",
       "      <td>2016-01-16</td>\n",
       "      <td>22</td>\n",
       "      <td>air_ba937bf13d40fb24_2016-01-16</td>\n",
       "    </tr>\n",
       "    <tr>\n",
       "      <th>4</th>\n",
       "      <td>past</td>\n",
       "      <td>air_ba937bf13d40fb24</td>\n",
       "      <td>2016-01-18</td>\n",
       "      <td>6</td>\n",
       "      <td>air_ba937bf13d40fb24_2016-01-18</td>\n",
       "    </tr>\n",
       "    <tr>\n",
       "      <th>...</th>\n",
       "      <td>...</td>\n",
       "      <td>...</td>\n",
       "      <td>...</td>\n",
       "      <td>...</td>\n",
       "      <td>...</td>\n",
       "    </tr>\n",
       "    <tr>\n",
       "      <th>284122</th>\n",
       "      <td>future</td>\n",
       "      <td>air_fff68b929994bfbd</td>\n",
       "      <td>2017-05-27 00:00:00</td>\n",
       "      <td>0</td>\n",
       "      <td>air_fff68b929994bfbd_2017-05-27</td>\n",
       "    </tr>\n",
       "    <tr>\n",
       "      <th>284123</th>\n",
       "      <td>future</td>\n",
       "      <td>air_fff68b929994bfbd</td>\n",
       "      <td>2017-05-28 00:00:00</td>\n",
       "      <td>0</td>\n",
       "      <td>air_fff68b929994bfbd_2017-05-28</td>\n",
       "    </tr>\n",
       "    <tr>\n",
       "      <th>284124</th>\n",
       "      <td>future</td>\n",
       "      <td>air_fff68b929994bfbd</td>\n",
       "      <td>2017-05-29 00:00:00</td>\n",
       "      <td>0</td>\n",
       "      <td>air_fff68b929994bfbd_2017-05-29</td>\n",
       "    </tr>\n",
       "    <tr>\n",
       "      <th>284125</th>\n",
       "      <td>future</td>\n",
       "      <td>air_fff68b929994bfbd</td>\n",
       "      <td>2017-05-30 00:00:00</td>\n",
       "      <td>0</td>\n",
       "      <td>air_fff68b929994bfbd_2017-05-30</td>\n",
       "    </tr>\n",
       "    <tr>\n",
       "      <th>284126</th>\n",
       "      <td>future</td>\n",
       "      <td>air_fff68b929994bfbd</td>\n",
       "      <td>2017-05-31 00:00:00</td>\n",
       "      <td>0</td>\n",
       "      <td>air_fff68b929994bfbd_2017-05-31</td>\n",
       "    </tr>\n",
       "  </tbody>\n",
       "</table>\n",
       "<p>284127 rows × 5 columns</p>\n",
       "</div>"
      ],
      "text/plain": [
       "       dataset          air_store_id           visit_date  visitors  \\\n",
       "0         past  air_ba937bf13d40fb24           2016-01-13        25   \n",
       "1         past  air_ba937bf13d40fb24           2016-01-14        32   \n",
       "2         past  air_ba937bf13d40fb24           2016-01-15        29   \n",
       "3         past  air_ba937bf13d40fb24           2016-01-16        22   \n",
       "4         past  air_ba937bf13d40fb24           2016-01-18         6   \n",
       "...        ...                   ...                  ...       ...   \n",
       "284122  future  air_fff68b929994bfbd  2017-05-27 00:00:00         0   \n",
       "284123  future  air_fff68b929994bfbd  2017-05-28 00:00:00         0   \n",
       "284124  future  air_fff68b929994bfbd  2017-05-29 00:00:00         0   \n",
       "284125  future  air_fff68b929994bfbd  2017-05-30 00:00:00         0   \n",
       "284126  future  air_fff68b929994bfbd  2017-05-31 00:00:00         0   \n",
       "\n",
       "                                     id  \n",
       "0       air_ba937bf13d40fb24_2016-01-13  \n",
       "1       air_ba937bf13d40fb24_2016-01-14  \n",
       "2       air_ba937bf13d40fb24_2016-01-15  \n",
       "3       air_ba937bf13d40fb24_2016-01-16  \n",
       "4       air_ba937bf13d40fb24_2016-01-18  \n",
       "...                                 ...  \n",
       "284122  air_fff68b929994bfbd_2017-05-27  \n",
       "284123  air_fff68b929994bfbd_2017-05-28  \n",
       "284124  air_fff68b929994bfbd_2017-05-29  \n",
       "284125  air_fff68b929994bfbd_2017-05-30  \n",
       "284126  air_fff68b929994bfbd_2017-05-31  \n",
       "\n",
       "[284127 rows x 5 columns]"
      ]
     },
     "execution_count": 21,
     "metadata": {},
     "output_type": "execute_result"
    }
   ],
   "source": [
    "train_dt"
   ]
  },
  {
   "cell_type": "code",
   "execution_count": 22,
   "id": "878f4a97",
   "metadata": {
    "execution": {
     "iopub.execute_input": "2021-08-05T04:53:34.735366Z",
     "iopub.status.busy": "2021-08-05T04:53:34.734403Z",
     "iopub.status.idle": "2021-08-05T04:53:34.744767Z",
     "shell.execute_reply": "2021-08-05T04:53:34.745207Z",
     "shell.execute_reply.started": "2021-08-05T04:29:34.786708Z"
    },
    "papermill": {
     "duration": 0.100211,
     "end_time": "2021-08-05T04:53:34.745401",
     "exception": false,
     "start_time": "2021-08-05T04:53:34.645190",
     "status": "completed"
    },
    "tags": []
   },
   "outputs": [
    {
     "data": {
      "text/plain": [
       "True"
      ]
     },
     "execution_count": 22,
     "metadata": {},
     "output_type": "execute_result"
    }
   ],
   "source": [
    "#air, hpg store info, reserve 병합\n",
    "\n",
    "#target의 store id가 air_store_id에 있는지 확인\n",
    "sample_sub.air_store_id.isin(air_store_info.air_store_id).all()"
   ]
  },
  {
   "cell_type": "code",
   "execution_count": 23,
   "id": "062a4ba7",
   "metadata": {
    "execution": {
     "iopub.execute_input": "2021-08-05T04:53:34.923901Z",
     "iopub.status.busy": "2021-08-05T04:53:34.922855Z",
     "iopub.status.idle": "2021-08-05T04:53:34.948504Z",
     "shell.execute_reply": "2021-08-05T04:53:34.949204Z",
     "shell.execute_reply.started": "2021-08-05T04:29:34.803821Z"
    },
    "papermill": {
     "duration": 0.116272,
     "end_time": "2021-08-05T04:53:34.949440",
     "exception": false,
     "start_time": "2021-08-05T04:53:34.833168",
     "status": "completed"
    },
    "tags": []
   },
   "outputs": [
    {
     "name": "stdout",
     "output_type": "stream",
     "text": [
      "(829, 6)\n"
     ]
    },
    {
     "data": {
      "text/html": [
       "<div>\n",
       "<style scoped>\n",
       "    .dataframe tbody tr th:only-of-type {\n",
       "        vertical-align: middle;\n",
       "    }\n",
       "\n",
       "    .dataframe tbody tr th {\n",
       "        vertical-align: top;\n",
       "    }\n",
       "\n",
       "    .dataframe thead th {\n",
       "        text-align: right;\n",
       "    }\n",
       "</style>\n",
       "<table border=\"1\" class=\"dataframe\">\n",
       "  <thead>\n",
       "    <tr style=\"text-align: right;\">\n",
       "      <th></th>\n",
       "      <th>air_store_id</th>\n",
       "      <th>air_genre_name</th>\n",
       "      <th>air_area_name</th>\n",
       "      <th>latitude</th>\n",
       "      <th>longitude</th>\n",
       "      <th>hpg_store_id</th>\n",
       "    </tr>\n",
       "  </thead>\n",
       "  <tbody>\n",
       "    <tr>\n",
       "      <th>0</th>\n",
       "      <td>air_0f0cdeee6c9bf3d7</td>\n",
       "      <td>Italian/French</td>\n",
       "      <td>Hyōgo-ken Kōbe-shi Kumoidōri</td>\n",
       "      <td>34.695124</td>\n",
       "      <td>135.197853</td>\n",
       "      <td>NaN</td>\n",
       "    </tr>\n",
       "    <tr>\n",
       "      <th>1</th>\n",
       "      <td>air_7cc17a324ae5c7dc</td>\n",
       "      <td>Italian/French</td>\n",
       "      <td>Hyōgo-ken Kōbe-shi Kumoidōri</td>\n",
       "      <td>34.695124</td>\n",
       "      <td>135.197853</td>\n",
       "      <td>hpg_9b38b9e13da6da27</td>\n",
       "    </tr>\n",
       "    <tr>\n",
       "      <th>2</th>\n",
       "      <td>air_fee8dcf4d619598e</td>\n",
       "      <td>Italian/French</td>\n",
       "      <td>Hyōgo-ken Kōbe-shi Kumoidōri</td>\n",
       "      <td>34.695124</td>\n",
       "      <td>135.197853</td>\n",
       "      <td>NaN</td>\n",
       "    </tr>\n",
       "    <tr>\n",
       "      <th>3</th>\n",
       "      <td>air_a17f0778617c76e2</td>\n",
       "      <td>Italian/French</td>\n",
       "      <td>Hyōgo-ken Kōbe-shi Kumoidōri</td>\n",
       "      <td>34.695124</td>\n",
       "      <td>135.197853</td>\n",
       "      <td>NaN</td>\n",
       "    </tr>\n",
       "    <tr>\n",
       "      <th>4</th>\n",
       "      <td>air_83db5aff8f50478e</td>\n",
       "      <td>Italian/French</td>\n",
       "      <td>Tōkyō-to Minato-ku Shibakōen</td>\n",
       "      <td>35.658068</td>\n",
       "      <td>139.751599</td>\n",
       "      <td>NaN</td>\n",
       "    </tr>\n",
       "  </tbody>\n",
       "</table>\n",
       "</div>"
      ],
      "text/plain": [
       "           air_store_id  air_genre_name                 air_area_name  \\\n",
       "0  air_0f0cdeee6c9bf3d7  Italian/French  Hyōgo-ken Kōbe-shi Kumoidōri   \n",
       "1  air_7cc17a324ae5c7dc  Italian/French  Hyōgo-ken Kōbe-shi Kumoidōri   \n",
       "2  air_fee8dcf4d619598e  Italian/French  Hyōgo-ken Kōbe-shi Kumoidōri   \n",
       "3  air_a17f0778617c76e2  Italian/French  Hyōgo-ken Kōbe-shi Kumoidōri   \n",
       "4  air_83db5aff8f50478e  Italian/French  Tōkyō-to Minato-ku Shibakōen   \n",
       "\n",
       "    latitude   longitude          hpg_store_id  \n",
       "0  34.695124  135.197853                   NaN  \n",
       "1  34.695124  135.197853  hpg_9b38b9e13da6da27  \n",
       "2  34.695124  135.197853                   NaN  \n",
       "3  34.695124  135.197853                   NaN  \n",
       "4  35.658068  139.751599                   NaN  "
      ]
     },
     "execution_count": 23,
     "metadata": {},
     "output_type": "execute_result"
    }
   ],
   "source": [
    "stores_info = pd.merge(air_store_info, store_id_relation, how = 'left', on = 'air_store_id')\n",
    "print(stores_info.shape)\n",
    "stores_info.head()"
   ]
  },
  {
   "cell_type": "code",
   "execution_count": 24,
   "id": "59de8eaa",
   "metadata": {
    "execution": {
     "iopub.execute_input": "2021-08-05T04:53:35.135751Z",
     "iopub.status.busy": "2021-08-05T04:53:35.134530Z",
     "iopub.status.idle": "2021-08-05T04:53:35.160148Z",
     "shell.execute_reply": "2021-08-05T04:53:35.159443Z",
     "shell.execute_reply.started": "2021-08-05T04:29:34.840271Z"
    },
    "papermill": {
     "duration": 0.121411,
     "end_time": "2021-08-05T04:53:35.160356",
     "exception": false,
     "start_time": "2021-08-05T04:53:35.038945",
     "status": "completed"
    },
    "tags": []
   },
   "outputs": [
    {
     "name": "stdout",
     "output_type": "stream",
     "text": [
      "(829, 10)\n"
     ]
    },
    {
     "data": {
      "text/html": [
       "<div>\n",
       "<style scoped>\n",
       "    .dataframe tbody tr th:only-of-type {\n",
       "        vertical-align: middle;\n",
       "    }\n",
       "\n",
       "    .dataframe tbody tr th {\n",
       "        vertical-align: top;\n",
       "    }\n",
       "\n",
       "    .dataframe thead th {\n",
       "        text-align: right;\n",
       "    }\n",
       "</style>\n",
       "<table border=\"1\" class=\"dataframe\">\n",
       "  <thead>\n",
       "    <tr style=\"text-align: right;\">\n",
       "      <th></th>\n",
       "      <th>air_store_id</th>\n",
       "      <th>air_genre_name</th>\n",
       "      <th>air_area_name</th>\n",
       "      <th>latitude_air</th>\n",
       "      <th>longitude_air</th>\n",
       "      <th>hpg_store_id</th>\n",
       "      <th>hpg_genre_name</th>\n",
       "      <th>hpg_area_name</th>\n",
       "      <th>latitude_hpg</th>\n",
       "      <th>longitude_hpg</th>\n",
       "    </tr>\n",
       "  </thead>\n",
       "  <tbody>\n",
       "    <tr>\n",
       "      <th>0</th>\n",
       "      <td>air_0f0cdeee6c9bf3d7</td>\n",
       "      <td>Italian/French</td>\n",
       "      <td>Hyōgo-ken Kōbe-shi Kumoidōri</td>\n",
       "      <td>34.695124</td>\n",
       "      <td>135.197853</td>\n",
       "      <td>NaN</td>\n",
       "      <td>NaN</td>\n",
       "      <td>NaN</td>\n",
       "      <td>NaN</td>\n",
       "      <td>NaN</td>\n",
       "    </tr>\n",
       "    <tr>\n",
       "      <th>1</th>\n",
       "      <td>air_7cc17a324ae5c7dc</td>\n",
       "      <td>Italian/French</td>\n",
       "      <td>Hyōgo-ken Kōbe-shi Kumoidōri</td>\n",
       "      <td>34.695124</td>\n",
       "      <td>135.197853</td>\n",
       "      <td>hpg_9b38b9e13da6da27</td>\n",
       "      <td>NaN</td>\n",
       "      <td>NaN</td>\n",
       "      <td>NaN</td>\n",
       "      <td>NaN</td>\n",
       "    </tr>\n",
       "    <tr>\n",
       "      <th>2</th>\n",
       "      <td>air_fee8dcf4d619598e</td>\n",
       "      <td>Italian/French</td>\n",
       "      <td>Hyōgo-ken Kōbe-shi Kumoidōri</td>\n",
       "      <td>34.695124</td>\n",
       "      <td>135.197853</td>\n",
       "      <td>NaN</td>\n",
       "      <td>NaN</td>\n",
       "      <td>NaN</td>\n",
       "      <td>NaN</td>\n",
       "      <td>NaN</td>\n",
       "    </tr>\n",
       "    <tr>\n",
       "      <th>3</th>\n",
       "      <td>air_a17f0778617c76e2</td>\n",
       "      <td>Italian/French</td>\n",
       "      <td>Hyōgo-ken Kōbe-shi Kumoidōri</td>\n",
       "      <td>34.695124</td>\n",
       "      <td>135.197853</td>\n",
       "      <td>NaN</td>\n",
       "      <td>NaN</td>\n",
       "      <td>NaN</td>\n",
       "      <td>NaN</td>\n",
       "      <td>NaN</td>\n",
       "    </tr>\n",
       "    <tr>\n",
       "      <th>4</th>\n",
       "      <td>air_83db5aff8f50478e</td>\n",
       "      <td>Italian/French</td>\n",
       "      <td>Tōkyō-to Minato-ku Shibakōen</td>\n",
       "      <td>35.658068</td>\n",
       "      <td>139.751599</td>\n",
       "      <td>NaN</td>\n",
       "      <td>NaN</td>\n",
       "      <td>NaN</td>\n",
       "      <td>NaN</td>\n",
       "      <td>NaN</td>\n",
       "    </tr>\n",
       "  </tbody>\n",
       "</table>\n",
       "</div>"
      ],
      "text/plain": [
       "           air_store_id  air_genre_name                 air_area_name  \\\n",
       "0  air_0f0cdeee6c9bf3d7  Italian/French  Hyōgo-ken Kōbe-shi Kumoidōri   \n",
       "1  air_7cc17a324ae5c7dc  Italian/French  Hyōgo-ken Kōbe-shi Kumoidōri   \n",
       "2  air_fee8dcf4d619598e  Italian/French  Hyōgo-ken Kōbe-shi Kumoidōri   \n",
       "3  air_a17f0778617c76e2  Italian/French  Hyōgo-ken Kōbe-shi Kumoidōri   \n",
       "4  air_83db5aff8f50478e  Italian/French  Tōkyō-to Minato-ku Shibakōen   \n",
       "\n",
       "   latitude_air  longitude_air          hpg_store_id hpg_genre_name  \\\n",
       "0     34.695124     135.197853                   NaN            NaN   \n",
       "1     34.695124     135.197853  hpg_9b38b9e13da6da27            NaN   \n",
       "2     34.695124     135.197853                   NaN            NaN   \n",
       "3     34.695124     135.197853                   NaN            NaN   \n",
       "4     35.658068     139.751599                   NaN            NaN   \n",
       "\n",
       "  hpg_area_name  latitude_hpg  longitude_hpg  \n",
       "0           NaN           NaN            NaN  \n",
       "1           NaN           NaN            NaN  \n",
       "2           NaN           NaN            NaN  \n",
       "3           NaN           NaN            NaN  \n",
       "4           NaN           NaN            NaN  "
      ]
     },
     "execution_count": 24,
     "metadata": {},
     "output_type": "execute_result"
    }
   ],
   "source": [
    "stores_info = pd.merge(stores_info, hpg_store_info, how='left', on='hpg_store_id', suffixes=['_air','_hpg'])\n",
    "print(stores_info.shape)\n",
    "stores_info.head()"
   ]
  },
  {
   "cell_type": "code",
   "execution_count": 25,
   "id": "c24c6021",
   "metadata": {
    "execution": {
     "iopub.execute_input": "2021-08-05T04:53:35.652937Z",
     "iopub.status.busy": "2021-08-05T04:53:35.652196Z",
     "iopub.status.idle": "2021-08-05T04:53:35.768089Z",
     "shell.execute_reply": "2021-08-05T04:53:35.767411Z",
     "shell.execute_reply.started": "2021-08-05T04:29:34.870444Z"
    },
    "papermill": {
     "duration": 0.519273,
     "end_time": "2021-08-05T04:53:35.768260",
     "exception": false,
     "start_time": "2021-08-05T04:53:35.248987",
     "status": "completed"
    },
    "tags": []
   },
   "outputs": [],
   "source": [
    "#reserve data 병합\n",
    "hpg_reserve = pd.merge(hpg_reserve, store_id_relation, on='hpg_store_id')[air_reserve.columns]"
   ]
  },
  {
   "cell_type": "code",
   "execution_count": 26,
   "id": "82f209b2",
   "metadata": {
    "execution": {
     "iopub.execute_input": "2021-08-05T04:53:35.959831Z",
     "iopub.status.busy": "2021-08-05T04:53:35.958824Z",
     "iopub.status.idle": "2021-08-05T04:53:35.963690Z",
     "shell.execute_reply": "2021-08-05T04:53:35.963049Z",
     "shell.execute_reply.started": "2021-08-05T04:29:35.288208Z"
    },
    "papermill": {
     "duration": 0.105173,
     "end_time": "2021-08-05T04:53:35.963828",
     "exception": false,
     "start_time": "2021-08-05T04:53:35.858655",
     "status": "completed"
    },
    "tags": []
   },
   "outputs": [
    {
     "data": {
      "text/html": [
       "<div>\n",
       "<style scoped>\n",
       "    .dataframe tbody tr th:only-of-type {\n",
       "        vertical-align: middle;\n",
       "    }\n",
       "\n",
       "    .dataframe tbody tr th {\n",
       "        vertical-align: top;\n",
       "    }\n",
       "\n",
       "    .dataframe thead th {\n",
       "        text-align: right;\n",
       "    }\n",
       "</style>\n",
       "<table border=\"1\" class=\"dataframe\">\n",
       "  <thead>\n",
       "    <tr style=\"text-align: right;\">\n",
       "      <th></th>\n",
       "      <th>air_store_id</th>\n",
       "      <th>visit_datetime</th>\n",
       "      <th>reserve_datetime</th>\n",
       "      <th>reserve_visitors</th>\n",
       "    </tr>\n",
       "  </thead>\n",
       "  <tbody>\n",
       "    <tr>\n",
       "      <th>0</th>\n",
       "      <td>air_db80363d35f10926</td>\n",
       "      <td>2016-01-01 19:00:00</td>\n",
       "      <td>2016-01-01 15:00:00</td>\n",
       "      <td>4</td>\n",
       "    </tr>\n",
       "    <tr>\n",
       "      <th>1</th>\n",
       "      <td>air_db80363d35f10926</td>\n",
       "      <td>2016-01-02 19:00:00</td>\n",
       "      <td>2016-01-02 14:00:00</td>\n",
       "      <td>2</td>\n",
       "    </tr>\n",
       "    <tr>\n",
       "      <th>2</th>\n",
       "      <td>air_db80363d35f10926</td>\n",
       "      <td>2016-01-03 18:00:00</td>\n",
       "      <td>2016-01-02 20:00:00</td>\n",
       "      <td>6</td>\n",
       "    </tr>\n",
       "    <tr>\n",
       "      <th>3</th>\n",
       "      <td>air_db80363d35f10926</td>\n",
       "      <td>2016-01-06 20:00:00</td>\n",
       "      <td>2016-01-04 22:00:00</td>\n",
       "      <td>3</td>\n",
       "    </tr>\n",
       "    <tr>\n",
       "      <th>4</th>\n",
       "      <td>air_db80363d35f10926</td>\n",
       "      <td>2016-01-11 18:00:00</td>\n",
       "      <td>2016-01-11 14:00:00</td>\n",
       "      <td>2</td>\n",
       "    </tr>\n",
       "  </tbody>\n",
       "</table>\n",
       "</div>"
      ],
      "text/plain": [
       "           air_store_id       visit_datetime     reserve_datetime  \\\n",
       "0  air_db80363d35f10926  2016-01-01 19:00:00  2016-01-01 15:00:00   \n",
       "1  air_db80363d35f10926  2016-01-02 19:00:00  2016-01-02 14:00:00   \n",
       "2  air_db80363d35f10926  2016-01-03 18:00:00  2016-01-02 20:00:00   \n",
       "3  air_db80363d35f10926  2016-01-06 20:00:00  2016-01-04 22:00:00   \n",
       "4  air_db80363d35f10926  2016-01-11 18:00:00  2016-01-11 14:00:00   \n",
       "\n",
       "   reserve_visitors  \n",
       "0                 4  \n",
       "1                 2  \n",
       "2                 6  \n",
       "3                 3  \n",
       "4                 2  "
      ]
     },
     "execution_count": 26,
     "metadata": {},
     "output_type": "execute_result"
    }
   ],
   "source": [
    "hpg_reserve.head()"
   ]
  },
  {
   "cell_type": "code",
   "execution_count": 27,
   "id": "8a203368",
   "metadata": {
    "execution": {
     "iopub.execute_input": "2021-08-05T04:53:36.148798Z",
     "iopub.status.busy": "2021-08-05T04:53:36.147300Z",
     "iopub.status.idle": "2021-08-05T04:53:36.163661Z",
     "shell.execute_reply": "2021-08-05T04:53:36.164529Z",
     "shell.execute_reply.started": "2021-08-05T04:29:35.301130Z"
    },
    "papermill": {
     "duration": 0.112212,
     "end_time": "2021-08-05T04:53:36.164753",
     "exception": false,
     "start_time": "2021-08-05T04:53:36.052541",
     "status": "completed"
    },
    "tags": []
   },
   "outputs": [
    {
     "name": "stdout",
     "output_type": "stream",
     "text": [
      "(120561, 4)\n"
     ]
    },
    {
     "data": {
      "text/html": [
       "<div>\n",
       "<style scoped>\n",
       "    .dataframe tbody tr th:only-of-type {\n",
       "        vertical-align: middle;\n",
       "    }\n",
       "\n",
       "    .dataframe tbody tr th {\n",
       "        vertical-align: top;\n",
       "    }\n",
       "\n",
       "    .dataframe thead th {\n",
       "        text-align: right;\n",
       "    }\n",
       "</style>\n",
       "<table border=\"1\" class=\"dataframe\">\n",
       "  <thead>\n",
       "    <tr style=\"text-align: right;\">\n",
       "      <th></th>\n",
       "      <th>air_store_id</th>\n",
       "      <th>visit_datetime</th>\n",
       "      <th>reserve_datetime</th>\n",
       "      <th>reserve_visitors</th>\n",
       "    </tr>\n",
       "  </thead>\n",
       "  <tbody>\n",
       "    <tr>\n",
       "      <th>0</th>\n",
       "      <td>air_877f79706adbfb06</td>\n",
       "      <td>2016-01-01 19:00:00</td>\n",
       "      <td>2016-01-01 16:00:00</td>\n",
       "      <td>1</td>\n",
       "    </tr>\n",
       "    <tr>\n",
       "      <th>1</th>\n",
       "      <td>air_db4b38ebe7a7ceff</td>\n",
       "      <td>2016-01-01 19:00:00</td>\n",
       "      <td>2016-01-01 19:00:00</td>\n",
       "      <td>3</td>\n",
       "    </tr>\n",
       "    <tr>\n",
       "      <th>2</th>\n",
       "      <td>air_db4b38ebe7a7ceff</td>\n",
       "      <td>2016-01-01 19:00:00</td>\n",
       "      <td>2016-01-01 19:00:00</td>\n",
       "      <td>6</td>\n",
       "    </tr>\n",
       "    <tr>\n",
       "      <th>3</th>\n",
       "      <td>air_877f79706adbfb06</td>\n",
       "      <td>2016-01-01 20:00:00</td>\n",
       "      <td>2016-01-01 16:00:00</td>\n",
       "      <td>2</td>\n",
       "    </tr>\n",
       "    <tr>\n",
       "      <th>4</th>\n",
       "      <td>air_db80363d35f10926</td>\n",
       "      <td>2016-01-01 20:00:00</td>\n",
       "      <td>2016-01-01 01:00:00</td>\n",
       "      <td>5</td>\n",
       "    </tr>\n",
       "  </tbody>\n",
       "</table>\n",
       "</div>"
      ],
      "text/plain": [
       "           air_store_id       visit_datetime     reserve_datetime  \\\n",
       "0  air_877f79706adbfb06  2016-01-01 19:00:00  2016-01-01 16:00:00   \n",
       "1  air_db4b38ebe7a7ceff  2016-01-01 19:00:00  2016-01-01 19:00:00   \n",
       "2  air_db4b38ebe7a7ceff  2016-01-01 19:00:00  2016-01-01 19:00:00   \n",
       "3  air_877f79706adbfb06  2016-01-01 20:00:00  2016-01-01 16:00:00   \n",
       "4  air_db80363d35f10926  2016-01-01 20:00:00  2016-01-01 01:00:00   \n",
       "\n",
       "   reserve_visitors  \n",
       "0                 1  \n",
       "1                 3  \n",
       "2                 6  \n",
       "3                 2  \n",
       "4                 5  "
      ]
     },
     "execution_count": 27,
     "metadata": {},
     "output_type": "execute_result"
    }
   ],
   "source": [
    "reserve_info = pd.concat([air_reserve, hpg_reserve], axis=0)\n",
    "print(reserve_info.shape)\n",
    "reserve_info.head()"
   ]
  },
  {
   "cell_type": "code",
   "execution_count": 28,
   "id": "005c6e45",
   "metadata": {
    "execution": {
     "iopub.execute_input": "2021-08-05T04:53:36.424614Z",
     "iopub.status.busy": "2021-08-05T04:53:36.423889Z",
     "iopub.status.idle": "2021-08-05T04:53:36.444003Z",
     "shell.execute_reply": "2021-08-05T04:53:36.443427Z",
     "shell.execute_reply.started": "2021-08-05T04:29:35.326643Z"
    },
    "papermill": {
     "duration": 0.188857,
     "end_time": "2021-08-05T04:53:36.444144",
     "exception": false,
     "start_time": "2021-08-05T04:53:36.255287",
     "status": "completed"
    },
    "tags": []
   },
   "outputs": [
    {
     "data": {
      "text/html": [
       "<div>\n",
       "<style scoped>\n",
       "    .dataframe tbody tr th:only-of-type {\n",
       "        vertical-align: middle;\n",
       "    }\n",
       "\n",
       "    .dataframe tbody tr th {\n",
       "        vertical-align: top;\n",
       "    }\n",
       "\n",
       "    .dataframe thead th {\n",
       "        text-align: right;\n",
       "    }\n",
       "</style>\n",
       "<table border=\"1\" class=\"dataframe\">\n",
       "  <thead>\n",
       "    <tr style=\"text-align: right;\">\n",
       "      <th></th>\n",
       "      <th>air_store_id</th>\n",
       "      <th>visit_date</th>\n",
       "      <th>visitors</th>\n",
       "      <th>id</th>\n",
       "    </tr>\n",
       "  </thead>\n",
       "  <tbody>\n",
       "    <tr>\n",
       "      <th>0</th>\n",
       "      <td>air_ba937bf13d40fb24</td>\n",
       "      <td>2016-01-13</td>\n",
       "      <td>25</td>\n",
       "      <td>air_ba937bf13d40fb24_2016-01-13</td>\n",
       "    </tr>\n",
       "    <tr>\n",
       "      <th>1</th>\n",
       "      <td>air_ba937bf13d40fb24</td>\n",
       "      <td>2016-01-14</td>\n",
       "      <td>32</td>\n",
       "      <td>air_ba937bf13d40fb24_2016-01-14</td>\n",
       "    </tr>\n",
       "    <tr>\n",
       "      <th>2</th>\n",
       "      <td>air_ba937bf13d40fb24</td>\n",
       "      <td>2016-01-15</td>\n",
       "      <td>29</td>\n",
       "      <td>air_ba937bf13d40fb24_2016-01-15</td>\n",
       "    </tr>\n",
       "    <tr>\n",
       "      <th>3</th>\n",
       "      <td>air_ba937bf13d40fb24</td>\n",
       "      <td>2016-01-16</td>\n",
       "      <td>22</td>\n",
       "      <td>air_ba937bf13d40fb24_2016-01-16</td>\n",
       "    </tr>\n",
       "    <tr>\n",
       "      <th>4</th>\n",
       "      <td>air_ba937bf13d40fb24</td>\n",
       "      <td>2016-01-18</td>\n",
       "      <td>6</td>\n",
       "      <td>air_ba937bf13d40fb24_2016-01-18</td>\n",
       "    </tr>\n",
       "  </tbody>\n",
       "</table>\n",
       "</div>"
      ],
      "text/plain": [
       "           air_store_id visit_date  visitors                               id\n",
       "0  air_ba937bf13d40fb24 2016-01-13        25  air_ba937bf13d40fb24_2016-01-13\n",
       "1  air_ba937bf13d40fb24 2016-01-14        32  air_ba937bf13d40fb24_2016-01-14\n",
       "2  air_ba937bf13d40fb24 2016-01-15        29  air_ba937bf13d40fb24_2016-01-15\n",
       "3  air_ba937bf13d40fb24 2016-01-16        22  air_ba937bf13d40fb24_2016-01-16\n",
       "4  air_ba937bf13d40fb24 2016-01-18         6  air_ba937bf13d40fb24_2016-01-18"
      ]
     },
     "execution_count": 28,
     "metadata": {},
     "output_type": "execute_result"
    }
   ],
   "source": [
    "#visit data 병합\n",
    "air_visit_data.visit_date = pd.to_datetime(air_visit_data.visit_date)\n",
    "air_visit_data.head()"
   ]
  },
  {
   "cell_type": "code",
   "execution_count": 29,
   "id": "d44b9f82",
   "metadata": {
    "execution": {
     "iopub.execute_input": "2021-08-05T04:53:36.636841Z",
     "iopub.status.busy": "2021-08-05T04:53:36.630846Z",
     "iopub.status.idle": "2021-08-05T04:53:36.653298Z",
     "shell.execute_reply": "2021-08-05T04:53:36.652773Z",
     "shell.execute_reply.started": "2021-08-05T04:29:35.423437Z"
    },
    "papermill": {
     "duration": 0.119024,
     "end_time": "2021-08-05T04:53:36.653438",
     "exception": false,
     "start_time": "2021-08-05T04:53:36.534414",
     "status": "completed"
    },
    "tags": []
   },
   "outputs": [
    {
     "data": {
      "text/html": [
       "<div>\n",
       "<style scoped>\n",
       "    .dataframe tbody tr th:only-of-type {\n",
       "        vertical-align: middle;\n",
       "    }\n",
       "\n",
       "    .dataframe tbody tr th {\n",
       "        vertical-align: top;\n",
       "    }\n",
       "\n",
       "    .dataframe thead th {\n",
       "        text-align: right;\n",
       "    }\n",
       "</style>\n",
       "<table border=\"1\" class=\"dataframe\">\n",
       "  <thead>\n",
       "    <tr style=\"text-align: right;\">\n",
       "      <th></th>\n",
       "      <th>visitors</th>\n",
       "    </tr>\n",
       "    <tr>\n",
       "      <th>visit_date</th>\n",
       "      <th></th>\n",
       "    </tr>\n",
       "  </thead>\n",
       "  <tbody>\n",
       "    <tr>\n",
       "      <th>2016-01-01</th>\n",
       "      <td>1033</td>\n",
       "    </tr>\n",
       "    <tr>\n",
       "      <th>2016-01-02</th>\n",
       "      <td>1764</td>\n",
       "    </tr>\n",
       "    <tr>\n",
       "      <th>2016-01-03</th>\n",
       "      <td>2368</td>\n",
       "    </tr>\n",
       "    <tr>\n",
       "      <th>2016-01-04</th>\n",
       "      <td>3326</td>\n",
       "    </tr>\n",
       "    <tr>\n",
       "      <th>2016-01-05</th>\n",
       "      <td>3927</td>\n",
       "    </tr>\n",
       "  </tbody>\n",
       "</table>\n",
       "</div>"
      ],
      "text/plain": [
       "            visitors\n",
       "visit_date          \n",
       "2016-01-01      1033\n",
       "2016-01-02      1764\n",
       "2016-01-03      2368\n",
       "2016-01-04      3326\n",
       "2016-01-05      3927"
      ]
     },
     "execution_count": 29,
     "metadata": {},
     "output_type": "execute_result"
    }
   ],
   "source": [
    "#day-to-day visitors\n",
    "visitors_by_date = air_visit_data.groupby('visit_date').sum()\n",
    "visitors_by_date.head()"
   ]
  },
  {
   "cell_type": "code",
   "execution_count": 30,
   "id": "d93b631f",
   "metadata": {
    "execution": {
     "iopub.execute_input": "2021-08-05T04:53:36.840066Z",
     "iopub.status.busy": "2021-08-05T04:53:36.839375Z",
     "iopub.status.idle": "2021-08-05T04:53:37.158006Z",
     "shell.execute_reply": "2021-08-05T04:53:37.158566Z",
     "shell.execute_reply.started": "2021-08-05T04:29:35.452178Z"
    },
    "papermill": {
     "duration": 0.414287,
     "end_time": "2021-08-05T04:53:37.158740",
     "exception": false,
     "start_time": "2021-08-05T04:53:36.744453",
     "status": "completed"
    },
    "tags": []
   },
   "outputs": [
    {
     "data": {
      "image/png": "[encoded data removed]",
      "text/plain": [
       "<Figure size 1080x360 with 1 Axes>"
      ]
     },
     "metadata": {
      "needs_background": "light"
     },
     "output_type": "display_data"
    }
   ],
   "source": [
    "ax = visitors_by_date.plot(figsize=[15,5])"
   ]
  },
  {
   "cell_type": "code",
   "execution_count": 31,
   "id": "93363491",
   "metadata": {
    "execution": {
     "iopub.execute_input": "2021-08-05T04:53:37.348414Z",
     "iopub.status.busy": "2021-08-05T04:53:37.347800Z",
     "iopub.status.idle": "2021-08-05T04:53:37.378124Z",
     "shell.execute_reply": "2021-08-05T04:53:37.378672Z",
     "shell.execute_reply.started": "2021-08-05T04:29:35.807186Z"
    },
    "papermill": {
     "duration": 0.12669,
     "end_time": "2021-08-05T04:53:37.378852",
     "exception": false,
     "start_time": "2021-08-05T04:53:37.252162",
     "status": "completed"
    },
    "tags": []
   },
   "outputs": [],
   "source": [
    "#each day of week visitors\n",
    "air_visit_data['weekday'] = air_visit_data.visit_date.dt.weekday"
   ]
  },
  {
   "cell_type": "code",
   "execution_count": 32,
   "id": "d5ffa5ef",
   "metadata": {
    "execution": {
     "iopub.execute_input": "2021-08-05T04:53:37.648851Z",
     "iopub.status.busy": "2021-08-05T04:53:37.647967Z",
     "iopub.status.idle": "2021-08-05T04:53:37.654422Z",
     "shell.execute_reply": "2021-08-05T04:53:37.655274Z",
     "shell.execute_reply.started": "2021-08-05T04:29:35.845265Z"
    },
    "papermill": {
     "duration": 0.182096,
     "end_time": "2021-08-05T04:53:37.655549",
     "exception": false,
     "start_time": "2021-08-05T04:53:37.473453",
     "status": "completed"
    },
    "tags": []
   },
   "outputs": [
    {
     "data": {
      "text/html": [
       "<div>\n",
       "<style scoped>\n",
       "    .dataframe tbody tr th:only-of-type {\n",
       "        vertical-align: middle;\n",
       "    }\n",
       "\n",
       "    .dataframe tbody tr th {\n",
       "        vertical-align: top;\n",
       "    }\n",
       "\n",
       "    .dataframe thead th {\n",
       "        text-align: right;\n",
       "    }\n",
       "</style>\n",
       "<table border=\"1\" class=\"dataframe\">\n",
       "  <thead>\n",
       "    <tr style=\"text-align: right;\">\n",
       "      <th></th>\n",
       "      <th>air_store_id</th>\n",
       "      <th>visit_date</th>\n",
       "      <th>visitors</th>\n",
       "      <th>id</th>\n",
       "      <th>weekday</th>\n",
       "    </tr>\n",
       "  </thead>\n",
       "  <tbody>\n",
       "    <tr>\n",
       "      <th>0</th>\n",
       "      <td>air_ba937bf13d40fb24</td>\n",
       "      <td>2016-01-13</td>\n",
       "      <td>25</td>\n",
       "      <td>air_ba937bf13d40fb24_2016-01-13</td>\n",
       "      <td>2</td>\n",
       "    </tr>\n",
       "    <tr>\n",
       "      <th>1</th>\n",
       "      <td>air_ba937bf13d40fb24</td>\n",
       "      <td>2016-01-14</td>\n",
       "      <td>32</td>\n",
       "      <td>air_ba937bf13d40fb24_2016-01-14</td>\n",
       "      <td>3</td>\n",
       "    </tr>\n",
       "    <tr>\n",
       "      <th>2</th>\n",
       "      <td>air_ba937bf13d40fb24</td>\n",
       "      <td>2016-01-15</td>\n",
       "      <td>29</td>\n",
       "      <td>air_ba937bf13d40fb24_2016-01-15</td>\n",
       "      <td>4</td>\n",
       "    </tr>\n",
       "    <tr>\n",
       "      <th>3</th>\n",
       "      <td>air_ba937bf13d40fb24</td>\n",
       "      <td>2016-01-16</td>\n",
       "      <td>22</td>\n",
       "      <td>air_ba937bf13d40fb24_2016-01-16</td>\n",
       "      <td>5</td>\n",
       "    </tr>\n",
       "    <tr>\n",
       "      <th>4</th>\n",
       "      <td>air_ba937bf13d40fb24</td>\n",
       "      <td>2016-01-18</td>\n",
       "      <td>6</td>\n",
       "      <td>air_ba937bf13d40fb24_2016-01-18</td>\n",
       "      <td>0</td>\n",
       "    </tr>\n",
       "  </tbody>\n",
       "</table>\n",
       "</div>"
      ],
      "text/plain": [
       "           air_store_id visit_date  visitors                               id  \\\n",
       "0  air_ba937bf13d40fb24 2016-01-13        25  air_ba937bf13d40fb24_2016-01-13   \n",
       "1  air_ba937bf13d40fb24 2016-01-14        32  air_ba937bf13d40fb24_2016-01-14   \n",
       "2  air_ba937bf13d40fb24 2016-01-15        29  air_ba937bf13d40fb24_2016-01-15   \n",
       "3  air_ba937bf13d40fb24 2016-01-16        22  air_ba937bf13d40fb24_2016-01-16   \n",
       "4  air_ba937bf13d40fb24 2016-01-18         6  air_ba937bf13d40fb24_2016-01-18   \n",
       "\n",
       "   weekday  \n",
       "0        2  \n",
       "1        3  \n",
       "2        4  \n",
       "3        5  \n",
       "4        0  "
      ]
     },
     "execution_count": 32,
     "metadata": {},
     "output_type": "execute_result"
    }
   ],
   "source": [
    "air_visit_data.head()"
   ]
  },
  {
   "cell_type": "code",
   "execution_count": 33,
   "id": "649bf960",
   "metadata": {
    "execution": {
     "iopub.execute_input": "2021-08-05T04:53:37.852362Z",
     "iopub.status.busy": "2021-08-05T04:53:37.851712Z",
     "iopub.status.idle": "2021-08-05T04:53:37.862533Z",
     "shell.execute_reply": "2021-08-05T04:53:37.861990Z",
     "shell.execute_reply.started": "2021-08-05T04:29:35.865088Z"
    },
    "papermill": {
     "duration": 0.109259,
     "end_time": "2021-08-05T04:53:37.862681",
     "exception": false,
     "start_time": "2021-08-05T04:53:37.753422",
     "status": "completed"
    },
    "tags": []
   },
   "outputs": [],
   "source": [
    "visitors_by_weekday = air_visit_data.groupby('weekday')['visitors'].sum()"
   ]
  },
  {
   "cell_type": "code",
   "execution_count": 34,
   "id": "cac0148e",
   "metadata": {
    "execution": {
     "iopub.execute_input": "2021-08-05T04:53:38.087111Z",
     "iopub.status.busy": "2021-08-05T04:53:38.059011Z",
     "iopub.status.idle": "2021-08-05T04:53:38.223696Z",
     "shell.execute_reply": "2021-08-05T04:53:38.222984Z",
     "shell.execute_reply.started": "2021-08-05T04:29:35.883140Z"
    },
    "papermill": {
     "duration": 0.266893,
     "end_time": "2021-08-05T04:53:38.223867",
     "exception": false,
     "start_time": "2021-08-05T04:53:37.956974",
     "status": "completed"
    },
    "tags": []
   },
   "outputs": [
    {
     "data": {
      "text/plain": [
       "Text(0.5, 0, 'weekday (monday=, sunday=6)')"
      ]
     },
     "execution_count": 34,
     "metadata": {},
     "output_type": "execute_result"
    },
    {
     "data": {
      "image/png": "[encoded data removed]",
      "text/plain": [
       "<Figure size 432x288 with 1 Axes>"
      ]
     },
     "metadata": {
      "needs_background": "light"
     },
     "output_type": "display_data"
    }
   ],
   "source": [
    "ax = visitors_by_weekday.plot.bar()\n",
    "ax.set_xlabel('weekday (monday=, sunday=6)')"
   ]
  },
  {
   "cell_type": "code",
   "execution_count": 35,
   "id": "496a079e",
   "metadata": {
    "execution": {
     "iopub.execute_input": "2021-08-05T04:53:38.431524Z",
     "iopub.status.busy": "2021-08-05T04:53:38.430521Z",
     "iopub.status.idle": "2021-08-05T04:53:38.853535Z",
     "shell.execute_reply": "2021-08-05T04:53:38.854104Z",
     "shell.execute_reply.started": "2021-08-05T04:29:36.064112Z"
    },
    "papermill": {
     "duration": 0.530007,
     "end_time": "2021-08-05T04:53:38.854297",
     "exception": false,
     "start_time": "2021-08-05T04:53:38.324290",
     "status": "completed"
    },
    "tags": []
   },
   "outputs": [
    {
     "data": {
      "text/plain": [
       "<AxesSubplot:>"
      ]
     },
     "execution_count": 35,
     "metadata": {},
     "output_type": "execute_result"
    },
    {
     "data": {
      "image/png": "[encoded data removed]",
      "text/plain": [
       "<Figure size 432x288 with 1 Axes>"
      ]
     },
     "metadata": {
      "needs_background": "light"
     },
     "output_type": "display_data"
    }
   ],
   "source": [
    "#reserve visitors by time(24h)\n",
    "\n",
    "reserve_info.visit_datetime = pd.to_datetime(reserve_info.visit_datetime)\n",
    "\n",
    "reserve_info.visit_datetime.dt.hour.value_counts().sort_index().plot.bar()"
   ]
  },
  {
   "cell_type": "code",
   "execution_count": 36,
   "id": "b8a95593",
   "metadata": {
    "execution": {
     "iopub.execute_input": "2021-08-05T04:53:39.052062Z",
     "iopub.status.busy": "2021-08-05T04:53:39.051137Z",
     "iopub.status.idle": "2021-08-05T04:53:39.054416Z",
     "shell.execute_reply": "2021-08-05T04:53:39.054866Z",
     "shell.execute_reply.started": "2021-08-05T04:29:36.553814Z"
    },
    "papermill": {
     "duration": 0.103761,
     "end_time": "2021-08-05T04:53:39.055037",
     "exception": false,
     "start_time": "2021-08-05T04:53:38.951276",
     "status": "completed"
    },
    "tags": []
   },
   "outputs": [],
   "source": [
    "### 위 내용까지가 데이터 시각화 및 분석, 관계 나타낸 것 ###"
   ]
  },
  {
   "cell_type": "code",
   "execution_count": 37,
   "id": "c634cdb4",
   "metadata": {
    "execution": {
     "iopub.execute_input": "2021-08-05T04:53:39.251853Z",
     "iopub.status.busy": "2021-08-05T04:53:39.250907Z",
     "iopub.status.idle": "2021-08-05T04:53:39.254343Z",
     "shell.execute_reply": "2021-08-05T04:53:39.254794Z",
     "shell.execute_reply.started": "2021-08-05T04:29:36.559086Z"
    },
    "papermill": {
     "duration": 0.103217,
     "end_time": "2021-08-05T04:53:39.254963",
     "exception": false,
     "start_time": "2021-08-05T04:53:39.151746",
     "status": "completed"
    },
    "tags": []
   },
   "outputs": [],
   "source": [
    "##### --------------------- #####"
   ]
  },
  {
   "cell_type": "code",
   "execution_count": 38,
   "id": "211bf4ca",
   "metadata": {
    "execution": {
     "iopub.execute_input": "2021-08-05T04:53:39.452019Z",
     "iopub.status.busy": "2021-08-05T04:53:39.451080Z",
     "iopub.status.idle": "2021-08-05T04:53:39.454464Z",
     "shell.execute_reply": "2021-08-05T04:53:39.454905Z",
     "shell.execute_reply.started": "2021-08-05T04:29:36.573488Z"
    },
    "papermill": {
     "duration": 0.103164,
     "end_time": "2021-08-05T04:53:39.455073",
     "exception": false,
     "start_time": "2021-08-05T04:53:39.351909",
     "status": "completed"
    },
    "tags": []
   },
   "outputs": [],
   "source": [
    "#### feature engineering ####"
   ]
  },
  {
   "cell_type": "code",
   "execution_count": 39,
   "id": "e403bcf5",
   "metadata": {
    "execution": {
     "iopub.execute_input": "2021-08-05T04:53:39.680715Z",
     "iopub.status.busy": "2021-08-05T04:53:39.680000Z",
     "iopub.status.idle": "2021-08-05T04:53:39.776590Z",
     "shell.execute_reply": "2021-08-05T04:53:39.777079Z",
     "shell.execute_reply.started": "2021-08-05T04:29:36.585536Z"
    },
    "papermill": {
     "duration": 0.226332,
     "end_time": "2021-08-05T04:53:39.777262",
     "exception": false,
     "start_time": "2021-08-05T04:53:39.550930",
     "status": "completed"
    },
    "tags": []
   },
   "outputs": [
    {
     "name": "stdout",
     "output_type": "stream",
     "text": [
      "<class 'pandas.core.frame.DataFrame'>\n",
      "RangeIndex: 284127 entries, 0 to 284126\n",
      "Data columns (total 5 columns):\n",
      " #   Column        Non-Null Count   Dtype \n",
      "---  ------        --------------   ----- \n",
      " 0   dataset       284127 non-null  object\n",
      " 1   air_store_id  284127 non-null  object\n",
      " 2   visit_date    284127 non-null  object\n",
      " 3   visitors      284127 non-null  int64 \n",
      " 4   id            284127 non-null  object\n",
      "dtypes: int64(1), object(4)\n",
      "memory usage: 10.8+ MB\n"
     ]
    }
   ],
   "source": [
    "train_dt.info()"
   ]
  },
  {
   "cell_type": "code",
   "execution_count": 40,
   "id": "634aa18a",
   "metadata": {
    "execution": {
     "iopub.execute_input": "2021-08-05T04:53:40.063241Z",
     "iopub.status.busy": "2021-08-05T04:53:40.062544Z",
     "iopub.status.idle": "2021-08-05T04:53:40.070598Z",
     "shell.execute_reply": "2021-08-05T04:53:40.069941Z",
     "shell.execute_reply.started": "2021-08-05T04:29:36.722524Z"
    },
    "papermill": {
     "duration": 0.192725,
     "end_time": "2021-08-05T04:53:40.070734",
     "exception": false,
     "start_time": "2021-08-05T04:53:39.878009",
     "status": "completed"
    },
    "tags": []
   },
   "outputs": [],
   "source": [
    "train_dt.visit_date = pd.to_datetime(train_dt.visit_date)"
   ]
  },
  {
   "cell_type": "code",
   "execution_count": 41,
   "id": "1998261a",
   "metadata": {
    "execution": {
     "iopub.execute_input": "2021-08-05T04:53:40.327675Z",
     "iopub.status.busy": "2021-08-05T04:53:40.299800Z",
     "iopub.status.idle": "2021-08-05T04:53:40.370827Z",
     "shell.execute_reply": "2021-08-05T04:53:40.370152Z",
     "shell.execute_reply.started": "2021-08-05T04:29:36.816422Z"
    },
    "papermill": {
     "duration": 0.202666,
     "end_time": "2021-08-05T04:53:40.370964",
     "exception": false,
     "start_time": "2021-08-05T04:53:40.168298",
     "status": "completed"
    },
    "tags": []
   },
   "outputs": [
    {
     "name": "stdout",
     "output_type": "stream",
     "text": [
      "<class 'pandas.core.frame.DataFrame'>\n",
      "RangeIndex: 284127 entries, 0 to 284126\n",
      "Data columns (total 5 columns):\n",
      " #   Column        Non-Null Count   Dtype         \n",
      "---  ------        --------------   -----         \n",
      " 0   dataset       284127 non-null  object        \n",
      " 1   air_store_id  284127 non-null  object        \n",
      " 2   visit_date    284127 non-null  datetime64[ns]\n",
      " 3   visitors      284127 non-null  int64         \n",
      " 4   id            284127 non-null  object        \n",
      "dtypes: datetime64[ns](1), int64(1), object(3)\n",
      "memory usage: 10.8+ MB\n"
     ]
    }
   ],
   "source": [
    "train_dt.info()"
   ]
  },
  {
   "cell_type": "code",
   "execution_count": 42,
   "id": "421f818e",
   "metadata": {
    "execution": {
     "iopub.execute_input": "2021-08-05T04:53:40.570422Z",
     "iopub.status.busy": "2021-08-05T04:53:40.569541Z",
     "iopub.status.idle": "2021-08-05T04:53:40.781145Z",
     "shell.execute_reply": "2021-08-05T04:53:40.780545Z",
     "shell.execute_reply.started": "2021-08-05T04:29:36.917395Z"
    },
    "papermill": {
     "duration": 0.313843,
     "end_time": "2021-08-05T04:53:40.781292",
     "exception": false,
     "start_time": "2021-08-05T04:53:40.467449",
     "status": "completed"
    },
    "tags": []
   },
   "outputs": [
    {
     "name": "stderr",
     "output_type": "stream",
     "text": [
      "/opt/conda/lib/python3.7/site-packages/ipykernel_launcher.py:8: FutureWarning: Series.dt.weekofyear and Series.dt.week have been deprecated.  Please use Series.dt.isocalendar().week instead.\n",
      "  \n"
     ]
    }
   ],
   "source": [
    "#about Date features\n",
    "\n",
    "train_dt['weekday'] = train_dt.visit_date.dt.dayofweek\n",
    "train_dt['year'] = train_dt.visit_date.dt.year\n",
    "train_dt['month'] = train_dt.visit_date.dt.month\n",
    "train_dt['day_of_year'] = train_dt.visit_date.dt.dayofyear\n",
    "train_dt['days_in_month'] = train_dt.visit_date.dt.days_in_month\n",
    "train_dt['week_of_year'] = train_dt.visit_date.dt.weekofyear\n",
    "train_dt['is_month_end'] = train_dt.visit_date.dt.is_month_end"
   ]
  },
  {
   "cell_type": "code",
   "execution_count": 43,
   "id": "54bca4c4",
   "metadata": {
    "execution": {
     "iopub.execute_input": "2021-08-05T04:53:40.994333Z",
     "iopub.status.busy": "2021-08-05T04:53:40.993668Z",
     "iopub.status.idle": "2021-08-05T04:53:40.998067Z",
     "shell.execute_reply": "2021-08-05T04:53:40.997522Z",
     "shell.execute_reply.started": "2021-08-05T04:29:37.135870Z"
    },
    "papermill": {
     "duration": 0.117234,
     "end_time": "2021-08-05T04:53:40.998202",
     "exception": false,
     "start_time": "2021-08-05T04:53:40.880968",
     "status": "completed"
    },
    "tags": []
   },
   "outputs": [
    {
     "data": {
      "text/html": [
       "<div>\n",
       "<style scoped>\n",
       "    .dataframe tbody tr th:only-of-type {\n",
       "        vertical-align: middle;\n",
       "    }\n",
       "\n",
       "    .dataframe tbody tr th {\n",
       "        vertical-align: top;\n",
       "    }\n",
       "\n",
       "    .dataframe thead th {\n",
       "        text-align: right;\n",
       "    }\n",
       "</style>\n",
       "<table border=\"1\" class=\"dataframe\">\n",
       "  <thead>\n",
       "    <tr style=\"text-align: right;\">\n",
       "      <th></th>\n",
       "      <th>dataset</th>\n",
       "      <th>air_store_id</th>\n",
       "      <th>visit_date</th>\n",
       "      <th>visitors</th>\n",
       "      <th>id</th>\n",
       "      <th>weekday</th>\n",
       "      <th>year</th>\n",
       "      <th>month</th>\n",
       "      <th>day_of_year</th>\n",
       "      <th>days_in_month</th>\n",
       "      <th>week_of_year</th>\n",
       "      <th>is_month_end</th>\n",
       "    </tr>\n",
       "  </thead>\n",
       "  <tbody>\n",
       "    <tr>\n",
       "      <th>0</th>\n",
       "      <td>past</td>\n",
       "      <td>air_ba937bf13d40fb24</td>\n",
       "      <td>2016-01-13</td>\n",
       "      <td>25</td>\n",
       "      <td>air_ba937bf13d40fb24_2016-01-13</td>\n",
       "      <td>2</td>\n",
       "      <td>2016</td>\n",
       "      <td>1</td>\n",
       "      <td>13</td>\n",
       "      <td>31</td>\n",
       "      <td>2</td>\n",
       "      <td>False</td>\n",
       "    </tr>\n",
       "    <tr>\n",
       "      <th>1</th>\n",
       "      <td>past</td>\n",
       "      <td>air_ba937bf13d40fb24</td>\n",
       "      <td>2016-01-14</td>\n",
       "      <td>32</td>\n",
       "      <td>air_ba937bf13d40fb24_2016-01-14</td>\n",
       "      <td>3</td>\n",
       "      <td>2016</td>\n",
       "      <td>1</td>\n",
       "      <td>14</td>\n",
       "      <td>31</td>\n",
       "      <td>2</td>\n",
       "      <td>False</td>\n",
       "    </tr>\n",
       "    <tr>\n",
       "      <th>2</th>\n",
       "      <td>past</td>\n",
       "      <td>air_ba937bf13d40fb24</td>\n",
       "      <td>2016-01-15</td>\n",
       "      <td>29</td>\n",
       "      <td>air_ba937bf13d40fb24_2016-01-15</td>\n",
       "      <td>4</td>\n",
       "      <td>2016</td>\n",
       "      <td>1</td>\n",
       "      <td>15</td>\n",
       "      <td>31</td>\n",
       "      <td>2</td>\n",
       "      <td>False</td>\n",
       "    </tr>\n",
       "    <tr>\n",
       "      <th>3</th>\n",
       "      <td>past</td>\n",
       "      <td>air_ba937bf13d40fb24</td>\n",
       "      <td>2016-01-16</td>\n",
       "      <td>22</td>\n",
       "      <td>air_ba937bf13d40fb24_2016-01-16</td>\n",
       "      <td>5</td>\n",
       "      <td>2016</td>\n",
       "      <td>1</td>\n",
       "      <td>16</td>\n",
       "      <td>31</td>\n",
       "      <td>2</td>\n",
       "      <td>False</td>\n",
       "    </tr>\n",
       "    <tr>\n",
       "      <th>4</th>\n",
       "      <td>past</td>\n",
       "      <td>air_ba937bf13d40fb24</td>\n",
       "      <td>2016-01-18</td>\n",
       "      <td>6</td>\n",
       "      <td>air_ba937bf13d40fb24_2016-01-18</td>\n",
       "      <td>0</td>\n",
       "      <td>2016</td>\n",
       "      <td>1</td>\n",
       "      <td>18</td>\n",
       "      <td>31</td>\n",
       "      <td>3</td>\n",
       "      <td>False</td>\n",
       "    </tr>\n",
       "  </tbody>\n",
       "</table>\n",
       "</div>"
      ],
      "text/plain": [
       "  dataset          air_store_id visit_date  visitors  \\\n",
       "0    past  air_ba937bf13d40fb24 2016-01-13        25   \n",
       "1    past  air_ba937bf13d40fb24 2016-01-14        32   \n",
       "2    past  air_ba937bf13d40fb24 2016-01-15        29   \n",
       "3    past  air_ba937bf13d40fb24 2016-01-16        22   \n",
       "4    past  air_ba937bf13d40fb24 2016-01-18         6   \n",
       "\n",
       "                                id  weekday  year  month  day_of_year  \\\n",
       "0  air_ba937bf13d40fb24_2016-01-13        2  2016      1           13   \n",
       "1  air_ba937bf13d40fb24_2016-01-14        3  2016      1           14   \n",
       "2  air_ba937bf13d40fb24_2016-01-15        4  2016      1           15   \n",
       "3  air_ba937bf13d40fb24_2016-01-16        5  2016      1           16   \n",
       "4  air_ba937bf13d40fb24_2016-01-18        0  2016      1           18   \n",
       "\n",
       "   days_in_month  week_of_year  is_month_end  \n",
       "0             31             2         False  \n",
       "1             31             2         False  \n",
       "2             31             2         False  \n",
       "3             31             2         False  \n",
       "4             31             3         False  "
      ]
     },
     "execution_count": 43,
     "metadata": {},
     "output_type": "execute_result"
    }
   ],
   "source": [
    "train_dt.head()"
   ]
  },
  {
   "cell_type": "code",
   "execution_count": 44,
   "id": "11a6ef56",
   "metadata": {
    "execution": {
     "iopub.execute_input": "2021-08-05T04:53:41.198063Z",
     "iopub.status.busy": "2021-08-05T04:53:41.197436Z",
     "iopub.status.idle": "2021-08-05T04:53:41.202774Z",
     "shell.execute_reply": "2021-08-05T04:53:41.202144Z",
     "shell.execute_reply.started": "2021-08-05T04:29:37.160169Z"
    },
    "papermill": {
     "duration": 0.107358,
     "end_time": "2021-08-05T04:53:41.202913",
     "exception": false,
     "start_time": "2021-08-05T04:53:41.095555",
     "status": "completed"
    },
    "tags": []
   },
   "outputs": [
    {
     "data": {
      "text/plain": [
       "Timestamp('2016-01-01 00:00:00')"
      ]
     },
     "execution_count": 44,
     "metadata": {},
     "output_type": "execute_result"
    }
   ],
   "source": [
    "#시작 시간(? / 데이터에 있는 가장 첫 날짜\n",
    "train_dt.visit_date.min()"
   ]
  },
  {
   "cell_type": "code",
   "execution_count": 45,
   "id": "a82874b1",
   "metadata": {
    "execution": {
     "iopub.execute_input": "2021-08-05T04:53:41.401781Z",
     "iopub.status.busy": "2021-08-05T04:53:41.400985Z",
     "iopub.status.idle": "2021-08-05T04:53:41.404920Z",
     "shell.execute_reply": "2021-08-05T04:53:41.405536Z",
     "shell.execute_reply.started": "2021-08-05T04:29:37.170888Z"
    },
    "papermill": {
     "duration": 0.105146,
     "end_time": "2021-08-05T04:53:41.405737",
     "exception": false,
     "start_time": "2021-08-05T04:53:41.300591",
     "status": "completed"
    },
    "tags": []
   },
   "outputs": [],
   "source": [
    "first_day = pd.to_datetime('2016-01-01')"
   ]
  },
  {
   "cell_type": "code",
   "execution_count": 46,
   "id": "1ad01e0e",
   "metadata": {
    "execution": {
     "iopub.execute_input": "2021-08-05T04:53:41.605141Z",
     "iopub.status.busy": "2021-08-05T04:53:41.604500Z",
     "iopub.status.idle": "2021-08-05T04:53:45.531417Z",
     "shell.execute_reply": "2021-08-05T04:53:45.531907Z",
     "shell.execute_reply.started": "2021-08-05T04:29:37.179342Z"
    },
    "papermill": {
     "duration": 4.028291,
     "end_time": "2021-08-05T04:53:45.532099",
     "exception": false,
     "start_time": "2021-08-05T04:53:41.503808",
     "status": "completed"
    },
    "tags": []
   },
   "outputs": [],
   "source": [
    "#데이터 내의 날짜들이 가장 첫 날짜로부터 얼마나 차이 나는지 구하기 위해\n",
    "train_dt['days_since_20160101'] = (train_dt.visit_date - first_day).apply(lambda dt : dt.days)"
   ]
  },
  {
   "cell_type": "code",
   "execution_count": 47,
   "id": "1ae5ebd4",
   "metadata": {
    "execution": {
     "iopub.execute_input": "2021-08-05T04:53:45.741097Z",
     "iopub.status.busy": "2021-08-05T04:53:45.740396Z",
     "iopub.status.idle": "2021-08-05T04:53:45.743427Z",
     "shell.execute_reply": "2021-08-05T04:53:45.743910Z",
     "shell.execute_reply.started": "2021-08-05T04:29:41.083794Z"
    },
    "papermill": {
     "duration": 0.112608,
     "end_time": "2021-08-05T04:53:45.744072",
     "exception": false,
     "start_time": "2021-08-05T04:53:45.631464",
     "status": "completed"
    },
    "tags": []
   },
   "outputs": [
    {
     "data": {
      "text/html": [
       "<div>\n",
       "<style scoped>\n",
       "    .dataframe tbody tr th:only-of-type {\n",
       "        vertical-align: middle;\n",
       "    }\n",
       "\n",
       "    .dataframe tbody tr th {\n",
       "        vertical-align: top;\n",
       "    }\n",
       "\n",
       "    .dataframe thead th {\n",
       "        text-align: right;\n",
       "    }\n",
       "</style>\n",
       "<table border=\"1\" class=\"dataframe\">\n",
       "  <thead>\n",
       "    <tr style=\"text-align: right;\">\n",
       "      <th></th>\n",
       "      <th>calendar_date</th>\n",
       "      <th>day_of_week</th>\n",
       "      <th>holiday_flg</th>\n",
       "    </tr>\n",
       "  </thead>\n",
       "  <tbody>\n",
       "    <tr>\n",
       "      <th>0</th>\n",
       "      <td>2016-01-01</td>\n",
       "      <td>Friday</td>\n",
       "      <td>1</td>\n",
       "    </tr>\n",
       "    <tr>\n",
       "      <th>1</th>\n",
       "      <td>2016-01-02</td>\n",
       "      <td>Saturday</td>\n",
       "      <td>1</td>\n",
       "    </tr>\n",
       "    <tr>\n",
       "      <th>2</th>\n",
       "      <td>2016-01-03</td>\n",
       "      <td>Sunday</td>\n",
       "      <td>1</td>\n",
       "    </tr>\n",
       "    <tr>\n",
       "      <th>3</th>\n",
       "      <td>2016-01-04</td>\n",
       "      <td>Monday</td>\n",
       "      <td>0</td>\n",
       "    </tr>\n",
       "    <tr>\n",
       "      <th>4</th>\n",
       "      <td>2016-01-05</td>\n",
       "      <td>Tuesday</td>\n",
       "      <td>0</td>\n",
       "    </tr>\n",
       "  </tbody>\n",
       "</table>\n",
       "</div>"
      ],
      "text/plain": [
       "  calendar_date day_of_week  holiday_flg\n",
       "0    2016-01-01      Friday            1\n",
       "1    2016-01-02    Saturday            1\n",
       "2    2016-01-03      Sunday            1\n",
       "3    2016-01-04      Monday            0\n",
       "4    2016-01-05     Tuesday            0"
      ]
     },
     "execution_count": 47,
     "metadata": {},
     "output_type": "execute_result"
    }
   ],
   "source": [
    "#holiday flag\n",
    "\n",
    "date_info.head()"
   ]
  },
  {
   "cell_type": "code",
   "execution_count": 48,
   "id": "39e92672",
   "metadata": {
    "execution": {
     "iopub.execute_input": "2021-08-05T04:53:45.945255Z",
     "iopub.status.busy": "2021-08-05T04:53:45.944569Z",
     "iopub.status.idle": "2021-08-05T04:53:45.951641Z",
     "shell.execute_reply": "2021-08-05T04:53:45.952149Z",
     "shell.execute_reply.started": "2021-08-05T04:29:41.096620Z"
    },
    "papermill": {
     "duration": 0.109467,
     "end_time": "2021-08-05T04:53:45.952355",
     "exception": false,
     "start_time": "2021-08-05T04:53:45.842888",
     "status": "completed"
    },
    "tags": []
   },
   "outputs": [],
   "source": [
    "#date_info table에 휴일 전 후에 대한 정보 칼럼 추가 \n",
    "date_info['tomorrow_is_holiday'] = date_info.holiday_flg.shift(-1).fillna(0).astype(int)\n",
    "date_info['yesterday_is_holiday'] = date_info.holiday_flg.shift(1).fillna(0).astype(int)"
   ]
  },
  {
   "cell_type": "code",
   "execution_count": 49,
   "id": "b3a9092c",
   "metadata": {
    "execution": {
     "iopub.execute_input": "2021-08-05T04:53:46.154946Z",
     "iopub.status.busy": "2021-08-05T04:53:46.154278Z",
     "iopub.status.idle": "2021-08-05T04:53:46.165580Z",
     "shell.execute_reply": "2021-08-05T04:53:46.166119Z",
     "shell.execute_reply.started": "2021-08-05T04:29:41.109715Z"
    },
    "papermill": {
     "duration": 0.113617,
     "end_time": "2021-08-05T04:53:46.166306",
     "exception": false,
     "start_time": "2021-08-05T04:53:46.052689",
     "status": "completed"
    },
    "tags": []
   },
   "outputs": [
    {
     "data": {
      "text/html": [
       "<div>\n",
       "<style scoped>\n",
       "    .dataframe tbody tr th:only-of-type {\n",
       "        vertical-align: middle;\n",
       "    }\n",
       "\n",
       "    .dataframe tbody tr th {\n",
       "        vertical-align: top;\n",
       "    }\n",
       "\n",
       "    .dataframe thead th {\n",
       "        text-align: right;\n",
       "    }\n",
       "</style>\n",
       "<table border=\"1\" class=\"dataframe\">\n",
       "  <thead>\n",
       "    <tr style=\"text-align: right;\">\n",
       "      <th></th>\n",
       "      <th>calendar_date</th>\n",
       "      <th>day_of_week</th>\n",
       "      <th>holiday_flg</th>\n",
       "      <th>tomorrow_is_holiday</th>\n",
       "      <th>yesterday_is_holiday</th>\n",
       "    </tr>\n",
       "  </thead>\n",
       "  <tbody>\n",
       "    <tr>\n",
       "      <th>0</th>\n",
       "      <td>2016-01-01</td>\n",
       "      <td>Friday</td>\n",
       "      <td>1</td>\n",
       "      <td>1</td>\n",
       "      <td>0</td>\n",
       "    </tr>\n",
       "    <tr>\n",
       "      <th>1</th>\n",
       "      <td>2016-01-02</td>\n",
       "      <td>Saturday</td>\n",
       "      <td>1</td>\n",
       "      <td>1</td>\n",
       "      <td>1</td>\n",
       "    </tr>\n",
       "    <tr>\n",
       "      <th>2</th>\n",
       "      <td>2016-01-03</td>\n",
       "      <td>Sunday</td>\n",
       "      <td>1</td>\n",
       "      <td>0</td>\n",
       "      <td>1</td>\n",
       "    </tr>\n",
       "    <tr>\n",
       "      <th>3</th>\n",
       "      <td>2016-01-04</td>\n",
       "      <td>Monday</td>\n",
       "      <td>0</td>\n",
       "      <td>0</td>\n",
       "      <td>1</td>\n",
       "    </tr>\n",
       "    <tr>\n",
       "      <th>4</th>\n",
       "      <td>2016-01-05</td>\n",
       "      <td>Tuesday</td>\n",
       "      <td>0</td>\n",
       "      <td>0</td>\n",
       "      <td>0</td>\n",
       "    </tr>\n",
       "  </tbody>\n",
       "</table>\n",
       "</div>"
      ],
      "text/plain": [
       "  calendar_date day_of_week  holiday_flg  tomorrow_is_holiday  \\\n",
       "0    2016-01-01      Friday            1                    1   \n",
       "1    2016-01-02    Saturday            1                    1   \n",
       "2    2016-01-03      Sunday            1                    0   \n",
       "3    2016-01-04      Monday            0                    0   \n",
       "4    2016-01-05     Tuesday            0                    0   \n",
       "\n",
       "   yesterday_is_holiday  \n",
       "0                     0  \n",
       "1                     1  \n",
       "2                     1  \n",
       "3                     1  \n",
       "4                     0  "
      ]
     },
     "execution_count": 49,
     "metadata": {},
     "output_type": "execute_result"
    }
   ],
   "source": [
    "date_info.head()"
   ]
  },
  {
   "cell_type": "code",
   "execution_count": 50,
   "id": "05283aa8",
   "metadata": {
    "execution": {
     "iopub.execute_input": "2021-08-05T04:53:46.369478Z",
     "iopub.status.busy": "2021-08-05T04:53:46.368822Z",
     "iopub.status.idle": "2021-08-05T04:53:46.375573Z",
     "shell.execute_reply": "2021-08-05T04:53:46.374959Z",
     "shell.execute_reply.started": "2021-08-05T04:29:41.130985Z"
    },
    "papermill": {
     "duration": 0.108274,
     "end_time": "2021-08-05T04:53:46.375724",
     "exception": false,
     "start_time": "2021-08-05T04:53:46.267450",
     "status": "completed"
    },
    "tags": []
   },
   "outputs": [],
   "source": [
    "date_info.calendar_date = pd.to_datetime(date_info.calendar_date)"
   ]
  },
  {
   "cell_type": "code",
   "execution_count": 51,
   "id": "c94dbea4",
   "metadata": {
    "execution": {
     "iopub.execute_input": "2021-08-05T04:53:46.577049Z",
     "iopub.status.busy": "2021-08-05T04:53:46.576414Z",
     "iopub.status.idle": "2021-08-05T04:53:46.591359Z",
     "shell.execute_reply": "2021-08-05T04:53:46.592332Z",
     "shell.execute_reply.started": "2021-08-05T04:29:41.142581Z"
    },
    "papermill": {
     "duration": 0.117448,
     "end_time": "2021-08-05T04:53:46.592638",
     "exception": false,
     "start_time": "2021-08-05T04:53:46.475190",
     "status": "completed"
    },
    "tags": []
   },
   "outputs": [
    {
     "name": "stdout",
     "output_type": "stream",
     "text": [
      "<class 'pandas.core.frame.DataFrame'>\n",
      "RangeIndex: 517 entries, 0 to 516\n",
      "Data columns (total 5 columns):\n",
      " #   Column                Non-Null Count  Dtype         \n",
      "---  ------                --------------  -----         \n",
      " 0   calendar_date         517 non-null    datetime64[ns]\n",
      " 1   day_of_week           517 non-null    object        \n",
      " 2   holiday_flg           517 non-null    int64         \n",
      " 3   tomorrow_is_holiday   517 non-null    int64         \n",
      " 4   yesterday_is_holiday  517 non-null    int64         \n",
      "dtypes: datetime64[ns](1), int64(3), object(1)\n",
      "memory usage: 20.3+ KB\n"
     ]
    }
   ],
   "source": [
    "date_info.info()"
   ]
  },
  {
   "cell_type": "code",
   "execution_count": 52,
   "id": "828ff380",
   "metadata": {
    "execution": {
     "iopub.execute_input": "2021-08-05T04:53:46.828050Z",
     "iopub.status.busy": "2021-08-05T04:53:46.827368Z",
     "iopub.status.idle": "2021-08-05T04:53:46.902612Z",
     "shell.execute_reply": "2021-08-05T04:53:46.903312Z",
     "shell.execute_reply.started": "2021-08-05T04:29:41.165410Z"
    },
    "papermill": {
     "duration": 0.208424,
     "end_time": "2021-08-05T04:53:46.903561",
     "exception": false,
     "start_time": "2021-08-05T04:53:46.695137",
     "status": "completed"
    },
    "tags": []
   },
   "outputs": [
    {
     "name": "stdout",
     "output_type": "stream",
     "text": [
      "<class 'pandas.core.frame.DataFrame'>\n",
      "RangeIndex: 284127 entries, 0 to 284126\n",
      "Data columns (total 13 columns):\n",
      " #   Column               Non-Null Count   Dtype         \n",
      "---  ------               --------------   -----         \n",
      " 0   dataset              284127 non-null  object        \n",
      " 1   air_store_id         284127 non-null  object        \n",
      " 2   visit_date           284127 non-null  datetime64[ns]\n",
      " 3   visitors             284127 non-null  int64         \n",
      " 4   id                   284127 non-null  object        \n",
      " 5   weekday              284127 non-null  int64         \n",
      " 6   year                 284127 non-null  int64         \n",
      " 7   month                284127 non-null  int64         \n",
      " 8   day_of_year          284127 non-null  int64         \n",
      " 9   days_in_month        284127 non-null  int64         \n",
      " 10  week_of_year         284127 non-null  int64         \n",
      " 11  is_month_end         284127 non-null  bool          \n",
      " 12  days_since_20160101  284127 non-null  int64         \n",
      "dtypes: bool(1), datetime64[ns](1), int64(8), object(3)\n",
      "memory usage: 26.3+ MB\n"
     ]
    }
   ],
   "source": [
    "train_dt.info()"
   ]
  },
  {
   "cell_type": "code",
   "execution_count": 53,
   "id": "16b68914",
   "metadata": {
    "execution": {
     "iopub.execute_input": "2021-08-05T04:53:47.123766Z",
     "iopub.status.busy": "2021-08-05T04:53:47.123073Z",
     "iopub.status.idle": "2021-08-05T04:53:47.125762Z",
     "shell.execute_reply": "2021-08-05T04:53:47.126238Z",
     "shell.execute_reply.started": "2021-08-05T04:29:41.277927Z"
    },
    "papermill": {
     "duration": 0.121659,
     "end_time": "2021-08-05T04:53:47.126413",
     "exception": false,
     "start_time": "2021-08-05T04:53:47.004754",
     "status": "completed"
    },
    "tags": []
   },
   "outputs": [
    {
     "data": {
      "text/html": [
       "<div>\n",
       "<style scoped>\n",
       "    .dataframe tbody tr th:only-of-type {\n",
       "        vertical-align: middle;\n",
       "    }\n",
       "\n",
       "    .dataframe tbody tr th {\n",
       "        vertical-align: top;\n",
       "    }\n",
       "\n",
       "    .dataframe thead th {\n",
       "        text-align: right;\n",
       "    }\n",
       "</style>\n",
       "<table border=\"1\" class=\"dataframe\">\n",
       "  <thead>\n",
       "    <tr style=\"text-align: right;\">\n",
       "      <th></th>\n",
       "      <th>dataset</th>\n",
       "      <th>air_store_id</th>\n",
       "      <th>visit_date</th>\n",
       "      <th>visitors</th>\n",
       "      <th>id</th>\n",
       "      <th>weekday</th>\n",
       "      <th>year</th>\n",
       "      <th>month</th>\n",
       "      <th>day_of_year</th>\n",
       "      <th>days_in_month</th>\n",
       "      <th>week_of_year</th>\n",
       "      <th>is_month_end</th>\n",
       "      <th>days_since_20160101</th>\n",
       "    </tr>\n",
       "  </thead>\n",
       "  <tbody>\n",
       "    <tr>\n",
       "      <th>0</th>\n",
       "      <td>past</td>\n",
       "      <td>air_ba937bf13d40fb24</td>\n",
       "      <td>2016-01-13</td>\n",
       "      <td>25</td>\n",
       "      <td>air_ba937bf13d40fb24_2016-01-13</td>\n",
       "      <td>2</td>\n",
       "      <td>2016</td>\n",
       "      <td>1</td>\n",
       "      <td>13</td>\n",
       "      <td>31</td>\n",
       "      <td>2</td>\n",
       "      <td>False</td>\n",
       "      <td>12</td>\n",
       "    </tr>\n",
       "    <tr>\n",
       "      <th>1</th>\n",
       "      <td>past</td>\n",
       "      <td>air_ba937bf13d40fb24</td>\n",
       "      <td>2016-01-14</td>\n",
       "      <td>32</td>\n",
       "      <td>air_ba937bf13d40fb24_2016-01-14</td>\n",
       "      <td>3</td>\n",
       "      <td>2016</td>\n",
       "      <td>1</td>\n",
       "      <td>14</td>\n",
       "      <td>31</td>\n",
       "      <td>2</td>\n",
       "      <td>False</td>\n",
       "      <td>13</td>\n",
       "    </tr>\n",
       "    <tr>\n",
       "      <th>2</th>\n",
       "      <td>past</td>\n",
       "      <td>air_ba937bf13d40fb24</td>\n",
       "      <td>2016-01-15</td>\n",
       "      <td>29</td>\n",
       "      <td>air_ba937bf13d40fb24_2016-01-15</td>\n",
       "      <td>4</td>\n",
       "      <td>2016</td>\n",
       "      <td>1</td>\n",
       "      <td>15</td>\n",
       "      <td>31</td>\n",
       "      <td>2</td>\n",
       "      <td>False</td>\n",
       "      <td>14</td>\n",
       "    </tr>\n",
       "    <tr>\n",
       "      <th>3</th>\n",
       "      <td>past</td>\n",
       "      <td>air_ba937bf13d40fb24</td>\n",
       "      <td>2016-01-16</td>\n",
       "      <td>22</td>\n",
       "      <td>air_ba937bf13d40fb24_2016-01-16</td>\n",
       "      <td>5</td>\n",
       "      <td>2016</td>\n",
       "      <td>1</td>\n",
       "      <td>16</td>\n",
       "      <td>31</td>\n",
       "      <td>2</td>\n",
       "      <td>False</td>\n",
       "      <td>15</td>\n",
       "    </tr>\n",
       "    <tr>\n",
       "      <th>4</th>\n",
       "      <td>past</td>\n",
       "      <td>air_ba937bf13d40fb24</td>\n",
       "      <td>2016-01-18</td>\n",
       "      <td>6</td>\n",
       "      <td>air_ba937bf13d40fb24_2016-01-18</td>\n",
       "      <td>0</td>\n",
       "      <td>2016</td>\n",
       "      <td>1</td>\n",
       "      <td>18</td>\n",
       "      <td>31</td>\n",
       "      <td>3</td>\n",
       "      <td>False</td>\n",
       "      <td>17</td>\n",
       "    </tr>\n",
       "  </tbody>\n",
       "</table>\n",
       "</div>"
      ],
      "text/plain": [
       "  dataset          air_store_id visit_date  visitors  \\\n",
       "0    past  air_ba937bf13d40fb24 2016-01-13        25   \n",
       "1    past  air_ba937bf13d40fb24 2016-01-14        32   \n",
       "2    past  air_ba937bf13d40fb24 2016-01-15        29   \n",
       "3    past  air_ba937bf13d40fb24 2016-01-16        22   \n",
       "4    past  air_ba937bf13d40fb24 2016-01-18         6   \n",
       "\n",
       "                                id  weekday  year  month  day_of_year  \\\n",
       "0  air_ba937bf13d40fb24_2016-01-13        2  2016      1           13   \n",
       "1  air_ba937bf13d40fb24_2016-01-14        3  2016      1           14   \n",
       "2  air_ba937bf13d40fb24_2016-01-15        4  2016      1           15   \n",
       "3  air_ba937bf13d40fb24_2016-01-16        5  2016      1           16   \n",
       "4  air_ba937bf13d40fb24_2016-01-18        0  2016      1           18   \n",
       "\n",
       "   days_in_month  week_of_year  is_month_end  days_since_20160101  \n",
       "0             31             2         False                   12  \n",
       "1             31             2         False                   13  \n",
       "2             31             2         False                   14  \n",
       "3             31             2         False                   15  \n",
       "4             31             3         False                   17  "
      ]
     },
     "execution_count": 53,
     "metadata": {},
     "output_type": "execute_result"
    }
   ],
   "source": [
    "train_dt.head()"
   ]
  },
  {
   "cell_type": "code",
   "execution_count": 54,
   "id": "802e22eb",
   "metadata": {
    "execution": {
     "iopub.execute_input": "2021-08-05T04:53:47.330795Z",
     "iopub.status.busy": "2021-08-05T04:53:47.330114Z",
     "iopub.status.idle": "2021-08-05T04:53:47.495176Z",
     "shell.execute_reply": "2021-08-05T04:53:47.495747Z",
     "shell.execute_reply.started": "2021-08-05T04:29:41.298167Z"
    },
    "papermill": {
     "duration": 0.269427,
     "end_time": "2021-08-05T04:53:47.495921",
     "exception": false,
     "start_time": "2021-08-05T04:53:47.226494",
     "status": "completed"
    },
    "tags": []
   },
   "outputs": [],
   "source": [
    "train_dt = pd.merge(left=train_dt, right = date_info.drop('day_of_week', axis = 1), how='left', left_on='visit_date', right_on='calendar_date').drop('calendar_date', axis=1)"
   ]
  },
  {
   "cell_type": "code",
   "execution_count": 55,
   "id": "cf0148f6",
   "metadata": {
    "execution": {
     "iopub.execute_input": "2021-08-05T04:53:47.702657Z",
     "iopub.status.busy": "2021-08-05T04:53:47.702008Z",
     "iopub.status.idle": "2021-08-05T04:53:47.718825Z",
     "shell.execute_reply": "2021-08-05T04:53:47.719332Z",
     "shell.execute_reply.started": "2021-08-05T04:29:41.467753Z"
    },
    "papermill": {
     "duration": 0.121373,
     "end_time": "2021-08-05T04:53:47.719533",
     "exception": false,
     "start_time": "2021-08-05T04:53:47.598160",
     "status": "completed"
    },
    "tags": []
   },
   "outputs": [
    {
     "data": {
      "text/html": [
       "<div>\n",
       "<style scoped>\n",
       "    .dataframe tbody tr th:only-of-type {\n",
       "        vertical-align: middle;\n",
       "    }\n",
       "\n",
       "    .dataframe tbody tr th {\n",
       "        vertical-align: top;\n",
       "    }\n",
       "\n",
       "    .dataframe thead th {\n",
       "        text-align: right;\n",
       "    }\n",
       "</style>\n",
       "<table border=\"1\" class=\"dataframe\">\n",
       "  <thead>\n",
       "    <tr style=\"text-align: right;\">\n",
       "      <th></th>\n",
       "      <th>dataset</th>\n",
       "      <th>air_store_id</th>\n",
       "      <th>visit_date</th>\n",
       "      <th>visitors</th>\n",
       "      <th>id</th>\n",
       "      <th>weekday</th>\n",
       "      <th>year</th>\n",
       "      <th>month</th>\n",
       "      <th>day_of_year</th>\n",
       "      <th>days_in_month</th>\n",
       "      <th>week_of_year</th>\n",
       "      <th>is_month_end</th>\n",
       "      <th>days_since_20160101</th>\n",
       "      <th>holiday_flg</th>\n",
       "      <th>tomorrow_is_holiday</th>\n",
       "      <th>yesterday_is_holiday</th>\n",
       "    </tr>\n",
       "  </thead>\n",
       "  <tbody>\n",
       "    <tr>\n",
       "      <th>0</th>\n",
       "      <td>past</td>\n",
       "      <td>air_ba937bf13d40fb24</td>\n",
       "      <td>2016-01-13</td>\n",
       "      <td>25</td>\n",
       "      <td>air_ba937bf13d40fb24_2016-01-13</td>\n",
       "      <td>2</td>\n",
       "      <td>2016</td>\n",
       "      <td>1</td>\n",
       "      <td>13</td>\n",
       "      <td>31</td>\n",
       "      <td>2</td>\n",
       "      <td>False</td>\n",
       "      <td>12</td>\n",
       "      <td>0</td>\n",
       "      <td>0</td>\n",
       "      <td>0</td>\n",
       "    </tr>\n",
       "    <tr>\n",
       "      <th>1</th>\n",
       "      <td>past</td>\n",
       "      <td>air_ba937bf13d40fb24</td>\n",
       "      <td>2016-01-14</td>\n",
       "      <td>32</td>\n",
       "      <td>air_ba937bf13d40fb24_2016-01-14</td>\n",
       "      <td>3</td>\n",
       "      <td>2016</td>\n",
       "      <td>1</td>\n",
       "      <td>14</td>\n",
       "      <td>31</td>\n",
       "      <td>2</td>\n",
       "      <td>False</td>\n",
       "      <td>13</td>\n",
       "      <td>0</td>\n",
       "      <td>0</td>\n",
       "      <td>0</td>\n",
       "    </tr>\n",
       "    <tr>\n",
       "      <th>2</th>\n",
       "      <td>past</td>\n",
       "      <td>air_ba937bf13d40fb24</td>\n",
       "      <td>2016-01-15</td>\n",
       "      <td>29</td>\n",
       "      <td>air_ba937bf13d40fb24_2016-01-15</td>\n",
       "      <td>4</td>\n",
       "      <td>2016</td>\n",
       "      <td>1</td>\n",
       "      <td>15</td>\n",
       "      <td>31</td>\n",
       "      <td>2</td>\n",
       "      <td>False</td>\n",
       "      <td>14</td>\n",
       "      <td>0</td>\n",
       "      <td>0</td>\n",
       "      <td>0</td>\n",
       "    </tr>\n",
       "    <tr>\n",
       "      <th>3</th>\n",
       "      <td>past</td>\n",
       "      <td>air_ba937bf13d40fb24</td>\n",
       "      <td>2016-01-16</td>\n",
       "      <td>22</td>\n",
       "      <td>air_ba937bf13d40fb24_2016-01-16</td>\n",
       "      <td>5</td>\n",
       "      <td>2016</td>\n",
       "      <td>1</td>\n",
       "      <td>16</td>\n",
       "      <td>31</td>\n",
       "      <td>2</td>\n",
       "      <td>False</td>\n",
       "      <td>15</td>\n",
       "      <td>0</td>\n",
       "      <td>0</td>\n",
       "      <td>0</td>\n",
       "    </tr>\n",
       "    <tr>\n",
       "      <th>4</th>\n",
       "      <td>past</td>\n",
       "      <td>air_ba937bf13d40fb24</td>\n",
       "      <td>2016-01-18</td>\n",
       "      <td>6</td>\n",
       "      <td>air_ba937bf13d40fb24_2016-01-18</td>\n",
       "      <td>0</td>\n",
       "      <td>2016</td>\n",
       "      <td>1</td>\n",
       "      <td>18</td>\n",
       "      <td>31</td>\n",
       "      <td>3</td>\n",
       "      <td>False</td>\n",
       "      <td>17</td>\n",
       "      <td>0</td>\n",
       "      <td>0</td>\n",
       "      <td>0</td>\n",
       "    </tr>\n",
       "  </tbody>\n",
       "</table>\n",
       "</div>"
      ],
      "text/plain": [
       "  dataset          air_store_id visit_date  visitors  \\\n",
       "0    past  air_ba937bf13d40fb24 2016-01-13        25   \n",
       "1    past  air_ba937bf13d40fb24 2016-01-14        32   \n",
       "2    past  air_ba937bf13d40fb24 2016-01-15        29   \n",
       "3    past  air_ba937bf13d40fb24 2016-01-16        22   \n",
       "4    past  air_ba937bf13d40fb24 2016-01-18         6   \n",
       "\n",
       "                                id  weekday  year  month  day_of_year  \\\n",
       "0  air_ba937bf13d40fb24_2016-01-13        2  2016      1           13   \n",
       "1  air_ba937bf13d40fb24_2016-01-14        3  2016      1           14   \n",
       "2  air_ba937bf13d40fb24_2016-01-15        4  2016      1           15   \n",
       "3  air_ba937bf13d40fb24_2016-01-16        5  2016      1           16   \n",
       "4  air_ba937bf13d40fb24_2016-01-18        0  2016      1           18   \n",
       "\n",
       "   days_in_month  week_of_year  is_month_end  days_since_20160101  \\\n",
       "0             31             2         False                   12   \n",
       "1             31             2         False                   13   \n",
       "2             31             2         False                   14   \n",
       "3             31             2         False                   15   \n",
       "4             31             3         False                   17   \n",
       "\n",
       "   holiday_flg  tomorrow_is_holiday  yesterday_is_holiday  \n",
       "0            0                    0                     0  \n",
       "1            0                    0                     0  \n",
       "2            0                    0                     0  \n",
       "3            0                    0                     0  \n",
       "4            0                    0                     0  "
      ]
     },
     "execution_count": 55,
     "metadata": {},
     "output_type": "execute_result"
    }
   ],
   "source": [
    "train_dt.head()"
   ]
  },
  {
   "cell_type": "code",
   "execution_count": 56,
   "id": "741e976f",
   "metadata": {
    "execution": {
     "iopub.execute_input": "2021-08-05T04:53:47.927820Z",
     "iopub.status.busy": "2021-08-05T04:53:47.927043Z",
     "iopub.status.idle": "2021-08-05T04:53:48.057720Z",
     "shell.execute_reply": "2021-08-05T04:53:48.057065Z",
     "shell.execute_reply.started": "2021-08-05T04:29:41.495287Z"
    },
    "papermill": {
     "duration": 0.235294,
     "end_time": "2021-08-05T04:53:48.057899",
     "exception": false,
     "start_time": "2021-08-05T04:53:47.822605",
     "status": "completed"
    },
    "tags": []
   },
   "outputs": [
    {
     "data": {
      "text/html": [
       "<div>\n",
       "<style scoped>\n",
       "    .dataframe tbody tr th:only-of-type {\n",
       "        vertical-align: middle;\n",
       "    }\n",
       "\n",
       "    .dataframe tbody tr th {\n",
       "        vertical-align: top;\n",
       "    }\n",
       "\n",
       "    .dataframe thead th {\n",
       "        text-align: right;\n",
       "    }\n",
       "</style>\n",
       "<table border=\"1\" class=\"dataframe\">\n",
       "  <thead>\n",
       "    <tr style=\"text-align: right;\">\n",
       "      <th></th>\n",
       "      <th>air_store_id</th>\n",
       "      <th>air_genre_name</th>\n",
       "      <th>air_area_name</th>\n",
       "      <th>latitude_air</th>\n",
       "      <th>longitude_air</th>\n",
       "      <th>hpg_store_id</th>\n",
       "      <th>hpg_genre_name</th>\n",
       "      <th>hpg_area_name</th>\n",
       "      <th>latitude_hpg</th>\n",
       "      <th>longitude_hpg</th>\n",
       "      <th>Todofuken</th>\n",
       "      <th>city</th>\n",
       "      <th>street</th>\n",
       "    </tr>\n",
       "  </thead>\n",
       "  <tbody>\n",
       "    <tr>\n",
       "      <th>0</th>\n",
       "      <td>air_0f0cdeee6c9bf3d7</td>\n",
       "      <td>Italian/French</td>\n",
       "      <td>Hyōgo-ken Kōbe-shi Kumoidōri</td>\n",
       "      <td>34.695124</td>\n",
       "      <td>135.197853</td>\n",
       "      <td>NaN</td>\n",
       "      <td>NaN</td>\n",
       "      <td>NaN</td>\n",
       "      <td>NaN</td>\n",
       "      <td>NaN</td>\n",
       "      <td>Hyōgo-ken</td>\n",
       "      <td>Kōbe-shi</td>\n",
       "      <td>Kumoidōri</td>\n",
       "    </tr>\n",
       "    <tr>\n",
       "      <th>1</th>\n",
       "      <td>air_7cc17a324ae5c7dc</td>\n",
       "      <td>Italian/French</td>\n",
       "      <td>Hyōgo-ken Kōbe-shi Kumoidōri</td>\n",
       "      <td>34.695124</td>\n",
       "      <td>135.197853</td>\n",
       "      <td>hpg_9b38b9e13da6da27</td>\n",
       "      <td>NaN</td>\n",
       "      <td>NaN</td>\n",
       "      <td>NaN</td>\n",
       "      <td>NaN</td>\n",
       "      <td>Hyōgo-ken</td>\n",
       "      <td>Kōbe-shi</td>\n",
       "      <td>Kumoidōri</td>\n",
       "    </tr>\n",
       "    <tr>\n",
       "      <th>2</th>\n",
       "      <td>air_fee8dcf4d619598e</td>\n",
       "      <td>Italian/French</td>\n",
       "      <td>Hyōgo-ken Kōbe-shi Kumoidōri</td>\n",
       "      <td>34.695124</td>\n",
       "      <td>135.197853</td>\n",
       "      <td>NaN</td>\n",
       "      <td>NaN</td>\n",
       "      <td>NaN</td>\n",
       "      <td>NaN</td>\n",
       "      <td>NaN</td>\n",
       "      <td>Hyōgo-ken</td>\n",
       "      <td>Kōbe-shi</td>\n",
       "      <td>Kumoidōri</td>\n",
       "    </tr>\n",
       "    <tr>\n",
       "      <th>3</th>\n",
       "      <td>air_a17f0778617c76e2</td>\n",
       "      <td>Italian/French</td>\n",
       "      <td>Hyōgo-ken Kōbe-shi Kumoidōri</td>\n",
       "      <td>34.695124</td>\n",
       "      <td>135.197853</td>\n",
       "      <td>NaN</td>\n",
       "      <td>NaN</td>\n",
       "      <td>NaN</td>\n",
       "      <td>NaN</td>\n",
       "      <td>NaN</td>\n",
       "      <td>Hyōgo-ken</td>\n",
       "      <td>Kōbe-shi</td>\n",
       "      <td>Kumoidōri</td>\n",
       "    </tr>\n",
       "    <tr>\n",
       "      <th>4</th>\n",
       "      <td>air_83db5aff8f50478e</td>\n",
       "      <td>Italian/French</td>\n",
       "      <td>Tōkyō-to Minato-ku Shibakōen</td>\n",
       "      <td>35.658068</td>\n",
       "      <td>139.751599</td>\n",
       "      <td>NaN</td>\n",
       "      <td>NaN</td>\n",
       "      <td>NaN</td>\n",
       "      <td>NaN</td>\n",
       "      <td>NaN</td>\n",
       "      <td>Tōkyō-to</td>\n",
       "      <td>Minato-ku</td>\n",
       "      <td>Shibakōen</td>\n",
       "    </tr>\n",
       "  </tbody>\n",
       "</table>\n",
       "</div>"
      ],
      "text/plain": [
       "           air_store_id  air_genre_name                 air_area_name  \\\n",
       "0  air_0f0cdeee6c9bf3d7  Italian/French  Hyōgo-ken Kōbe-shi Kumoidōri   \n",
       "1  air_7cc17a324ae5c7dc  Italian/French  Hyōgo-ken Kōbe-shi Kumoidōri   \n",
       "2  air_fee8dcf4d619598e  Italian/French  Hyōgo-ken Kōbe-shi Kumoidōri   \n",
       "3  air_a17f0778617c76e2  Italian/French  Hyōgo-ken Kōbe-shi Kumoidōri   \n",
       "4  air_83db5aff8f50478e  Italian/French  Tōkyō-to Minato-ku Shibakōen   \n",
       "\n",
       "   latitude_air  longitude_air          hpg_store_id hpg_genre_name  \\\n",
       "0     34.695124     135.197853                   NaN            NaN   \n",
       "1     34.695124     135.197853  hpg_9b38b9e13da6da27            NaN   \n",
       "2     34.695124     135.197853                   NaN            NaN   \n",
       "3     34.695124     135.197853                   NaN            NaN   \n",
       "4     35.658068     139.751599                   NaN            NaN   \n",
       "\n",
       "  hpg_area_name  latitude_hpg  longitude_hpg  Todofuken       city     street  \n",
       "0           NaN           NaN            NaN  Hyōgo-ken   Kōbe-shi  Kumoidōri  \n",
       "1           NaN           NaN            NaN  Hyōgo-ken   Kōbe-shi  Kumoidōri  \n",
       "2           NaN           NaN            NaN  Hyōgo-ken   Kōbe-shi  Kumoidōri  \n",
       "3           NaN           NaN            NaN  Hyōgo-ken   Kōbe-shi  Kumoidōri  \n",
       "4           NaN           NaN            NaN   Tōkyō-to  Minato-ku  Shibakōen  "
      ]
     },
     "execution_count": 56,
     "metadata": {},
     "output_type": "execute_result"
    }
   ],
   "source": [
    "#location features\n",
    "\n",
    "#위치 데이터를 todofuken(우리나라로 치면 8도 개념), city, street으로 분리\n",
    "area_split = stores_info.air_area_name.str.split(' ', expand=True)\n",
    "\n",
    "stores_info[\"Todofuken\"] = area_split[0]\n",
    "stores_info[\"city\"] = area_split[1]\n",
    "stores_info[\"street\"] = area_split.iloc[:,2:].apply(lambda row : ' '.join(row.dropna()), axis =1)\n",
    "\n",
    "stores_info.head()"
   ]
  },
  {
   "cell_type": "code",
   "execution_count": 57,
   "id": "cafb7eda",
   "metadata": {
    "execution": {
     "iopub.execute_input": "2021-08-05T04:53:48.273453Z",
     "iopub.status.busy": "2021-08-05T04:53:48.272753Z",
     "iopub.status.idle": "2021-08-05T04:53:48.280348Z",
     "shell.execute_reply": "2021-08-05T04:53:48.279703Z",
     "shell.execute_reply.started": "2021-08-05T04:29:41.642097Z"
    },
    "papermill": {
     "duration": 0.119599,
     "end_time": "2021-08-05T04:53:48.280500",
     "exception": false,
     "start_time": "2021-08-05T04:53:48.160901",
     "status": "completed"
    },
    "tags": []
   },
   "outputs": [],
   "source": [
    "#같은 지역 count\n",
    "n_stores_by_street = stores_info.groupby(['air_area_name']).size().to_frame(name='n_stores_same_street').reset_index()\n",
    "n_stores_by_city = stores_info.groupby(['Todofuken', 'city']).size().to_frame(name='n_stores_same_city').reset_index()\n",
    "n_stores_by_Todofuken = stores_info.groupby('Todofuken').size().to_frame(name='n_stores_same_Todofuken').reset_index()"
   ]
  },
  {
   "cell_type": "code",
   "execution_count": 58,
   "id": "2e5f1beb",
   "metadata": {
    "execution": {
     "iopub.execute_input": "2021-08-05T04:53:48.496000Z",
     "iopub.status.busy": "2021-08-05T04:53:48.495119Z",
     "iopub.status.idle": "2021-08-05T04:53:48.499503Z",
     "shell.execute_reply": "2021-08-05T04:53:48.498861Z",
     "shell.execute_reply.started": "2021-08-05T04:29:41.661103Z"
    },
    "papermill": {
     "duration": 0.116021,
     "end_time": "2021-08-05T04:53:48.499640",
     "exception": false,
     "start_time": "2021-08-05T04:53:48.383619",
     "status": "completed"
    },
    "tags": []
   },
   "outputs": [
    {
     "data": {
      "text/html": [
       "<div>\n",
       "<style scoped>\n",
       "    .dataframe tbody tr th:only-of-type {\n",
       "        vertical-align: middle;\n",
       "    }\n",
       "\n",
       "    .dataframe tbody tr th {\n",
       "        vertical-align: top;\n",
       "    }\n",
       "\n",
       "    .dataframe thead th {\n",
       "        text-align: right;\n",
       "    }\n",
       "</style>\n",
       "<table border=\"1\" class=\"dataframe\">\n",
       "  <thead>\n",
       "    <tr style=\"text-align: right;\">\n",
       "      <th></th>\n",
       "      <th>air_area_name</th>\n",
       "      <th>n_stores_same_street</th>\n",
       "    </tr>\n",
       "  </thead>\n",
       "  <tbody>\n",
       "    <tr>\n",
       "      <th>0</th>\n",
       "      <td>Fukuoka-ken Fukuoka-shi Daimyō</td>\n",
       "      <td>64</td>\n",
       "    </tr>\n",
       "    <tr>\n",
       "      <th>1</th>\n",
       "      <td>Fukuoka-ken Fukuoka-shi Hakata Ekimae</td>\n",
       "      <td>16</td>\n",
       "    </tr>\n",
       "    <tr>\n",
       "      <th>2</th>\n",
       "      <td>Fukuoka-ken Fukuoka-shi Imaizumi</td>\n",
       "      <td>2</td>\n",
       "    </tr>\n",
       "    <tr>\n",
       "      <th>3</th>\n",
       "      <td>Fukuoka-ken Fukuoka-shi Momochi</td>\n",
       "      <td>6</td>\n",
       "    </tr>\n",
       "    <tr>\n",
       "      <th>4</th>\n",
       "      <td>Fukuoka-ken Fukuoka-shi Shiobaru</td>\n",
       "      <td>7</td>\n",
       "    </tr>\n",
       "  </tbody>\n",
       "</table>\n",
       "</div>"
      ],
      "text/plain": [
       "                           air_area_name  n_stores_same_street\n",
       "0         Fukuoka-ken Fukuoka-shi Daimyō                    64\n",
       "1  Fukuoka-ken Fukuoka-shi Hakata Ekimae                    16\n",
       "2       Fukuoka-ken Fukuoka-shi Imaizumi                     2\n",
       "3        Fukuoka-ken Fukuoka-shi Momochi                     6\n",
       "4       Fukuoka-ken Fukuoka-shi Shiobaru                     7"
      ]
     },
     "execution_count": 58,
     "metadata": {},
     "output_type": "execute_result"
    }
   ],
   "source": [
    "#same street stores\n",
    "n_stores_by_street.head()"
   ]
  },
  {
   "cell_type": "code",
   "execution_count": 59,
   "id": "d9438b83",
   "metadata": {
    "execution": {
     "iopub.execute_input": "2021-08-05T04:53:48.738024Z",
     "iopub.status.busy": "2021-08-05T04:53:48.737108Z",
     "iopub.status.idle": "2021-08-05T04:53:48.741557Z",
     "shell.execute_reply": "2021-08-05T04:53:48.740946Z",
     "shell.execute_reply.started": "2021-08-05T04:29:41.675710Z"
    },
    "papermill": {
     "duration": 0.133361,
     "end_time": "2021-08-05T04:53:48.741690",
     "exception": false,
     "start_time": "2021-08-05T04:53:48.608329",
     "status": "completed"
    },
    "tags": []
   },
   "outputs": [
    {
     "data": {
      "text/html": [
       "<div>\n",
       "<style scoped>\n",
       "    .dataframe tbody tr th:only-of-type {\n",
       "        vertical-align: middle;\n",
       "    }\n",
       "\n",
       "    .dataframe tbody tr th {\n",
       "        vertical-align: top;\n",
       "    }\n",
       "\n",
       "    .dataframe thead th {\n",
       "        text-align: right;\n",
       "    }\n",
       "</style>\n",
       "<table border=\"1\" class=\"dataframe\">\n",
       "  <thead>\n",
       "    <tr style=\"text-align: right;\">\n",
       "      <th></th>\n",
       "      <th>Todofuken</th>\n",
       "      <th>city</th>\n",
       "      <th>n_stores_same_city</th>\n",
       "    </tr>\n",
       "  </thead>\n",
       "  <tbody>\n",
       "    <tr>\n",
       "      <th>0</th>\n",
       "      <td>Fukuoka-ken</td>\n",
       "      <td>Fukuoka-shi</td>\n",
       "      <td>103</td>\n",
       "    </tr>\n",
       "    <tr>\n",
       "      <th>1</th>\n",
       "      <td>Fukuoka-ken</td>\n",
       "      <td>Itoshima-shi</td>\n",
       "      <td>7</td>\n",
       "    </tr>\n",
       "    <tr>\n",
       "      <th>2</th>\n",
       "      <td>Fukuoka-ken</td>\n",
       "      <td>Kitakyūshū-shi</td>\n",
       "      <td>9</td>\n",
       "    </tr>\n",
       "    <tr>\n",
       "      <th>3</th>\n",
       "      <td>Fukuoka-ken</td>\n",
       "      <td>Kurume-shi</td>\n",
       "      <td>6</td>\n",
       "    </tr>\n",
       "    <tr>\n",
       "      <th>4</th>\n",
       "      <td>Fukuoka-ken</td>\n",
       "      <td>Yame-shi</td>\n",
       "      <td>2</td>\n",
       "    </tr>\n",
       "  </tbody>\n",
       "</table>\n",
       "</div>"
      ],
      "text/plain": [
       "     Todofuken            city  n_stores_same_city\n",
       "0  Fukuoka-ken     Fukuoka-shi                 103\n",
       "1  Fukuoka-ken    Itoshima-shi                   7\n",
       "2  Fukuoka-ken  Kitakyūshū-shi                   9\n",
       "3  Fukuoka-ken      Kurume-shi                   6\n",
       "4  Fukuoka-ken        Yame-shi                   2"
      ]
     },
     "execution_count": 59,
     "metadata": {},
     "output_type": "execute_result"
    }
   ],
   "source": [
    "#same city stores\n",
    "n_stores_by_city.head()"
   ]
  },
  {
   "cell_type": "code",
   "execution_count": 60,
   "id": "483aeb8c",
   "metadata": {
    "execution": {
     "iopub.execute_input": "2021-08-05T04:53:48.958063Z",
     "iopub.status.busy": "2021-08-05T04:53:48.957155Z",
     "iopub.status.idle": "2021-08-05T04:53:48.961708Z",
     "shell.execute_reply": "2021-08-05T04:53:48.961204Z",
     "shell.execute_reply.started": "2021-08-05T04:29:41.695458Z"
    },
    "papermill": {
     "duration": 0.117275,
     "end_time": "2021-08-05T04:53:48.961844",
     "exception": false,
     "start_time": "2021-08-05T04:53:48.844569",
     "status": "completed"
    },
    "tags": []
   },
   "outputs": [
    {
     "data": {
      "text/html": [
       "<div>\n",
       "<style scoped>\n",
       "    .dataframe tbody tr th:only-of-type {\n",
       "        vertical-align: middle;\n",
       "    }\n",
       "\n",
       "    .dataframe tbody tr th {\n",
       "        vertical-align: top;\n",
       "    }\n",
       "\n",
       "    .dataframe thead th {\n",
       "        text-align: right;\n",
       "    }\n",
       "</style>\n",
       "<table border=\"1\" class=\"dataframe\">\n",
       "  <thead>\n",
       "    <tr style=\"text-align: right;\">\n",
       "      <th></th>\n",
       "      <th>Todofuken</th>\n",
       "      <th>n_stores_same_Todofuken</th>\n",
       "    </tr>\n",
       "  </thead>\n",
       "  <tbody>\n",
       "    <tr>\n",
       "      <th>0</th>\n",
       "      <td>Fukuoka-ken</td>\n",
       "      <td>127</td>\n",
       "    </tr>\n",
       "    <tr>\n",
       "      <th>1</th>\n",
       "      <td>Hiroshima-ken</td>\n",
       "      <td>32</td>\n",
       "    </tr>\n",
       "    <tr>\n",
       "      <th>2</th>\n",
       "      <td>Hokkaidō</td>\n",
       "      <td>46</td>\n",
       "    </tr>\n",
       "    <tr>\n",
       "      <th>3</th>\n",
       "      <td>Hyōgo-ken</td>\n",
       "      <td>57</td>\n",
       "    </tr>\n",
       "    <tr>\n",
       "      <th>4</th>\n",
       "      <td>Miyagi-ken</td>\n",
       "      <td>17</td>\n",
       "    </tr>\n",
       "    <tr>\n",
       "      <th>5</th>\n",
       "      <td>Niigata-ken</td>\n",
       "      <td>14</td>\n",
       "    </tr>\n",
       "    <tr>\n",
       "      <th>6</th>\n",
       "      <td>Shizuoka-ken</td>\n",
       "      <td>18</td>\n",
       "    </tr>\n",
       "    <tr>\n",
       "      <th>7</th>\n",
       "      <td>Tōkyō-to</td>\n",
       "      <td>444</td>\n",
       "    </tr>\n",
       "    <tr>\n",
       "      <th>8</th>\n",
       "      <td>Ōsaka-fu</td>\n",
       "      <td>74</td>\n",
       "    </tr>\n",
       "  </tbody>\n",
       "</table>\n",
       "</div>"
      ],
      "text/plain": [
       "       Todofuken  n_stores_same_Todofuken\n",
       "0    Fukuoka-ken                      127\n",
       "1  Hiroshima-ken                       32\n",
       "2       Hokkaidō                       46\n",
       "3      Hyōgo-ken                       57\n",
       "4     Miyagi-ken                       17\n",
       "5    Niigata-ken                       14\n",
       "6   Shizuoka-ken                       18\n",
       "7       Tōkyō-to                      444\n",
       "8       Ōsaka-fu                       74"
      ]
     },
     "execution_count": 60,
     "metadata": {},
     "output_type": "execute_result"
    }
   ],
   "source": [
    "#same todofuken\n",
    "\n",
    "n_stores_by_Todofuken"
   ]
  },
  {
   "cell_type": "code",
   "execution_count": 61,
   "id": "fa5ad338",
   "metadata": {
    "execution": {
     "iopub.execute_input": "2021-08-05T04:53:49.182294Z",
     "iopub.status.busy": "2021-08-05T04:53:49.181592Z",
     "iopub.status.idle": "2021-08-05T04:53:49.197200Z",
     "shell.execute_reply": "2021-08-05T04:53:49.196593Z",
     "shell.execute_reply.started": "2021-08-05T04:29:41.712880Z"
    },
    "papermill": {
     "duration": 0.129753,
     "end_time": "2021-08-05T04:53:49.197355",
     "exception": false,
     "start_time": "2021-08-05T04:53:49.067602",
     "status": "completed"
    },
    "tags": []
   },
   "outputs": [],
   "source": [
    "#stores_info talbe과 병합\n",
    "stores_info = pd.merge(left=stores_info, right=n_stores_by_street, how='left', on='air_area_name')\n",
    "stores_info = pd.merge(left=stores_info, right=n_stores_by_city,how='left', on=['Todofuken', 'city'])\n",
    "stores_info = pd.merge(left=stores_info, right=n_stores_by_Todofuken, how='left',on='Todofuken')\n"
   ]
  },
  {
   "cell_type": "code",
   "execution_count": 62,
   "id": "1d8c00e2",
   "metadata": {
    "execution": {
     "iopub.execute_input": "2021-08-05T04:53:49.425816Z",
     "iopub.status.busy": "2021-08-05T04:53:49.424755Z",
     "iopub.status.idle": "2021-08-05T04:53:49.430584Z",
     "shell.execute_reply": "2021-08-05T04:53:49.429623Z",
     "shell.execute_reply.started": "2021-08-05T04:29:41.742940Z"
    },
    "papermill": {
     "duration": 0.128753,
     "end_time": "2021-08-05T04:53:49.430740",
     "exception": false,
     "start_time": "2021-08-05T04:53:49.301987",
     "status": "completed"
    },
    "tags": []
   },
   "outputs": [
    {
     "data": {
      "text/html": [
       "<div>\n",
       "<style scoped>\n",
       "    .dataframe tbody tr th:only-of-type {\n",
       "        vertical-align: middle;\n",
       "    }\n",
       "\n",
       "    .dataframe tbody tr th {\n",
       "        vertical-align: top;\n",
       "    }\n",
       "\n",
       "    .dataframe thead th {\n",
       "        text-align: right;\n",
       "    }\n",
       "</style>\n",
       "<table border=\"1\" class=\"dataframe\">\n",
       "  <thead>\n",
       "    <tr style=\"text-align: right;\">\n",
       "      <th></th>\n",
       "      <th>air_store_id</th>\n",
       "      <th>air_genre_name</th>\n",
       "      <th>air_area_name</th>\n",
       "      <th>latitude_air</th>\n",
       "      <th>longitude_air</th>\n",
       "      <th>hpg_store_id</th>\n",
       "      <th>hpg_genre_name</th>\n",
       "      <th>hpg_area_name</th>\n",
       "      <th>latitude_hpg</th>\n",
       "      <th>longitude_hpg</th>\n",
       "      <th>Todofuken</th>\n",
       "      <th>city</th>\n",
       "      <th>street</th>\n",
       "      <th>n_stores_same_street</th>\n",
       "      <th>n_stores_same_city</th>\n",
       "      <th>n_stores_same_Todofuken</th>\n",
       "    </tr>\n",
       "  </thead>\n",
       "  <tbody>\n",
       "    <tr>\n",
       "      <th>0</th>\n",
       "      <td>air_0f0cdeee6c9bf3d7</td>\n",
       "      <td>Italian/French</td>\n",
       "      <td>Hyōgo-ken Kōbe-shi Kumoidōri</td>\n",
       "      <td>34.695124</td>\n",
       "      <td>135.197853</td>\n",
       "      <td>NaN</td>\n",
       "      <td>NaN</td>\n",
       "      <td>NaN</td>\n",
       "      <td>NaN</td>\n",
       "      <td>NaN</td>\n",
       "      <td>Hyōgo-ken</td>\n",
       "      <td>Kōbe-shi</td>\n",
       "      <td>Kumoidōri</td>\n",
       "      <td>17</td>\n",
       "      <td>25</td>\n",
       "      <td>57</td>\n",
       "    </tr>\n",
       "    <tr>\n",
       "      <th>1</th>\n",
       "      <td>air_7cc17a324ae5c7dc</td>\n",
       "      <td>Italian/French</td>\n",
       "      <td>Hyōgo-ken Kōbe-shi Kumoidōri</td>\n",
       "      <td>34.695124</td>\n",
       "      <td>135.197853</td>\n",
       "      <td>hpg_9b38b9e13da6da27</td>\n",
       "      <td>NaN</td>\n",
       "      <td>NaN</td>\n",
       "      <td>NaN</td>\n",
       "      <td>NaN</td>\n",
       "      <td>Hyōgo-ken</td>\n",
       "      <td>Kōbe-shi</td>\n",
       "      <td>Kumoidōri</td>\n",
       "      <td>17</td>\n",
       "      <td>25</td>\n",
       "      <td>57</td>\n",
       "    </tr>\n",
       "    <tr>\n",
       "      <th>2</th>\n",
       "      <td>air_fee8dcf4d619598e</td>\n",
       "      <td>Italian/French</td>\n",
       "      <td>Hyōgo-ken Kōbe-shi Kumoidōri</td>\n",
       "      <td>34.695124</td>\n",
       "      <td>135.197853</td>\n",
       "      <td>NaN</td>\n",
       "      <td>NaN</td>\n",
       "      <td>NaN</td>\n",
       "      <td>NaN</td>\n",
       "      <td>NaN</td>\n",
       "      <td>Hyōgo-ken</td>\n",
       "      <td>Kōbe-shi</td>\n",
       "      <td>Kumoidōri</td>\n",
       "      <td>17</td>\n",
       "      <td>25</td>\n",
       "      <td>57</td>\n",
       "    </tr>\n",
       "    <tr>\n",
       "      <th>3</th>\n",
       "      <td>air_a17f0778617c76e2</td>\n",
       "      <td>Italian/French</td>\n",
       "      <td>Hyōgo-ken Kōbe-shi Kumoidōri</td>\n",
       "      <td>34.695124</td>\n",
       "      <td>135.197853</td>\n",
       "      <td>NaN</td>\n",
       "      <td>NaN</td>\n",
       "      <td>NaN</td>\n",
       "      <td>NaN</td>\n",
       "      <td>NaN</td>\n",
       "      <td>Hyōgo-ken</td>\n",
       "      <td>Kōbe-shi</td>\n",
       "      <td>Kumoidōri</td>\n",
       "      <td>17</td>\n",
       "      <td>25</td>\n",
       "      <td>57</td>\n",
       "    </tr>\n",
       "    <tr>\n",
       "      <th>4</th>\n",
       "      <td>air_83db5aff8f50478e</td>\n",
       "      <td>Italian/French</td>\n",
       "      <td>Tōkyō-to Minato-ku Shibakōen</td>\n",
       "      <td>35.658068</td>\n",
       "      <td>139.751599</td>\n",
       "      <td>NaN</td>\n",
       "      <td>NaN</td>\n",
       "      <td>NaN</td>\n",
       "      <td>NaN</td>\n",
       "      <td>NaN</td>\n",
       "      <td>Tōkyō-to</td>\n",
       "      <td>Minato-ku</td>\n",
       "      <td>Shibakōen</td>\n",
       "      <td>51</td>\n",
       "      <td>61</td>\n",
       "      <td>444</td>\n",
       "    </tr>\n",
       "  </tbody>\n",
       "</table>\n",
       "</div>"
      ],
      "text/plain": [
       "           air_store_id  air_genre_name                 air_area_name  \\\n",
       "0  air_0f0cdeee6c9bf3d7  Italian/French  Hyōgo-ken Kōbe-shi Kumoidōri   \n",
       "1  air_7cc17a324ae5c7dc  Italian/French  Hyōgo-ken Kōbe-shi Kumoidōri   \n",
       "2  air_fee8dcf4d619598e  Italian/French  Hyōgo-ken Kōbe-shi Kumoidōri   \n",
       "3  air_a17f0778617c76e2  Italian/French  Hyōgo-ken Kōbe-shi Kumoidōri   \n",
       "4  air_83db5aff8f50478e  Italian/French  Tōkyō-to Minato-ku Shibakōen   \n",
       "\n",
       "   latitude_air  longitude_air          hpg_store_id hpg_genre_name  \\\n",
       "0     34.695124     135.197853                   NaN            NaN   \n",
       "1     34.695124     135.197853  hpg_9b38b9e13da6da27            NaN   \n",
       "2     34.695124     135.197853                   NaN            NaN   \n",
       "3     34.695124     135.197853                   NaN            NaN   \n",
       "4     35.658068     139.751599                   NaN            NaN   \n",
       "\n",
       "  hpg_area_name  latitude_hpg  longitude_hpg  Todofuken       city     street  \\\n",
       "0           NaN           NaN            NaN  Hyōgo-ken   Kōbe-shi  Kumoidōri   \n",
       "1           NaN           NaN            NaN  Hyōgo-ken   Kōbe-shi  Kumoidōri   \n",
       "2           NaN           NaN            NaN  Hyōgo-ken   Kōbe-shi  Kumoidōri   \n",
       "3           NaN           NaN            NaN  Hyōgo-ken   Kōbe-shi  Kumoidōri   \n",
       "4           NaN           NaN            NaN   Tōkyō-to  Minato-ku  Shibakōen   \n",
       "\n",
       "   n_stores_same_street  n_stores_same_city  n_stores_same_Todofuken  \n",
       "0                    17                  25                       57  \n",
       "1                    17                  25                       57  \n",
       "2                    17                  25                       57  \n",
       "3                    17                  25                       57  \n",
       "4                    51                  61                      444  "
      ]
     },
     "execution_count": 62,
     "metadata": {},
     "output_type": "execute_result"
    }
   ],
   "source": [
    "stores_info.head()"
   ]
  },
  {
   "cell_type": "code",
   "execution_count": 63,
   "id": "b982b25f",
   "metadata": {
    "execution": {
     "iopub.execute_input": "2021-08-05T04:53:49.647419Z",
     "iopub.status.busy": "2021-08-05T04:53:49.646654Z",
     "iopub.status.idle": "2021-08-05T04:53:49.885657Z",
     "shell.execute_reply": "2021-08-05T04:53:49.886130Z",
     "shell.execute_reply.started": "2021-08-05T04:29:41.765561Z"
    },
    "papermill": {
     "duration": 0.349944,
     "end_time": "2021-08-05T04:53:49.886325",
     "exception": false,
     "start_time": "2021-08-05T04:53:49.536381",
     "status": "completed"
    },
    "tags": []
   },
   "outputs": [
    {
     "data": {
      "text/html": [
       "<div>\n",
       "<style scoped>\n",
       "    .dataframe tbody tr th:only-of-type {\n",
       "        vertical-align: middle;\n",
       "    }\n",
       "\n",
       "    .dataframe tbody tr th {\n",
       "        vertical-align: top;\n",
       "    }\n",
       "\n",
       "    .dataframe thead th {\n",
       "        text-align: right;\n",
       "    }\n",
       "</style>\n",
       "<table border=\"1\" class=\"dataframe\">\n",
       "  <thead>\n",
       "    <tr style=\"text-align: right;\">\n",
       "      <th></th>\n",
       "      <th>dataset</th>\n",
       "      <th>air_store_id</th>\n",
       "      <th>visit_date</th>\n",
       "      <th>visitors</th>\n",
       "      <th>id</th>\n",
       "      <th>weekday</th>\n",
       "      <th>year</th>\n",
       "      <th>month</th>\n",
       "      <th>day_of_year</th>\n",
       "      <th>days_in_month</th>\n",
       "      <th>...</th>\n",
       "      <th>hpg_genre_name</th>\n",
       "      <th>hpg_area_name</th>\n",
       "      <th>latitude_hpg</th>\n",
       "      <th>longitude_hpg</th>\n",
       "      <th>Todofuken</th>\n",
       "      <th>city</th>\n",
       "      <th>street</th>\n",
       "      <th>n_stores_same_street</th>\n",
       "      <th>n_stores_same_city</th>\n",
       "      <th>n_stores_same_Todofuken</th>\n",
       "    </tr>\n",
       "  </thead>\n",
       "  <tbody>\n",
       "    <tr>\n",
       "      <th>0</th>\n",
       "      <td>past</td>\n",
       "      <td>air_ba937bf13d40fb24</td>\n",
       "      <td>2016-01-13</td>\n",
       "      <td>25</td>\n",
       "      <td>air_ba937bf13d40fb24_2016-01-13</td>\n",
       "      <td>2</td>\n",
       "      <td>2016</td>\n",
       "      <td>1</td>\n",
       "      <td>13</td>\n",
       "      <td>31</td>\n",
       "      <td>...</td>\n",
       "      <td>NaN</td>\n",
       "      <td>NaN</td>\n",
       "      <td>NaN</td>\n",
       "      <td>NaN</td>\n",
       "      <td>Tōkyō-to</td>\n",
       "      <td>Minato-ku</td>\n",
       "      <td>Shibakōen</td>\n",
       "      <td>51</td>\n",
       "      <td>61</td>\n",
       "      <td>444</td>\n",
       "    </tr>\n",
       "    <tr>\n",
       "      <th>1</th>\n",
       "      <td>past</td>\n",
       "      <td>air_ba937bf13d40fb24</td>\n",
       "      <td>2016-01-14</td>\n",
       "      <td>32</td>\n",
       "      <td>air_ba937bf13d40fb24_2016-01-14</td>\n",
       "      <td>3</td>\n",
       "      <td>2016</td>\n",
       "      <td>1</td>\n",
       "      <td>14</td>\n",
       "      <td>31</td>\n",
       "      <td>...</td>\n",
       "      <td>NaN</td>\n",
       "      <td>NaN</td>\n",
       "      <td>NaN</td>\n",
       "      <td>NaN</td>\n",
       "      <td>Tōkyō-to</td>\n",
       "      <td>Minato-ku</td>\n",
       "      <td>Shibakōen</td>\n",
       "      <td>51</td>\n",
       "      <td>61</td>\n",
       "      <td>444</td>\n",
       "    </tr>\n",
       "    <tr>\n",
       "      <th>2</th>\n",
       "      <td>past</td>\n",
       "      <td>air_ba937bf13d40fb24</td>\n",
       "      <td>2016-01-15</td>\n",
       "      <td>29</td>\n",
       "      <td>air_ba937bf13d40fb24_2016-01-15</td>\n",
       "      <td>4</td>\n",
       "      <td>2016</td>\n",
       "      <td>1</td>\n",
       "      <td>15</td>\n",
       "      <td>31</td>\n",
       "      <td>...</td>\n",
       "      <td>NaN</td>\n",
       "      <td>NaN</td>\n",
       "      <td>NaN</td>\n",
       "      <td>NaN</td>\n",
       "      <td>Tōkyō-to</td>\n",
       "      <td>Minato-ku</td>\n",
       "      <td>Shibakōen</td>\n",
       "      <td>51</td>\n",
       "      <td>61</td>\n",
       "      <td>444</td>\n",
       "    </tr>\n",
       "    <tr>\n",
       "      <th>3</th>\n",
       "      <td>past</td>\n",
       "      <td>air_ba937bf13d40fb24</td>\n",
       "      <td>2016-01-16</td>\n",
       "      <td>22</td>\n",
       "      <td>air_ba937bf13d40fb24_2016-01-16</td>\n",
       "      <td>5</td>\n",
       "      <td>2016</td>\n",
       "      <td>1</td>\n",
       "      <td>16</td>\n",
       "      <td>31</td>\n",
       "      <td>...</td>\n",
       "      <td>NaN</td>\n",
       "      <td>NaN</td>\n",
       "      <td>NaN</td>\n",
       "      <td>NaN</td>\n",
       "      <td>Tōkyō-to</td>\n",
       "      <td>Minato-ku</td>\n",
       "      <td>Shibakōen</td>\n",
       "      <td>51</td>\n",
       "      <td>61</td>\n",
       "      <td>444</td>\n",
       "    </tr>\n",
       "    <tr>\n",
       "      <th>4</th>\n",
       "      <td>past</td>\n",
       "      <td>air_ba937bf13d40fb24</td>\n",
       "      <td>2016-01-18</td>\n",
       "      <td>6</td>\n",
       "      <td>air_ba937bf13d40fb24_2016-01-18</td>\n",
       "      <td>0</td>\n",
       "      <td>2016</td>\n",
       "      <td>1</td>\n",
       "      <td>18</td>\n",
       "      <td>31</td>\n",
       "      <td>...</td>\n",
       "      <td>NaN</td>\n",
       "      <td>NaN</td>\n",
       "      <td>NaN</td>\n",
       "      <td>NaN</td>\n",
       "      <td>Tōkyō-to</td>\n",
       "      <td>Minato-ku</td>\n",
       "      <td>Shibakōen</td>\n",
       "      <td>51</td>\n",
       "      <td>61</td>\n",
       "      <td>444</td>\n",
       "    </tr>\n",
       "  </tbody>\n",
       "</table>\n",
       "<p>5 rows × 31 columns</p>\n",
       "</div>"
      ],
      "text/plain": [
       "  dataset          air_store_id visit_date  visitors  \\\n",
       "0    past  air_ba937bf13d40fb24 2016-01-13        25   \n",
       "1    past  air_ba937bf13d40fb24 2016-01-14        32   \n",
       "2    past  air_ba937bf13d40fb24 2016-01-15        29   \n",
       "3    past  air_ba937bf13d40fb24 2016-01-16        22   \n",
       "4    past  air_ba937bf13d40fb24 2016-01-18         6   \n",
       "\n",
       "                                id  weekday  year  month  day_of_year  \\\n",
       "0  air_ba937bf13d40fb24_2016-01-13        2  2016      1           13   \n",
       "1  air_ba937bf13d40fb24_2016-01-14        3  2016      1           14   \n",
       "2  air_ba937bf13d40fb24_2016-01-15        4  2016      1           15   \n",
       "3  air_ba937bf13d40fb24_2016-01-16        5  2016      1           16   \n",
       "4  air_ba937bf13d40fb24_2016-01-18        0  2016      1           18   \n",
       "\n",
       "   days_in_month  ...  hpg_genre_name  hpg_area_name  latitude_hpg  \\\n",
       "0             31  ...             NaN            NaN           NaN   \n",
       "1             31  ...             NaN            NaN           NaN   \n",
       "2             31  ...             NaN            NaN           NaN   \n",
       "3             31  ...             NaN            NaN           NaN   \n",
       "4             31  ...             NaN            NaN           NaN   \n",
       "\n",
       "   longitude_hpg  Todofuken       city     street n_stores_same_street  \\\n",
       "0            NaN   Tōkyō-to  Minato-ku  Shibakōen                   51   \n",
       "1            NaN   Tōkyō-to  Minato-ku  Shibakōen                   51   \n",
       "2            NaN   Tōkyō-to  Minato-ku  Shibakōen                   51   \n",
       "3            NaN   Tōkyō-to  Minato-ku  Shibakōen                   51   \n",
       "4            NaN   Tōkyō-to  Minato-ku  Shibakōen                   51   \n",
       "\n",
       "   n_stores_same_city  n_stores_same_Todofuken  \n",
       "0                  61                      444  \n",
       "1                  61                      444  \n",
       "2                  61                      444  \n",
       "3                  61                      444  \n",
       "4                  61                      444  \n",
       "\n",
       "[5 rows x 31 columns]"
      ]
     },
     "execution_count": 63,
     "metadata": {},
     "output_type": "execute_result"
    }
   ],
   "source": [
    "#train data에 stores info 병합\n",
    "train_dt = pd.merge(left=train_dt, right=stores_info, how='left', on='air_store_id')\n",
    "train_dt.head()"
   ]
  },
  {
   "cell_type": "code",
   "execution_count": 64,
   "id": "2ba5b57e",
   "metadata": {
    "execution": {
     "iopub.execute_input": "2021-08-05T04:53:50.100217Z",
     "iopub.status.busy": "2021-08-05T04:53:50.099620Z",
     "iopub.status.idle": "2021-08-05T04:53:50.141874Z",
     "shell.execute_reply": "2021-08-05T04:53:50.142394Z",
     "shell.execute_reply.started": "2021-08-05T04:29:42.066429Z"
    },
    "papermill": {
     "duration": 0.150961,
     "end_time": "2021-08-05T04:53:50.142583",
     "exception": false,
     "start_time": "2021-08-05T04:53:49.991622",
     "status": "completed"
    },
    "tags": []
   },
   "outputs": [],
   "source": [
    "reserve_info.reserve_datetime = pd.to_datetime(reserve_info.reserve_datetime)"
   ]
  },
  {
   "cell_type": "code",
   "execution_count": 65,
   "id": "b77371dc",
   "metadata": {
    "execution": {
     "iopub.execute_input": "2021-08-05T04:53:50.354920Z",
     "iopub.status.busy": "2021-08-05T04:53:50.354302Z",
     "iopub.status.idle": "2021-08-05T04:53:50.382216Z",
     "shell.execute_reply": "2021-08-05T04:53:50.382686Z",
     "shell.execute_reply.started": "2021-08-05T04:29:42.118407Z"
    },
    "papermill": {
     "duration": 0.135836,
     "end_time": "2021-08-05T04:53:50.382896",
     "exception": false,
     "start_time": "2021-08-05T04:53:50.247060",
     "status": "completed"
    },
    "tags": []
   },
   "outputs": [
    {
     "name": "stdout",
     "output_type": "stream",
     "text": [
      "<class 'pandas.core.frame.DataFrame'>\n",
      "Int64Index: 120561 entries, 0 to 28182\n",
      "Data columns (total 4 columns):\n",
      " #   Column            Non-Null Count   Dtype         \n",
      "---  ------            --------------   -----         \n",
      " 0   air_store_id      120561 non-null  object        \n",
      " 1   visit_datetime    120561 non-null  datetime64[ns]\n",
      " 2   reserve_datetime  120561 non-null  datetime64[ns]\n",
      " 3   reserve_visitors  120561 non-null  int64         \n",
      "dtypes: datetime64[ns](2), int64(1), object(1)\n",
      "memory usage: 4.6+ MB\n"
     ]
    }
   ],
   "source": [
    "reserve_info.info()"
   ]
  },
  {
   "cell_type": "code",
   "execution_count": 66,
   "id": "e7684c22",
   "metadata": {
    "execution": {
     "iopub.execute_input": "2021-08-05T04:53:50.696745Z",
     "iopub.status.busy": "2021-08-05T04:53:50.646405Z",
     "iopub.status.idle": "2021-08-05T04:53:52.289728Z",
     "shell.execute_reply": "2021-08-05T04:53:52.289110Z",
     "shell.execute_reply.started": "2021-08-05T04:29:42.151621Z"
    },
    "papermill": {
     "duration": 1.80215,
     "end_time": "2021-08-05T04:53:52.289871",
     "exception": false,
     "start_time": "2021-08-05T04:53:50.487721",
     "status": "completed"
    },
    "tags": []
   },
   "outputs": [],
   "source": [
    "#reservation feature\n",
    "reserve_info['planned_visit_date'] = reserve_info.visit_datetime.dt.date.astype('datetime64[ns]')\n",
    "reserve_info['reserve_date'] = reserve_info.reserve_datetime.dt.date\n",
    "reserve_info['reserve_ahead'] = reserve_info.visit_datetime - reserve_info.reserve_datetime.astype('datetime64[ns]')\n",
    "reserve_info['hours_ahead'] = reserve_info.reserve_ahead / pd.Timedelta('1 hour')\n",
    "reserve_info['days_ahed'] = reserve_info.reserve_ahead.apply(lambda delta_t : delta_t.days)\n"
   ]
  },
  {
   "cell_type": "code",
   "execution_count": 67,
   "id": "4de3544d",
   "metadata": {
    "execution": {
     "iopub.execute_input": "2021-08-05T04:53:52.509163Z",
     "iopub.status.busy": "2021-08-05T04:53:52.508029Z",
     "iopub.status.idle": "2021-08-05T04:53:52.586624Z",
     "shell.execute_reply": "2021-08-05T04:53:52.587085Z",
     "shell.execute_reply.started": "2021-08-05T04:29:43.833032Z"
    },
    "papermill": {
     "duration": 0.191842,
     "end_time": "2021-08-05T04:53:52.587290",
     "exception": false,
     "start_time": "2021-08-05T04:53:52.395448",
     "status": "completed"
    },
    "tags": []
   },
   "outputs": [
    {
     "name": "stderr",
     "output_type": "stream",
     "text": [
      "/opt/conda/lib/python3.7/site-packages/ipykernel_launcher.py:2: FutureWarning: Indexing with multiple keys (implicitly converted to a tuple of keys) will be deprecated, use a list instead.\n",
      "  \n"
     ]
    }
   ],
   "source": [
    "#reserve summary\n",
    "reserve_sum = reserve_info.groupby(['air_store_id', 'planned_visit_date'])['reserve_visitors', 'hours_ahead'].agg({'reserve_visitors': ['count','sum'], 'hours_ahead': 'mean'}).reset_index()\n",
    "\n",
    "reserve_sum.columns = ['air_store_id', 'planned_visit_date', \n",
    "                     'n_reserves', 'n_reserve_visitors', 'reserve_avg_hours_ahead']\n"
   ]
  },
  {
   "cell_type": "code",
   "execution_count": 68,
   "id": "3c38632d",
   "metadata": {
    "execution": {
     "iopub.execute_input": "2021-08-05T04:53:52.815012Z",
     "iopub.status.busy": "2021-08-05T04:53:52.814007Z",
     "iopub.status.idle": "2021-08-05T04:53:52.817548Z",
     "shell.execute_reply": "2021-08-05T04:53:52.818034Z",
     "shell.execute_reply.started": "2021-08-05T04:29:43.929491Z"
    },
    "papermill": {
     "duration": 0.12491,
     "end_time": "2021-08-05T04:53:52.818215",
     "exception": false,
     "start_time": "2021-08-05T04:53:52.693305",
     "status": "completed"
    },
    "tags": []
   },
   "outputs": [
    {
     "data": {
      "text/html": [
       "<div>\n",
       "<style scoped>\n",
       "    .dataframe tbody tr th:only-of-type {\n",
       "        vertical-align: middle;\n",
       "    }\n",
       "\n",
       "    .dataframe tbody tr th {\n",
       "        vertical-align: top;\n",
       "    }\n",
       "\n",
       "    .dataframe thead th {\n",
       "        text-align: right;\n",
       "    }\n",
       "</style>\n",
       "<table border=\"1\" class=\"dataframe\">\n",
       "  <thead>\n",
       "    <tr style=\"text-align: right;\">\n",
       "      <th></th>\n",
       "      <th>air_store_id</th>\n",
       "      <th>planned_visit_date</th>\n",
       "      <th>n_reserves</th>\n",
       "      <th>n_reserve_visitors</th>\n",
       "      <th>reserve_avg_hours_ahead</th>\n",
       "    </tr>\n",
       "  </thead>\n",
       "  <tbody>\n",
       "    <tr>\n",
       "      <th>0</th>\n",
       "      <td>air_00a91d42b08b08d9</td>\n",
       "      <td>2016-01-14</td>\n",
       "      <td>1</td>\n",
       "      <td>2</td>\n",
       "      <td>77.0</td>\n",
       "    </tr>\n",
       "    <tr>\n",
       "      <th>1</th>\n",
       "      <td>air_00a91d42b08b08d9</td>\n",
       "      <td>2016-01-15</td>\n",
       "      <td>1</td>\n",
       "      <td>4</td>\n",
       "      <td>142.0</td>\n",
       "    </tr>\n",
       "    <tr>\n",
       "      <th>2</th>\n",
       "      <td>air_00a91d42b08b08d9</td>\n",
       "      <td>2016-01-16</td>\n",
       "      <td>1</td>\n",
       "      <td>2</td>\n",
       "      <td>70.0</td>\n",
       "    </tr>\n",
       "    <tr>\n",
       "      <th>3</th>\n",
       "      <td>air_00a91d42b08b08d9</td>\n",
       "      <td>2016-01-22</td>\n",
       "      <td>1</td>\n",
       "      <td>2</td>\n",
       "      <td>82.0</td>\n",
       "    </tr>\n",
       "    <tr>\n",
       "      <th>4</th>\n",
       "      <td>air_00a91d42b08b08d9</td>\n",
       "      <td>2016-01-29</td>\n",
       "      <td>1</td>\n",
       "      <td>5</td>\n",
       "      <td>144.0</td>\n",
       "    </tr>\n",
       "  </tbody>\n",
       "</table>\n",
       "</div>"
      ],
      "text/plain": [
       "           air_store_id planned_visit_date  n_reserves  n_reserve_visitors  \\\n",
       "0  air_00a91d42b08b08d9         2016-01-14           1                   2   \n",
       "1  air_00a91d42b08b08d9         2016-01-15           1                   4   \n",
       "2  air_00a91d42b08b08d9         2016-01-16           1                   2   \n",
       "3  air_00a91d42b08b08d9         2016-01-22           1                   2   \n",
       "4  air_00a91d42b08b08d9         2016-01-29           1                   5   \n",
       "\n",
       "   reserve_avg_hours_ahead  \n",
       "0                     77.0  \n",
       "1                    142.0  \n",
       "2                     70.0  \n",
       "3                     82.0  \n",
       "4                    144.0  "
      ]
     },
     "execution_count": 68,
     "metadata": {},
     "output_type": "execute_result"
    }
   ],
   "source": [
    "reserve_sum.head()"
   ]
  },
  {
   "cell_type": "code",
   "execution_count": 69,
   "id": "162a7391",
   "metadata": {
    "execution": {
     "iopub.execute_input": "2021-08-05T04:53:53.037282Z",
     "iopub.status.busy": "2021-08-05T04:53:53.036267Z",
     "iopub.status.idle": "2021-08-05T04:53:53.204851Z",
     "shell.execute_reply": "2021-08-05T04:53:53.205361Z",
     "shell.execute_reply.started": "2021-08-05T04:29:43.945800Z"
    },
    "papermill": {
     "duration": 0.281053,
     "end_time": "2021-08-05T04:53:53.205559",
     "exception": false,
     "start_time": "2021-08-05T04:53:52.924506",
     "status": "completed"
    },
    "tags": []
   },
   "outputs": [],
   "source": [
    "#train_dt에 reserve summary(reserve_sum) table 병합\n",
    "train_dt = pd.merge(left = train_dt, right = reserve_sum, how='left', left_on = ['air_store_id', 'visit_date'], right_on=['air_store_id', 'planned_visit_date'])"
   ]
  },
  {
   "cell_type": "code",
   "execution_count": 70,
   "id": "97ba9059",
   "metadata": {
    "execution": {
     "iopub.execute_input": "2021-08-05T04:53:53.450978Z",
     "iopub.status.busy": "2021-08-05T04:53:53.450006Z",
     "iopub.status.idle": "2021-08-05T04:53:53.477350Z",
     "shell.execute_reply": "2021-08-05T04:53:53.477846Z",
     "shell.execute_reply.started": "2021-08-05T04:29:44.125668Z"
    },
    "papermill": {
     "duration": 0.157227,
     "end_time": "2021-08-05T04:53:53.478013",
     "exception": false,
     "start_time": "2021-08-05T04:53:53.320786",
     "status": "completed"
    },
    "tags": []
   },
   "outputs": [
    {
     "data": {
      "text/html": [
       "<div>\n",
       "<style scoped>\n",
       "    .dataframe tbody tr th:only-of-type {\n",
       "        vertical-align: middle;\n",
       "    }\n",
       "\n",
       "    .dataframe tbody tr th {\n",
       "        vertical-align: top;\n",
       "    }\n",
       "\n",
       "    .dataframe thead th {\n",
       "        text-align: right;\n",
       "    }\n",
       "</style>\n",
       "<table border=\"1\" class=\"dataframe\">\n",
       "  <thead>\n",
       "    <tr style=\"text-align: right;\">\n",
       "      <th></th>\n",
       "      <th>dataset</th>\n",
       "      <th>air_store_id</th>\n",
       "      <th>visit_date</th>\n",
       "      <th>visitors</th>\n",
       "      <th>id</th>\n",
       "      <th>weekday</th>\n",
       "      <th>year</th>\n",
       "      <th>month</th>\n",
       "      <th>day_of_year</th>\n",
       "      <th>days_in_month</th>\n",
       "      <th>...</th>\n",
       "      <th>Todofuken</th>\n",
       "      <th>city</th>\n",
       "      <th>street</th>\n",
       "      <th>n_stores_same_street</th>\n",
       "      <th>n_stores_same_city</th>\n",
       "      <th>n_stores_same_Todofuken</th>\n",
       "      <th>planned_visit_date</th>\n",
       "      <th>n_reserves</th>\n",
       "      <th>n_reserve_visitors</th>\n",
       "      <th>reserve_avg_hours_ahead</th>\n",
       "    </tr>\n",
       "  </thead>\n",
       "  <tbody>\n",
       "    <tr>\n",
       "      <th>0</th>\n",
       "      <td>past</td>\n",
       "      <td>air_ba937bf13d40fb24</td>\n",
       "      <td>2016-01-13</td>\n",
       "      <td>25</td>\n",
       "      <td>air_ba937bf13d40fb24_2016-01-13</td>\n",
       "      <td>2</td>\n",
       "      <td>2016</td>\n",
       "      <td>1</td>\n",
       "      <td>13</td>\n",
       "      <td>31</td>\n",
       "      <td>...</td>\n",
       "      <td>Tōkyō-to</td>\n",
       "      <td>Minato-ku</td>\n",
       "      <td>Shibakōen</td>\n",
       "      <td>51</td>\n",
       "      <td>61</td>\n",
       "      <td>444</td>\n",
       "      <td>NaT</td>\n",
       "      <td>NaN</td>\n",
       "      <td>NaN</td>\n",
       "      <td>NaN</td>\n",
       "    </tr>\n",
       "    <tr>\n",
       "      <th>1</th>\n",
       "      <td>past</td>\n",
       "      <td>air_ba937bf13d40fb24</td>\n",
       "      <td>2016-01-14</td>\n",
       "      <td>32</td>\n",
       "      <td>air_ba937bf13d40fb24_2016-01-14</td>\n",
       "      <td>3</td>\n",
       "      <td>2016</td>\n",
       "      <td>1</td>\n",
       "      <td>14</td>\n",
       "      <td>31</td>\n",
       "      <td>...</td>\n",
       "      <td>Tōkyō-to</td>\n",
       "      <td>Minato-ku</td>\n",
       "      <td>Shibakōen</td>\n",
       "      <td>51</td>\n",
       "      <td>61</td>\n",
       "      <td>444</td>\n",
       "      <td>NaT</td>\n",
       "      <td>NaN</td>\n",
       "      <td>NaN</td>\n",
       "      <td>NaN</td>\n",
       "    </tr>\n",
       "    <tr>\n",
       "      <th>2</th>\n",
       "      <td>past</td>\n",
       "      <td>air_ba937bf13d40fb24</td>\n",
       "      <td>2016-01-15</td>\n",
       "      <td>29</td>\n",
       "      <td>air_ba937bf13d40fb24_2016-01-15</td>\n",
       "      <td>4</td>\n",
       "      <td>2016</td>\n",
       "      <td>1</td>\n",
       "      <td>15</td>\n",
       "      <td>31</td>\n",
       "      <td>...</td>\n",
       "      <td>Tōkyō-to</td>\n",
       "      <td>Minato-ku</td>\n",
       "      <td>Shibakōen</td>\n",
       "      <td>51</td>\n",
       "      <td>61</td>\n",
       "      <td>444</td>\n",
       "      <td>NaT</td>\n",
       "      <td>NaN</td>\n",
       "      <td>NaN</td>\n",
       "      <td>NaN</td>\n",
       "    </tr>\n",
       "    <tr>\n",
       "      <th>3</th>\n",
       "      <td>past</td>\n",
       "      <td>air_ba937bf13d40fb24</td>\n",
       "      <td>2016-01-16</td>\n",
       "      <td>22</td>\n",
       "      <td>air_ba937bf13d40fb24_2016-01-16</td>\n",
       "      <td>5</td>\n",
       "      <td>2016</td>\n",
       "      <td>1</td>\n",
       "      <td>16</td>\n",
       "      <td>31</td>\n",
       "      <td>...</td>\n",
       "      <td>Tōkyō-to</td>\n",
       "      <td>Minato-ku</td>\n",
       "      <td>Shibakōen</td>\n",
       "      <td>51</td>\n",
       "      <td>61</td>\n",
       "      <td>444</td>\n",
       "      <td>NaT</td>\n",
       "      <td>NaN</td>\n",
       "      <td>NaN</td>\n",
       "      <td>NaN</td>\n",
       "    </tr>\n",
       "    <tr>\n",
       "      <th>4</th>\n",
       "      <td>past</td>\n",
       "      <td>air_ba937bf13d40fb24</td>\n",
       "      <td>2016-01-18</td>\n",
       "      <td>6</td>\n",
       "      <td>air_ba937bf13d40fb24_2016-01-18</td>\n",
       "      <td>0</td>\n",
       "      <td>2016</td>\n",
       "      <td>1</td>\n",
       "      <td>18</td>\n",
       "      <td>31</td>\n",
       "      <td>...</td>\n",
       "      <td>Tōkyō-to</td>\n",
       "      <td>Minato-ku</td>\n",
       "      <td>Shibakōen</td>\n",
       "      <td>51</td>\n",
       "      <td>61</td>\n",
       "      <td>444</td>\n",
       "      <td>NaT</td>\n",
       "      <td>NaN</td>\n",
       "      <td>NaN</td>\n",
       "      <td>NaN</td>\n",
       "    </tr>\n",
       "  </tbody>\n",
       "</table>\n",
       "<p>5 rows × 35 columns</p>\n",
       "</div>"
      ],
      "text/plain": [
       "  dataset          air_store_id visit_date  visitors  \\\n",
       "0    past  air_ba937bf13d40fb24 2016-01-13        25   \n",
       "1    past  air_ba937bf13d40fb24 2016-01-14        32   \n",
       "2    past  air_ba937bf13d40fb24 2016-01-15        29   \n",
       "3    past  air_ba937bf13d40fb24 2016-01-16        22   \n",
       "4    past  air_ba937bf13d40fb24 2016-01-18         6   \n",
       "\n",
       "                                id  weekday  year  month  day_of_year  \\\n",
       "0  air_ba937bf13d40fb24_2016-01-13        2  2016      1           13   \n",
       "1  air_ba937bf13d40fb24_2016-01-14        3  2016      1           14   \n",
       "2  air_ba937bf13d40fb24_2016-01-15        4  2016      1           15   \n",
       "3  air_ba937bf13d40fb24_2016-01-16        5  2016      1           16   \n",
       "4  air_ba937bf13d40fb24_2016-01-18        0  2016      1           18   \n",
       "\n",
       "   days_in_month  ...  Todofuken       city     street  n_stores_same_street  \\\n",
       "0             31  ...   Tōkyō-to  Minato-ku  Shibakōen                    51   \n",
       "1             31  ...   Tōkyō-to  Minato-ku  Shibakōen                    51   \n",
       "2             31  ...   Tōkyō-to  Minato-ku  Shibakōen                    51   \n",
       "3             31  ...   Tōkyō-to  Minato-ku  Shibakōen                    51   \n",
       "4             31  ...   Tōkyō-to  Minato-ku  Shibakōen                    51   \n",
       "\n",
       "   n_stores_same_city  n_stores_same_Todofuken planned_visit_date n_reserves  \\\n",
       "0                  61                      444                NaT        NaN   \n",
       "1                  61                      444                NaT        NaN   \n",
       "2                  61                      444                NaT        NaN   \n",
       "3                  61                      444                NaT        NaN   \n",
       "4                  61                      444                NaT        NaN   \n",
       "\n",
       "   n_reserve_visitors  reserve_avg_hours_ahead  \n",
       "0                 NaN                      NaN  \n",
       "1                 NaN                      NaN  \n",
       "2                 NaN                      NaN  \n",
       "3                 NaN                      NaN  \n",
       "4                 NaN                      NaN  \n",
       "\n",
       "[5 rows x 35 columns]"
      ]
     },
     "execution_count": 70,
     "metadata": {},
     "output_type": "execute_result"
    }
   ],
   "source": [
    "train_dt.head()"
   ]
  },
  {
   "cell_type": "code",
   "execution_count": 71,
   "id": "1781a5ff",
   "metadata": {
    "execution": {
     "iopub.execute_input": "2021-08-05T04:53:53.714319Z",
     "iopub.status.busy": "2021-08-05T04:53:53.713368Z",
     "iopub.status.idle": "2021-08-05T04:53:58.933359Z",
     "shell.execute_reply": "2021-08-05T04:53:58.933846Z",
     "shell.execute_reply.started": "2021-08-05T04:29:44.159614Z"
    },
    "papermill": {
     "duration": 5.336491,
     "end_time": "2021-08-05T04:53:58.934028",
     "exception": false,
     "start_time": "2021-08-05T04:53:53.597537",
     "status": "completed"
    },
    "tags": []
   },
   "outputs": [
    {
     "data": {
      "text/plain": [
       "<AxesSubplot:>"
      ]
     },
     "execution_count": 71,
     "metadata": {},
     "output_type": "execute_result"
    },
    {
     "data": {
      "image/png": "[encoded data removed]",
      "text/plain": [
       "<Figure size 1800x720 with 2 Axes>"
      ]
     },
     "metadata": {
      "needs_background": "light"
     },
     "output_type": "display_data"
    }
   ],
   "source": [
    "#결측치 확인 \n",
    "\n",
    "import missingno as msno\n",
    "\n",
    "msno.matrix(train_dt)"
   ]
  },
  {
   "cell_type": "code",
   "execution_count": 72,
   "id": "6001bf09",
   "metadata": {
    "execution": {
     "iopub.execute_input": "2021-08-05T04:53:59.160892Z",
     "iopub.status.busy": "2021-08-05T04:53:59.159944Z",
     "iopub.status.idle": "2021-08-05T04:54:00.380671Z",
     "shell.execute_reply": "2021-08-05T04:54:00.381156Z",
     "shell.execute_reply.started": "2021-08-05T04:29:49.422096Z"
    },
    "papermill": {
     "duration": 1.335478,
     "end_time": "2021-08-05T04:54:00.381370",
     "exception": false,
     "start_time": "2021-08-05T04:53:59.045892",
     "status": "completed"
    },
    "tags": []
   },
   "outputs": [],
   "source": [
    "#Interactions between features\n",
    "\n",
    "train_dt['area_genre'] = train_dt['air_area_name'].astype(str).str.cat(train_dt['air_genre_name'].astype(str))\n",
    "train_dt['store_weekday'] = train_dt['air_store_id'].astype(str).str.cat(train_dt['weekday'].astype(str))\n",
    "train_dt['store_weekday_holiday'] = train_dt['store_weekday'].astype(str).str.cat(train_dt['holiday_flg'].astype(str))\n"
   ]
  },
  {
   "cell_type": "code",
   "execution_count": 73,
   "id": "4bf7db28",
   "metadata": {
    "execution": {
     "iopub.execute_input": "2021-08-05T04:54:00.608194Z",
     "iopub.status.busy": "2021-08-05T04:54:00.607512Z",
     "iopub.status.idle": "2021-08-05T04:54:00.966589Z",
     "shell.execute_reply": "2021-08-05T04:54:00.967072Z",
     "shell.execute_reply.started": "2021-08-05T04:29:50.627330Z"
    },
    "papermill": {
     "duration": 0.473237,
     "end_time": "2021-08-05T04:54:00.967289",
     "exception": false,
     "start_time": "2021-08-05T04:54:00.494052",
     "status": "completed"
    },
    "tags": []
   },
   "outputs": [],
   "source": [
    "#target variable 모두 합치기\n",
    "#방문자수에 대해 mean, median, max, min을 찾음\n",
    "#방문자들의 대략적인 추정치를 통계에 근거해서 제시하기 위함임.\n",
    "\n",
    "group_by_cols = ['air_store_id', 'weekday', 'holiday_flg']\n",
    "\n",
    "visitors_stats = train_dt.query('dataset == \"past\"').groupby(group_by_cols)['visitors'].agg(['mean','median','min','max']).rename(columns=lambda colname: str(colname)+'_visitors').reset_index()"
   ]
  },
  {
   "cell_type": "code",
   "execution_count": 74,
   "id": "6b4402a7",
   "metadata": {
    "execution": {
     "iopub.execute_input": "2021-08-05T04:54:01.192340Z",
     "iopub.status.busy": "2021-08-05T04:54:01.191614Z",
     "iopub.status.idle": "2021-08-05T04:54:01.778744Z",
     "shell.execute_reply": "2021-08-05T04:54:01.779196Z",
     "shell.execute_reply.started": "2021-08-05T04:29:50.996735Z"
    },
    "papermill": {
     "duration": 0.700756,
     "end_time": "2021-08-05T04:54:01.779398",
     "exception": false,
     "start_time": "2021-08-05T04:54:01.078642",
     "status": "completed"
    },
    "tags": []
   },
   "outputs": [
    {
     "data": {
      "text/html": [
       "<div>\n",
       "<style scoped>\n",
       "    .dataframe tbody tr th:only-of-type {\n",
       "        vertical-align: middle;\n",
       "    }\n",
       "\n",
       "    .dataframe tbody tr th {\n",
       "        vertical-align: top;\n",
       "    }\n",
       "\n",
       "    .dataframe thead th {\n",
       "        text-align: right;\n",
       "    }\n",
       "</style>\n",
       "<table border=\"1\" class=\"dataframe\">\n",
       "  <thead>\n",
       "    <tr style=\"text-align: right;\">\n",
       "      <th></th>\n",
       "      <th>dataset</th>\n",
       "      <th>air_store_id</th>\n",
       "      <th>visit_date</th>\n",
       "      <th>visitors</th>\n",
       "      <th>id</th>\n",
       "      <th>weekday</th>\n",
       "      <th>year</th>\n",
       "      <th>month</th>\n",
       "      <th>day_of_year</th>\n",
       "      <th>days_in_month</th>\n",
       "      <th>...</th>\n",
       "      <th>n_reserves</th>\n",
       "      <th>n_reserve_visitors</th>\n",
       "      <th>reserve_avg_hours_ahead</th>\n",
       "      <th>area_genre</th>\n",
       "      <th>store_weekday</th>\n",
       "      <th>store_weekday_holiday</th>\n",
       "      <th>mean_visitors</th>\n",
       "      <th>median_visitors</th>\n",
       "      <th>min_visitors</th>\n",
       "      <th>max_visitors</th>\n",
       "    </tr>\n",
       "  </thead>\n",
       "  <tbody>\n",
       "    <tr>\n",
       "      <th>0</th>\n",
       "      <td>past</td>\n",
       "      <td>air_ba937bf13d40fb24</td>\n",
       "      <td>2016-01-13</td>\n",
       "      <td>25</td>\n",
       "      <td>air_ba937bf13d40fb24_2016-01-13</td>\n",
       "      <td>2</td>\n",
       "      <td>2016</td>\n",
       "      <td>1</td>\n",
       "      <td>13</td>\n",
       "      <td>31</td>\n",
       "      <td>...</td>\n",
       "      <td>NaN</td>\n",
       "      <td>NaN</td>\n",
       "      <td>NaN</td>\n",
       "      <td>Tōkyō-to Minato-ku ShibakōenDining bar</td>\n",
       "      <td>air_ba937bf13d40fb242</td>\n",
       "      <td>air_ba937bf13d40fb2420</td>\n",
       "      <td>24.095238</td>\n",
       "      <td>25.0</td>\n",
       "      <td>7.0</td>\n",
       "      <td>57.0</td>\n",
       "    </tr>\n",
       "    <tr>\n",
       "      <th>1</th>\n",
       "      <td>past</td>\n",
       "      <td>air_ba937bf13d40fb24</td>\n",
       "      <td>2016-01-14</td>\n",
       "      <td>32</td>\n",
       "      <td>air_ba937bf13d40fb24_2016-01-14</td>\n",
       "      <td>3</td>\n",
       "      <td>2016</td>\n",
       "      <td>1</td>\n",
       "      <td>14</td>\n",
       "      <td>31</td>\n",
       "      <td>...</td>\n",
       "      <td>NaN</td>\n",
       "      <td>NaN</td>\n",
       "      <td>NaN</td>\n",
       "      <td>Tōkyō-to Minato-ku ShibakōenDining bar</td>\n",
       "      <td>air_ba937bf13d40fb243</td>\n",
       "      <td>air_ba937bf13d40fb2430</td>\n",
       "      <td>20.450000</td>\n",
       "      <td>21.0</td>\n",
       "      <td>7.0</td>\n",
       "      <td>45.0</td>\n",
       "    </tr>\n",
       "    <tr>\n",
       "      <th>2</th>\n",
       "      <td>past</td>\n",
       "      <td>air_ba937bf13d40fb24</td>\n",
       "      <td>2016-01-15</td>\n",
       "      <td>29</td>\n",
       "      <td>air_ba937bf13d40fb24_2016-01-15</td>\n",
       "      <td>4</td>\n",
       "      <td>2016</td>\n",
       "      <td>1</td>\n",
       "      <td>15</td>\n",
       "      <td>31</td>\n",
       "      <td>...</td>\n",
       "      <td>NaN</td>\n",
       "      <td>NaN</td>\n",
       "      <td>NaN</td>\n",
       "      <td>Tōkyō-to Minato-ku ShibakōenDining bar</td>\n",
       "      <td>air_ba937bf13d40fb244</td>\n",
       "      <td>air_ba937bf13d40fb2440</td>\n",
       "      <td>35.218750</td>\n",
       "      <td>35.5</td>\n",
       "      <td>17.0</td>\n",
       "      <td>61.0</td>\n",
       "    </tr>\n",
       "    <tr>\n",
       "      <th>3</th>\n",
       "      <td>past</td>\n",
       "      <td>air_ba937bf13d40fb24</td>\n",
       "      <td>2016-01-16</td>\n",
       "      <td>22</td>\n",
       "      <td>air_ba937bf13d40fb24_2016-01-16</td>\n",
       "      <td>5</td>\n",
       "      <td>2016</td>\n",
       "      <td>1</td>\n",
       "      <td>16</td>\n",
       "      <td>31</td>\n",
       "      <td>...</td>\n",
       "      <td>NaN</td>\n",
       "      <td>NaN</td>\n",
       "      <td>NaN</td>\n",
       "      <td>Tōkyō-to Minato-ku ShibakōenDining bar</td>\n",
       "      <td>air_ba937bf13d40fb245</td>\n",
       "      <td>air_ba937bf13d40fb2450</td>\n",
       "      <td>27.828125</td>\n",
       "      <td>27.0</td>\n",
       "      <td>6.0</td>\n",
       "      <td>53.0</td>\n",
       "    </tr>\n",
       "    <tr>\n",
       "      <th>4</th>\n",
       "      <td>past</td>\n",
       "      <td>air_ba937bf13d40fb24</td>\n",
       "      <td>2016-01-18</td>\n",
       "      <td>6</td>\n",
       "      <td>air_ba937bf13d40fb24_2016-01-18</td>\n",
       "      <td>0</td>\n",
       "      <td>2016</td>\n",
       "      <td>1</td>\n",
       "      <td>18</td>\n",
       "      <td>31</td>\n",
       "      <td>...</td>\n",
       "      <td>NaN</td>\n",
       "      <td>NaN</td>\n",
       "      <td>NaN</td>\n",
       "      <td>Tōkyō-to Minato-ku ShibakōenDining bar</td>\n",
       "      <td>air_ba937bf13d40fb240</td>\n",
       "      <td>air_ba937bf13d40fb2400</td>\n",
       "      <td>13.754386</td>\n",
       "      <td>12.0</td>\n",
       "      <td>2.0</td>\n",
       "      <td>34.0</td>\n",
       "    </tr>\n",
       "  </tbody>\n",
       "</table>\n",
       "<p>5 rows × 42 columns</p>\n",
       "</div>"
      ],
      "text/plain": [
       "  dataset          air_store_id visit_date  visitors  \\\n",
       "0    past  air_ba937bf13d40fb24 2016-01-13        25   \n",
       "1    past  air_ba937bf13d40fb24 2016-01-14        32   \n",
       "2    past  air_ba937bf13d40fb24 2016-01-15        29   \n",
       "3    past  air_ba937bf13d40fb24 2016-01-16        22   \n",
       "4    past  air_ba937bf13d40fb24 2016-01-18         6   \n",
       "\n",
       "                                id  weekday  year  month  day_of_year  \\\n",
       "0  air_ba937bf13d40fb24_2016-01-13        2  2016      1           13   \n",
       "1  air_ba937bf13d40fb24_2016-01-14        3  2016      1           14   \n",
       "2  air_ba937bf13d40fb24_2016-01-15        4  2016      1           15   \n",
       "3  air_ba937bf13d40fb24_2016-01-16        5  2016      1           16   \n",
       "4  air_ba937bf13d40fb24_2016-01-18        0  2016      1           18   \n",
       "\n",
       "   days_in_month  ...  n_reserves  n_reserve_visitors  \\\n",
       "0             31  ...         NaN                 NaN   \n",
       "1             31  ...         NaN                 NaN   \n",
       "2             31  ...         NaN                 NaN   \n",
       "3             31  ...         NaN                 NaN   \n",
       "4             31  ...         NaN                 NaN   \n",
       "\n",
       "   reserve_avg_hours_ahead                              area_genre  \\\n",
       "0                      NaN  Tōkyō-to Minato-ku ShibakōenDining bar   \n",
       "1                      NaN  Tōkyō-to Minato-ku ShibakōenDining bar   \n",
       "2                      NaN  Tōkyō-to Minato-ku ShibakōenDining bar   \n",
       "3                      NaN  Tōkyō-to Minato-ku ShibakōenDining bar   \n",
       "4                      NaN  Tōkyō-to Minato-ku ShibakōenDining bar   \n",
       "\n",
       "           store_weekday   store_weekday_holiday mean_visitors  \\\n",
       "0  air_ba937bf13d40fb242  air_ba937bf13d40fb2420     24.095238   \n",
       "1  air_ba937bf13d40fb243  air_ba937bf13d40fb2430     20.450000   \n",
       "2  air_ba937bf13d40fb244  air_ba937bf13d40fb2440     35.218750   \n",
       "3  air_ba937bf13d40fb245  air_ba937bf13d40fb2450     27.828125   \n",
       "4  air_ba937bf13d40fb240  air_ba937bf13d40fb2400     13.754386   \n",
       "\n",
       "  median_visitors  min_visitors  max_visitors  \n",
       "0            25.0           7.0          57.0  \n",
       "1            21.0           7.0          45.0  \n",
       "2            35.5          17.0          61.0  \n",
       "3            27.0           6.0          53.0  \n",
       "4            12.0           2.0          34.0  \n",
       "\n",
       "[5 rows x 42 columns]"
      ]
     },
     "execution_count": 74,
     "metadata": {},
     "output_type": "execute_result"
    }
   ],
   "source": [
    "train_dt = train_dt.merge(visitors_stats, how='left', on=group_by_cols)\n",
    "\n",
    "train_dt.head()"
   ]
  },
  {
   "cell_type": "code",
   "execution_count": 75,
   "id": "ab41ea33",
   "metadata": {
    "execution": {
     "iopub.execute_input": "2021-08-05T04:54:02.006990Z",
     "iopub.status.busy": "2021-08-05T04:54:02.006328Z",
     "iopub.status.idle": "2021-08-05T04:54:02.381361Z",
     "shell.execute_reply": "2021-08-05T04:54:02.381852Z",
     "shell.execute_reply.started": "2021-08-05T04:29:51.588655Z"
    },
    "papermill": {
     "duration": 0.490659,
     "end_time": "2021-08-05T04:54:02.382035",
     "exception": false,
     "start_time": "2021-08-05T04:54:01.891376",
     "status": "completed"
    },
    "tags": []
   },
   "outputs": [
    {
     "name": "stdout",
     "output_type": "stream",
     "text": [
      "<class 'pandas.core.frame.DataFrame'>\n",
      "Int64Index: 284127 entries, 0 to 284126\n",
      "Data columns (total 42 columns):\n",
      " #   Column                   Non-Null Count   Dtype         \n",
      "---  ------                   --------------   -----         \n",
      " 0   dataset                  284127 non-null  object        \n",
      " 1   air_store_id             284127 non-null  object        \n",
      " 2   visit_date               284127 non-null  datetime64[ns]\n",
      " 3   visitors                 284127 non-null  int64         \n",
      " 4   id                       284127 non-null  object        \n",
      " 5   weekday                  284127 non-null  int64         \n",
      " 6   year                     284127 non-null  int64         \n",
      " 7   month                    284127 non-null  int64         \n",
      " 8   day_of_year              284127 non-null  int64         \n",
      " 9   days_in_month            284127 non-null  int64         \n",
      " 10  week_of_year             284127 non-null  int64         \n",
      " 11  is_month_end             284127 non-null  bool          \n",
      " 12  days_since_20160101      284127 non-null  int64         \n",
      " 13  holiday_flg              284127 non-null  int64         \n",
      " 14  tomorrow_is_holiday      284127 non-null  int64         \n",
      " 15  yesterday_is_holiday     284127 non-null  int64         \n",
      " 16  air_genre_name           284127 non-null  object        \n",
      " 17  air_area_name            284127 non-null  object        \n",
      " 18  latitude_air             284127 non-null  float64       \n",
      " 19  longitude_air            284127 non-null  float64       \n",
      " 20  hpg_store_id             51869 non-null   object        \n",
      " 21  hpg_genre_name           22555 non-null   object        \n",
      " 22  hpg_area_name            22555 non-null   object        \n",
      " 23  latitude_hpg             22555 non-null   float64       \n",
      " 24  longitude_hpg            22555 non-null   float64       \n",
      " 25  Todofuken                284127 non-null  object        \n",
      " 26  city                     284127 non-null  object        \n",
      " 27  street                   284127 non-null  object        \n",
      " 28  n_stores_same_street     284127 non-null  int64         \n",
      " 29  n_stores_same_city       284127 non-null  int64         \n",
      " 30  n_stores_same_Todofuken  284127 non-null  int64         \n",
      " 31  planned_visit_date       36967 non-null   datetime64[ns]\n",
      " 32  n_reserves               36967 non-null   float64       \n",
      " 33  n_reserve_visitors       36967 non-null   float64       \n",
      " 34  reserve_avg_hours_ahead  36967 non-null   float64       \n",
      " 35  area_genre               284127 non-null  object        \n",
      " 36  store_weekday            284127 non-null  object        \n",
      " 37  store_weekday_holiday    284127 non-null  object        \n",
      " 38  mean_visitors            283401 non-null  float64       \n",
      " 39  median_visitors          283401 non-null  float64       \n",
      " 40  min_visitors             283401 non-null  float64       \n",
      " 41  max_visitors             283401 non-null  float64       \n",
      "dtypes: bool(1), datetime64[ns](2), float64(11), int64(14), object(14)\n",
      "memory usage: 91.3+ MB\n"
     ]
    }
   ],
   "source": [
    "#Reformat Features\n",
    "\n",
    "train_dt.info()"
   ]
  },
  {
   "cell_type": "code",
   "execution_count": 76,
   "id": "088e5106",
   "metadata": {
    "execution": {
     "iopub.execute_input": "2021-08-05T04:54:02.611492Z",
     "iopub.status.busy": "2021-08-05T04:54:02.610502Z",
     "iopub.status.idle": "2021-08-05T04:54:02.616647Z",
     "shell.execute_reply": "2021-08-05T04:54:02.617099Z",
     "shell.execute_reply.started": "2021-08-05T04:29:51.972350Z"
    },
    "papermill": {
     "duration": 0.121336,
     "end_time": "2021-08-05T04:54:02.617285",
     "exception": false,
     "start_time": "2021-08-05T04:54:02.495949",
     "status": "completed"
    },
    "tags": []
   },
   "outputs": [
    {
     "data": {
      "text/plain": [
       "Index(['dataset', 'air_store_id', 'visit_date', 'visitors', 'id', 'weekday',\n",
       "       'year', 'month', 'day_of_year', 'days_in_month', 'week_of_year',\n",
       "       'is_month_end', 'days_since_20160101', 'holiday_flg',\n",
       "       'tomorrow_is_holiday', 'yesterday_is_holiday', 'air_genre_name',\n",
       "       'air_area_name', 'latitude_air', 'longitude_air', 'hpg_store_id',\n",
       "       'hpg_genre_name', 'hpg_area_name', 'latitude_hpg', 'longitude_hpg',\n",
       "       'Todofuken', 'city', 'street', 'n_stores_same_street',\n",
       "       'n_stores_same_city', 'n_stores_same_Todofuken', 'planned_visit_date',\n",
       "       'n_reserves', 'n_reserve_visitors', 'reserve_avg_hours_ahead',\n",
       "       'area_genre', 'store_weekday', 'store_weekday_holiday', 'mean_visitors',\n",
       "       'median_visitors', 'min_visitors', 'max_visitors'],\n",
       "      dtype='object')"
      ]
     },
     "execution_count": 76,
     "metadata": {},
     "output_type": "execute_result"
    }
   ],
   "source": [
    "train_dt.columns"
   ]
  },
  {
   "cell_type": "code",
   "execution_count": 77,
   "id": "bc964e5b",
   "metadata": {
    "execution": {
     "iopub.execute_input": "2021-08-05T04:54:02.847797Z",
     "iopub.status.busy": "2021-08-05T04:54:02.846745Z",
     "iopub.status.idle": "2021-08-05T04:54:02.854010Z",
     "shell.execute_reply": "2021-08-05T04:54:02.853449Z",
     "shell.execute_reply.started": "2021-08-05T04:29:51.984486Z"
    },
    "papermill": {
     "duration": 0.123913,
     "end_time": "2021-08-05T04:54:02.854155",
     "exception": false,
     "start_time": "2021-08-05T04:54:02.730242",
     "status": "completed"
    },
    "tags": []
   },
   "outputs": [],
   "source": [
    "##features type check\n",
    "\n",
    "#categorical columns\n",
    "cat_cols = ['air_store_id', 'air_genre_name', 'air_area_name', \n",
    "            'hpg_genre_name', 'hpg_area_name',\n",
    "            'Todofuken', 'city', 'street', \n",
    "            'area_genre', 'store_weekday', 'store_weekday_holiday'\n",
    "           ]\n",
    "\n",
    "#binary columns (T/F or 1/0)\n",
    "bin_cols = ['is_month_end', 'holiday_flg', 'tomorrow_is_holiday', 'yesterday_is_holiday']\n",
    "\n",
    "#numeric columns\n",
    "num_cols = ['weekday', 'year', 'month', 'day_of_year', 'days_in_month', 'week_of_year', 'days_since_20160101', #date\n",
    "            'latitude_air', 'longitude_air',   #location\n",
    "            'n_stores_same_street', 'n_stores_same_city', 'n_stores_same_Todofuken',    #neighbor\n",
    "            'n_reserves', 'n_reserve_visitors', 'reserve_avg_hours_ahead',  #reserves\n",
    "            'mean_visitors', 'median_visitors', 'min_visitors', 'max_visitors'    #simple aggregation of visitors\n",
    "           ]    \n",
    "\n",
    "#id columns\n",
    "id_col = 'id'\n",
    "\n",
    "#target column\n",
    "target_col = 'visitors'"
   ]
  },
  {
   "cell_type": "code",
   "execution_count": 78,
   "id": "818ba140",
   "metadata": {
    "execution": {
     "iopub.execute_input": "2021-08-05T04:54:03.087443Z",
     "iopub.status.busy": "2021-08-05T04:54:03.086683Z",
     "iopub.status.idle": "2021-08-05T04:54:03.220613Z",
     "shell.execute_reply": "2021-08-05T04:54:03.221104Z",
     "shell.execute_reply.started": "2021-08-05T04:29:51.996964Z"
    },
    "papermill": {
     "duration": 0.253513,
     "end_time": "2021-08-05T04:54:03.221339",
     "exception": false,
     "start_time": "2021-08-05T04:54:02.967826",
     "status": "completed"
    },
    "tags": []
   },
   "outputs": [],
   "source": [
    "#categorical feature label -> int encoding & one-hot encoding\n",
    "\n",
    "#categorical, string 라벨을 전부 숫자형(integer)로 변경\n",
    "from sklearn.preprocessing import LabelEncoder\n",
    "\n",
    "cat2int_cols = [ cat+'_int' for cat in cat_cols ]    \n",
    "#a list of column names(strings) \n",
    "#범주형에서 정수로 변환된 모든 칼럼을 추적.\n",
    "\n",
    "cat2int_encoders = {}\n",
    "#a dictionary of LabelEncoder objects \n",
    "#dic 형태는 {'air_store_id': LabelEncoder().fit_transform(full['air_store_id'])}\n",
    "#범주형 피쳐의 인코딩 변환에 사용됨."
   ]
  },
  {
   "cell_type": "code",
   "execution_count": 79,
   "id": "5443d77f",
   "metadata": {
    "execution": {
     "iopub.execute_input": "2021-08-05T04:54:03.450253Z",
     "iopub.status.busy": "2021-08-05T04:54:03.449566Z",
     "iopub.status.idle": "2021-08-05T04:54:04.850511Z",
     "shell.execute_reply": "2021-08-05T04:54:04.850981Z",
     "shell.execute_reply.started": "2021-08-05T04:29:52.246078Z"
    },
    "papermill": {
     "duration": 1.517306,
     "end_time": "2021-08-05T04:54:04.851155",
     "exception": false,
     "start_time": "2021-08-05T04:54:03.333849",
     "status": "completed"
    },
    "tags": []
   },
   "outputs": [
    {
     "name": "stdout",
     "output_type": "stream",
     "text": [
      "CPU times: user 1.37 s, sys: 21.9 ms, total: 1.39 s\n",
      "Wall time: 1.39 s\n"
     ]
    }
   ],
   "source": [
    "\n",
    "%%time\n",
    "\n",
    "for cat, cat2int in zip(cat_cols, cat2int_cols):\n",
    "    encoder = LabelEncoder()\n",
    "    train_dt[cat2int] = encoder.fit_transform(train_dt[cat].astype(str))\n",
    "    cat2int_encoders[cat] = encoder"
   ]
  },
  {
   "cell_type": "code",
   "execution_count": 80,
   "id": "5db40550",
   "metadata": {
    "execution": {
     "iopub.execute_input": "2021-08-05T04:54:05.084379Z",
     "iopub.status.busy": "2021-08-05T04:54:05.082360Z",
     "iopub.status.idle": "2021-08-05T04:54:05.272375Z",
     "shell.execute_reply": "2021-08-05T04:54:05.271833Z",
     "shell.execute_reply.started": "2021-08-05T04:30:14.500616Z"
    },
    "papermill": {
     "duration": 0.309273,
     "end_time": "2021-08-05T04:54:05.272528",
     "exception": false,
     "start_time": "2021-08-05T04:54:04.963255",
     "status": "completed"
    },
    "tags": []
   },
   "outputs": [
    {
     "data": {
      "text/html": [
       "<div>\n",
       "<style scoped>\n",
       "    .dataframe tbody tr th:only-of-type {\n",
       "        vertical-align: middle;\n",
       "    }\n",
       "\n",
       "    .dataframe tbody tr th {\n",
       "        vertical-align: top;\n",
       "    }\n",
       "\n",
       "    .dataframe thead th {\n",
       "        text-align: right;\n",
       "    }\n",
       "</style>\n",
       "<table border=\"1\" class=\"dataframe\">\n",
       "  <thead>\n",
       "    <tr style=\"text-align: right;\">\n",
       "      <th></th>\n",
       "      <th>air_store_id_int</th>\n",
       "      <th>air_genre_name_int</th>\n",
       "      <th>air_area_name_int</th>\n",
       "      <th>hpg_genre_name_int</th>\n",
       "      <th>hpg_area_name_int</th>\n",
       "      <th>Todofuken_int</th>\n",
       "      <th>city_int</th>\n",
       "      <th>street_int</th>\n",
       "      <th>area_genre_int</th>\n",
       "      <th>store_weekday_int</th>\n",
       "      <th>store_weekday_holiday_int</th>\n",
       "    </tr>\n",
       "  </thead>\n",
       "  <tbody>\n",
       "    <tr>\n",
       "      <th>0</th>\n",
       "      <td>603</td>\n",
       "      <td>4</td>\n",
       "      <td>62</td>\n",
       "      <td>16</td>\n",
       "      <td>31</td>\n",
       "      <td>7</td>\n",
       "      <td>29</td>\n",
       "      <td>77</td>\n",
       "      <td>144</td>\n",
       "      <td>4222</td>\n",
       "      <td>7860</td>\n",
       "    </tr>\n",
       "    <tr>\n",
       "      <th>1</th>\n",
       "      <td>603</td>\n",
       "      <td>4</td>\n",
       "      <td>62</td>\n",
       "      <td>16</td>\n",
       "      <td>31</td>\n",
       "      <td>7</td>\n",
       "      <td>29</td>\n",
       "      <td>77</td>\n",
       "      <td>144</td>\n",
       "      <td>4223</td>\n",
       "      <td>7862</td>\n",
       "    </tr>\n",
       "    <tr>\n",
       "      <th>2</th>\n",
       "      <td>603</td>\n",
       "      <td>4</td>\n",
       "      <td>62</td>\n",
       "      <td>16</td>\n",
       "      <td>31</td>\n",
       "      <td>7</td>\n",
       "      <td>29</td>\n",
       "      <td>77</td>\n",
       "      <td>144</td>\n",
       "      <td>4224</td>\n",
       "      <td>7864</td>\n",
       "    </tr>\n",
       "    <tr>\n",
       "      <th>3</th>\n",
       "      <td>603</td>\n",
       "      <td>4</td>\n",
       "      <td>62</td>\n",
       "      <td>16</td>\n",
       "      <td>31</td>\n",
       "      <td>7</td>\n",
       "      <td>29</td>\n",
       "      <td>77</td>\n",
       "      <td>144</td>\n",
       "      <td>4225</td>\n",
       "      <td>7866</td>\n",
       "    </tr>\n",
       "    <tr>\n",
       "      <th>4</th>\n",
       "      <td>603</td>\n",
       "      <td>4</td>\n",
       "      <td>62</td>\n",
       "      <td>16</td>\n",
       "      <td>31</td>\n",
       "      <td>7</td>\n",
       "      <td>29</td>\n",
       "      <td>77</td>\n",
       "      <td>144</td>\n",
       "      <td>4220</td>\n",
       "      <td>7858</td>\n",
       "    </tr>\n",
       "  </tbody>\n",
       "</table>\n",
       "</div>"
      ],
      "text/plain": [
       "   air_store_id_int  air_genre_name_int  air_area_name_int  \\\n",
       "0               603                   4                 62   \n",
       "1               603                   4                 62   \n",
       "2               603                   4                 62   \n",
       "3               603                   4                 62   \n",
       "4               603                   4                 62   \n",
       "\n",
       "   hpg_genre_name_int  hpg_area_name_int  Todofuken_int  city_int  street_int  \\\n",
       "0                  16                 31              7        29          77   \n",
       "1                  16                 31              7        29          77   \n",
       "2                  16                 31              7        29          77   \n",
       "3                  16                 31              7        29          77   \n",
       "4                  16                 31              7        29          77   \n",
       "\n",
       "   area_genre_int  store_weekday_int  store_weekday_holiday_int  \n",
       "0             144               4222                       7860  \n",
       "1             144               4223                       7862  \n",
       "2             144               4224                       7864  \n",
       "3             144               4225                       7866  \n",
       "4             144               4220                       7858  "
      ]
     },
     "execution_count": 80,
     "metadata": {},
     "output_type": "execute_result"
    }
   ],
   "source": [
    "train_dt[cat2int_cols].head()"
   ]
  },
  {
   "cell_type": "code",
   "execution_count": 81,
   "id": "bcbb7590",
   "metadata": {
    "execution": {
     "iopub.execute_input": "2021-08-05T04:54:05.511846Z",
     "iopub.status.busy": "2021-08-05T04:54:05.510857Z",
     "iopub.status.idle": "2021-08-05T04:54:05.783919Z",
     "shell.execute_reply": "2021-08-05T04:54:05.783263Z",
     "shell.execute_reply.started": "2021-08-05T04:33:02.791874Z"
    },
    "papermill": {
     "duration": 0.39948,
     "end_time": "2021-08-05T04:54:05.784055",
     "exception": false,
     "start_time": "2021-08-05T04:54:05.384575",
     "status": "completed"
    },
    "tags": []
   },
   "outputs": [],
   "source": [
    "#one-hot encoding\n",
    "#숫자형 라벨을 0 또는 1로 바꿈\n",
    "\n",
    "from sklearn.preprocessing import OneHotEncoder\n",
    "\n",
    "onehot_encoder = OneHotEncoder(sparse=True)\n",
    "cat2onehot_sparse = onehot_encoder.fit_transform(train_dt[cat2int_cols])"
   ]
  },
  {
   "cell_type": "code",
   "execution_count": 82,
   "id": "884d703b",
   "metadata": {
    "execution": {
     "iopub.execute_input": "2021-08-05T04:54:06.014278Z",
     "iopub.status.busy": "2021-08-05T04:54:06.013580Z",
     "iopub.status.idle": "2021-08-05T04:54:06.016148Z",
     "shell.execute_reply": "2021-08-05T04:54:06.016659Z",
     "shell.execute_reply.started": "2021-08-05T04:33:24.643496Z"
    },
    "papermill": {
     "duration": 0.119998,
     "end_time": "2021-08-05T04:54:06.016827",
     "exception": false,
     "start_time": "2021-08-05T04:54:05.896829",
     "status": "completed"
    },
    "tags": []
   },
   "outputs": [
    {
     "name": "stdout",
     "output_type": "stream",
     "text": [
      "11\n",
      "(284127, 18026)\n"
     ]
    }
   ],
   "source": [
    "print(len(cat_cols))\n",
    "print(cat2onehot_sparse.shape)"
   ]
  },
  {
   "cell_type": "code",
   "execution_count": 83,
   "id": "a18b8c9e",
   "metadata": {
    "execution": {
     "iopub.execute_input": "2021-08-05T04:54:06.246412Z",
     "iopub.status.busy": "2021-08-05T04:54:06.245678Z",
     "iopub.status.idle": "2021-08-05T04:54:06.262599Z",
     "shell.execute_reply": "2021-08-05T04:54:06.263071Z",
     "shell.execute_reply.started": "2021-08-05T04:34:14.698936Z"
    },
    "papermill": {
     "duration": 0.133765,
     "end_time": "2021-08-05T04:54:06.263275",
     "exception": false,
     "start_time": "2021-08-05T04:54:06.129510",
     "status": "completed"
    },
    "tags": []
   },
   "outputs": [],
   "source": [
    "#범주형(categorical) 칼럼을 원-핫 칼럼으로 형성.\n",
    "cat2onehot_cols = [ cat+'__is__'+str(level).replace(' ', '_') \n",
    "                   for cat in cat_cols for level in cat2int_encoders[cat].classes_]"
   ]
  },
  {
   "cell_type": "code",
   "execution_count": 84,
   "id": "be3ae4b0",
   "metadata": {
    "execution": {
     "iopub.execute_input": "2021-08-05T04:54:06.492596Z",
     "iopub.status.busy": "2021-08-05T04:54:06.491932Z",
     "iopub.status.idle": "2021-08-05T04:54:06.498261Z",
     "shell.execute_reply": "2021-08-05T04:54:06.497727Z",
     "shell.execute_reply.started": "2021-08-05T04:34:20.076807Z"
    },
    "papermill": {
     "duration": 0.122303,
     "end_time": "2021-08-05T04:54:06.498406",
     "exception": false,
     "start_time": "2021-08-05T04:54:06.376103",
     "status": "completed"
    },
    "tags": []
   },
   "outputs": [
    {
     "data": {
      "text/plain": [
       "['store_weekday__is__air_a218912784bf767d0',\n",
       " 'store_weekday_holiday__is__air_f85e21e543cf44f221',\n",
       " 'store_weekday_holiday__is__air_9bf0ccac497c4af350',\n",
       " 'store_weekday__is__air_fdc02ec4a3d21ea41',\n",
       " 'store_weekday_holiday__is__air_709262d948dd0b6e41',\n",
       " 'store_weekday__is__air_a9a380530c1e121f6',\n",
       " 'store_weekday__is__air_6c952e3c6e5909455',\n",
       " 'store_weekday__is__air_1707a3f18bb0da070',\n",
       " 'store_weekday_holiday__is__air_b30fffd7ab1e75a530',\n",
       " 'store_weekday__is__air_8a59bb0c497b771e5',\n",
       " 'store_weekday__is__air_f1f9027d4fa8f6530',\n",
       " 'store_weekday_holiday__is__air_c28983412a7eefcf31',\n",
       " 'store_weekday_holiday__is__air_2b8b29ddfd35018e51',\n",
       " 'store_weekday_holiday__is__air_d0a1e69685259c9250',\n",
       " 'store_weekday__is__air_36bcf77d3382d36e3',\n",
       " 'store_weekday_holiday__is__air_5d7c744c3a2ef62461',\n",
       " 'store_weekday_holiday__is__air_54ed43163b7596c400',\n",
       " 'store_weekday__is__air_9b13c7feb0a0c4311',\n",
       " 'store_weekday_holiday__is__air_bdd32aa407c1633541',\n",
       " 'store_weekday__is__air_f88898cd09f404960']"
      ]
     },
     "execution_count": 84,
     "metadata": {},
     "output_type": "execute_result"
    }
   ],
   "source": [
    "import random\n",
    "random.sample(cat2onehot_cols, 20)"
   ]
  },
  {
   "cell_type": "code",
   "execution_count": 85,
   "id": "c8c7f390",
   "metadata": {
    "execution": {
     "iopub.execute_input": "2021-08-05T04:54:06.732626Z",
     "iopub.status.busy": "2021-08-05T04:54:06.731507Z",
     "iopub.status.idle": "2021-08-05T04:54:07.624642Z",
     "shell.execute_reply": "2021-08-05T04:54:07.623994Z",
     "shell.execute_reply.started": "2021-08-05T04:37:13.389379Z"
    },
    "papermill": {
     "duration": 1.012791,
     "end_time": "2021-08-05T04:54:07.624846",
     "exception": false,
     "start_time": "2021-08-05T04:54:06.612055",
     "status": "completed"
    },
    "tags": []
   },
   "outputs": [],
   "source": [
    "#engineered features save\n",
    "\n",
    "import os\n",
    "import pickle\n",
    "if not os.path.exists('train_set'): os.mkdir('train_set')\n",
    "\n",
    "    \n",
    "train_dt.to_pickle('train_set/train_engineered.pkl')\n",
    "\n",
    "with open('train_set/train_variables.pkl', 'wb') as f:\n",
    "    pickle.dump([cat_cols, num_cols, bin_cols, id_col, target_col,\n",
    "                 cat2int_cols, cat2int_encoders, cat2onehot_cols,\n",
    "                 cat2onehot_sparse], f)"
   ]
  },
  {
   "cell_type": "code",
   "execution_count": 86,
   "id": "d40d4824",
   "metadata": {
    "execution": {
     "iopub.execute_input": "2021-08-05T04:54:07.859908Z",
     "iopub.status.busy": "2021-08-05T04:54:07.859150Z",
     "iopub.status.idle": "2021-08-05T04:54:07.862277Z",
     "shell.execute_reply": "2021-08-05T04:54:07.861677Z"
    },
    "papermill": {
     "duration": 0.121578,
     "end_time": "2021-08-05T04:54:07.862426",
     "exception": false,
     "start_time": "2021-08-05T04:54:07.740848",
     "status": "completed"
    },
    "tags": []
   },
   "outputs": [],
   "source": [
    "###### 위의 코드까지가 피쳐 엔지니어링 과정 #####"
   ]
  },
  {
   "cell_type": "code",
   "execution_count": 87,
   "id": "04263b74",
   "metadata": {
    "execution": {
     "iopub.execute_input": "2021-08-05T04:54:08.101357Z",
     "iopub.status.busy": "2021-08-05T04:54:08.100666Z",
     "iopub.status.idle": "2021-08-05T04:54:08.237700Z",
     "shell.execute_reply": "2021-08-05T04:54:08.237134Z",
     "shell.execute_reply.started": "2021-08-05T04:38:01.200948Z"
    },
    "papermill": {
     "duration": 0.262263,
     "end_time": "2021-08-05T04:54:08.237855",
     "exception": false,
     "start_time": "2021-08-05T04:54:07.975592",
     "status": "completed"
    },
    "tags": []
   },
   "outputs": [],
   "source": [
    "import pandas as pd\n",
    "import numpy as np\n",
    "import matplotlib.pyplot as plt\n",
    "%matplotlib inline\n",
    "import xgboost as xgb"
   ]
  },
  {
   "cell_type": "code",
   "execution_count": 88,
   "id": "3d436f76",
   "metadata": {
    "execution": {
     "iopub.execute_input": "2021-08-05T04:54:08.473106Z",
     "iopub.status.busy": "2021-08-05T04:54:08.472464Z",
     "iopub.status.idle": "2021-08-05T04:54:08.501422Z",
     "shell.execute_reply": "2021-08-05T04:54:08.500802Z",
     "shell.execute_reply.started": "2021-08-05T04:38:47.016121Z"
    },
    "papermill": {
     "duration": 0.149483,
     "end_time": "2021-08-05T04:54:08.501569",
     "exception": false,
     "start_time": "2021-08-05T04:54:08.352086",
     "status": "completed"
    },
    "tags": []
   },
   "outputs": [],
   "source": [
    "import pickle\n",
    "with open('train_set/train_variables.pkl', 'rb') as f:\n",
    "    (cat_cols, num_cols, bin_cols, id_col, target_col, \n",
    "    cat2int_cols, cat2int_encoders, cat2onehot_cols, \n",
    "    cat2onehot_sparse) = pickle.load(f)"
   ]
  },
  {
   "cell_type": "code",
   "execution_count": 89,
   "id": "c415a6da",
   "metadata": {
    "execution": {
     "iopub.execute_input": "2021-08-05T04:54:08.733583Z",
     "iopub.status.busy": "2021-08-05T04:54:08.732862Z",
     "iopub.status.idle": "2021-08-05T04:54:09.311553Z",
     "shell.execute_reply": "2021-08-05T04:54:09.310967Z",
     "shell.execute_reply.started": "2021-08-05T04:39:29.843211Z"
    },
    "papermill": {
     "duration": 0.69615,
     "end_time": "2021-08-05T04:54:09.311693",
     "exception": false,
     "start_time": "2021-08-05T04:54:08.615543",
     "status": "completed"
    },
    "tags": []
   },
   "outputs": [],
   "source": [
    "train_dt = pd.read_pickle('train_set/train_engineered.pkl')"
   ]
  },
  {
   "cell_type": "code",
   "execution_count": 90,
   "id": "5de07fec",
   "metadata": {
    "execution": {
     "iopub.execute_input": "2021-08-05T04:54:09.542315Z",
     "iopub.status.busy": "2021-08-05T04:54:09.541658Z",
     "iopub.status.idle": "2021-08-05T04:54:09.926153Z",
     "shell.execute_reply": "2021-08-05T04:54:09.924960Z",
     "shell.execute_reply.started": "2021-08-05T04:39:36.081468Z"
    },
    "papermill": {
     "duration": 0.501877,
     "end_time": "2021-08-05T04:54:09.926397",
     "exception": false,
     "start_time": "2021-08-05T04:54:09.424520",
     "status": "completed"
    },
    "tags": []
   },
   "outputs": [
    {
     "name": "stdout",
     "output_type": "stream",
     "text": [
      "<class 'pandas.core.frame.DataFrame'>\n",
      "Int64Index: 284127 entries, 0 to 284126\n",
      "Data columns (total 53 columns):\n",
      " #   Column                     Non-Null Count   Dtype         \n",
      "---  ------                     --------------   -----         \n",
      " 0   dataset                    284127 non-null  object        \n",
      " 1   air_store_id               284127 non-null  object        \n",
      " 2   visit_date                 284127 non-null  datetime64[ns]\n",
      " 3   visitors                   284127 non-null  int64         \n",
      " 4   id                         284127 non-null  object        \n",
      " 5   weekday                    284127 non-null  int64         \n",
      " 6   year                       284127 non-null  int64         \n",
      " 7   month                      284127 non-null  int64         \n",
      " 8   day_of_year                284127 non-null  int64         \n",
      " 9   days_in_month              284127 non-null  int64         \n",
      " 10  week_of_year               284127 non-null  int64         \n",
      " 11  is_month_end               284127 non-null  bool          \n",
      " 12  days_since_20160101        284127 non-null  int64         \n",
      " 13  holiday_flg                284127 non-null  int64         \n",
      " 14  tomorrow_is_holiday        284127 non-null  int64         \n",
      " 15  yesterday_is_holiday       284127 non-null  int64         \n",
      " 16  air_genre_name             284127 non-null  object        \n",
      " 17  air_area_name              284127 non-null  object        \n",
      " 18  latitude_air               284127 non-null  float64       \n",
      " 19  longitude_air              284127 non-null  float64       \n",
      " 20  hpg_store_id               51869 non-null   object        \n",
      " 21  hpg_genre_name             22555 non-null   object        \n",
      " 22  hpg_area_name              22555 non-null   object        \n",
      " 23  latitude_hpg               22555 non-null   float64       \n",
      " 24  longitude_hpg              22555 non-null   float64       \n",
      " 25  Todofuken                  284127 non-null  object        \n",
      " 26  city                       284127 non-null  object        \n",
      " 27  street                     284127 non-null  object        \n",
      " 28  n_stores_same_street       284127 non-null  int64         \n",
      " 29  n_stores_same_city         284127 non-null  int64         \n",
      " 30  n_stores_same_Todofuken    284127 non-null  int64         \n",
      " 31  planned_visit_date         36967 non-null   datetime64[ns]\n",
      " 32  n_reserves                 36967 non-null   float64       \n",
      " 33  n_reserve_visitors         36967 non-null   float64       \n",
      " 34  reserve_avg_hours_ahead    36967 non-null   float64       \n",
      " 35  area_genre                 284127 non-null  object        \n",
      " 36  store_weekday              284127 non-null  object        \n",
      " 37  store_weekday_holiday      284127 non-null  object        \n",
      " 38  mean_visitors              283401 non-null  float64       \n",
      " 39  median_visitors            283401 non-null  float64       \n",
      " 40  min_visitors               283401 non-null  float64       \n",
      " 41  max_visitors               283401 non-null  float64       \n",
      " 42  air_store_id_int           284127 non-null  int64         \n",
      " 43  air_genre_name_int         284127 non-null  int64         \n",
      " 44  air_area_name_int          284127 non-null  int64         \n",
      " 45  hpg_genre_name_int         284127 non-null  int64         \n",
      " 46  hpg_area_name_int          284127 non-null  int64         \n",
      " 47  Todofuken_int              284127 non-null  int64         \n",
      " 48  city_int                   284127 non-null  int64         \n",
      " 49  street_int                 284127 non-null  int64         \n",
      " 50  area_genre_int             284127 non-null  int64         \n",
      " 51  store_weekday_int          284127 non-null  int64         \n",
      " 52  store_weekday_holiday_int  284127 non-null  int64         \n",
      "dtypes: bool(1), datetime64[ns](2), float64(11), int64(25), object(14)\n",
      "memory usage: 115.2+ MB\n"
     ]
    }
   ],
   "source": [
    "train_dt.info()"
   ]
  },
  {
   "cell_type": "code",
   "execution_count": 91,
   "id": "94a20823",
   "metadata": {
    "execution": {
     "iopub.execute_input": "2021-08-05T04:54:10.180082Z",
     "iopub.status.busy": "2021-08-05T04:54:10.179190Z",
     "iopub.status.idle": "2021-08-05T04:54:10.184044Z",
     "shell.execute_reply": "2021-08-05T04:54:10.183415Z",
     "shell.execute_reply.started": "2021-08-05T04:39:42.668398Z"
    },
    "papermill": {
     "duration": 0.142067,
     "end_time": "2021-08-05T04:54:10.184181",
     "exception": false,
     "start_time": "2021-08-05T04:54:10.042114",
     "status": "completed"
    },
    "tags": []
   },
   "outputs": [
    {
     "data": {
      "text/html": [
       "<div>\n",
       "<style scoped>\n",
       "    .dataframe tbody tr th:only-of-type {\n",
       "        vertical-align: middle;\n",
       "    }\n",
       "\n",
       "    .dataframe tbody tr th {\n",
       "        vertical-align: top;\n",
       "    }\n",
       "\n",
       "    .dataframe thead th {\n",
       "        text-align: right;\n",
       "    }\n",
       "</style>\n",
       "<table border=\"1\" class=\"dataframe\">\n",
       "  <thead>\n",
       "    <tr style=\"text-align: right;\">\n",
       "      <th></th>\n",
       "      <th>dataset</th>\n",
       "      <th>air_store_id</th>\n",
       "      <th>visit_date</th>\n",
       "      <th>visitors</th>\n",
       "      <th>id</th>\n",
       "      <th>weekday</th>\n",
       "      <th>year</th>\n",
       "      <th>month</th>\n",
       "      <th>day_of_year</th>\n",
       "      <th>days_in_month</th>\n",
       "      <th>...</th>\n",
       "      <th>air_genre_name_int</th>\n",
       "      <th>air_area_name_int</th>\n",
       "      <th>hpg_genre_name_int</th>\n",
       "      <th>hpg_area_name_int</th>\n",
       "      <th>Todofuken_int</th>\n",
       "      <th>city_int</th>\n",
       "      <th>street_int</th>\n",
       "      <th>area_genre_int</th>\n",
       "      <th>store_weekday_int</th>\n",
       "      <th>store_weekday_holiday_int</th>\n",
       "    </tr>\n",
       "  </thead>\n",
       "  <tbody>\n",
       "    <tr>\n",
       "      <th>0</th>\n",
       "      <td>past</td>\n",
       "      <td>air_ba937bf13d40fb24</td>\n",
       "      <td>2016-01-13</td>\n",
       "      <td>25</td>\n",
       "      <td>air_ba937bf13d40fb24_2016-01-13</td>\n",
       "      <td>2</td>\n",
       "      <td>2016</td>\n",
       "      <td>1</td>\n",
       "      <td>13</td>\n",
       "      <td>31</td>\n",
       "      <td>...</td>\n",
       "      <td>4</td>\n",
       "      <td>62</td>\n",
       "      <td>16</td>\n",
       "      <td>31</td>\n",
       "      <td>7</td>\n",
       "      <td>29</td>\n",
       "      <td>77</td>\n",
       "      <td>144</td>\n",
       "      <td>4222</td>\n",
       "      <td>7860</td>\n",
       "    </tr>\n",
       "    <tr>\n",
       "      <th>1</th>\n",
       "      <td>past</td>\n",
       "      <td>air_ba937bf13d40fb24</td>\n",
       "      <td>2016-01-14</td>\n",
       "      <td>32</td>\n",
       "      <td>air_ba937bf13d40fb24_2016-01-14</td>\n",
       "      <td>3</td>\n",
       "      <td>2016</td>\n",
       "      <td>1</td>\n",
       "      <td>14</td>\n",
       "      <td>31</td>\n",
       "      <td>...</td>\n",
       "      <td>4</td>\n",
       "      <td>62</td>\n",
       "      <td>16</td>\n",
       "      <td>31</td>\n",
       "      <td>7</td>\n",
       "      <td>29</td>\n",
       "      <td>77</td>\n",
       "      <td>144</td>\n",
       "      <td>4223</td>\n",
       "      <td>7862</td>\n",
       "    </tr>\n",
       "    <tr>\n",
       "      <th>2</th>\n",
       "      <td>past</td>\n",
       "      <td>air_ba937bf13d40fb24</td>\n",
       "      <td>2016-01-15</td>\n",
       "      <td>29</td>\n",
       "      <td>air_ba937bf13d40fb24_2016-01-15</td>\n",
       "      <td>4</td>\n",
       "      <td>2016</td>\n",
       "      <td>1</td>\n",
       "      <td>15</td>\n",
       "      <td>31</td>\n",
       "      <td>...</td>\n",
       "      <td>4</td>\n",
       "      <td>62</td>\n",
       "      <td>16</td>\n",
       "      <td>31</td>\n",
       "      <td>7</td>\n",
       "      <td>29</td>\n",
       "      <td>77</td>\n",
       "      <td>144</td>\n",
       "      <td>4224</td>\n",
       "      <td>7864</td>\n",
       "    </tr>\n",
       "    <tr>\n",
       "      <th>3</th>\n",
       "      <td>past</td>\n",
       "      <td>air_ba937bf13d40fb24</td>\n",
       "      <td>2016-01-16</td>\n",
       "      <td>22</td>\n",
       "      <td>air_ba937bf13d40fb24_2016-01-16</td>\n",
       "      <td>5</td>\n",
       "      <td>2016</td>\n",
       "      <td>1</td>\n",
       "      <td>16</td>\n",
       "      <td>31</td>\n",
       "      <td>...</td>\n",
       "      <td>4</td>\n",
       "      <td>62</td>\n",
       "      <td>16</td>\n",
       "      <td>31</td>\n",
       "      <td>7</td>\n",
       "      <td>29</td>\n",
       "      <td>77</td>\n",
       "      <td>144</td>\n",
       "      <td>4225</td>\n",
       "      <td>7866</td>\n",
       "    </tr>\n",
       "    <tr>\n",
       "      <th>4</th>\n",
       "      <td>past</td>\n",
       "      <td>air_ba937bf13d40fb24</td>\n",
       "      <td>2016-01-18</td>\n",
       "      <td>6</td>\n",
       "      <td>air_ba937bf13d40fb24_2016-01-18</td>\n",
       "      <td>0</td>\n",
       "      <td>2016</td>\n",
       "      <td>1</td>\n",
       "      <td>18</td>\n",
       "      <td>31</td>\n",
       "      <td>...</td>\n",
       "      <td>4</td>\n",
       "      <td>62</td>\n",
       "      <td>16</td>\n",
       "      <td>31</td>\n",
       "      <td>7</td>\n",
       "      <td>29</td>\n",
       "      <td>77</td>\n",
       "      <td>144</td>\n",
       "      <td>4220</td>\n",
       "      <td>7858</td>\n",
       "    </tr>\n",
       "  </tbody>\n",
       "</table>\n",
       "<p>5 rows × 53 columns</p>\n",
       "</div>"
      ],
      "text/plain": [
       "  dataset          air_store_id visit_date  visitors  \\\n",
       "0    past  air_ba937bf13d40fb24 2016-01-13        25   \n",
       "1    past  air_ba937bf13d40fb24 2016-01-14        32   \n",
       "2    past  air_ba937bf13d40fb24 2016-01-15        29   \n",
       "3    past  air_ba937bf13d40fb24 2016-01-16        22   \n",
       "4    past  air_ba937bf13d40fb24 2016-01-18         6   \n",
       "\n",
       "                                id  weekday  year  month  day_of_year  \\\n",
       "0  air_ba937bf13d40fb24_2016-01-13        2  2016      1           13   \n",
       "1  air_ba937bf13d40fb24_2016-01-14        3  2016      1           14   \n",
       "2  air_ba937bf13d40fb24_2016-01-15        4  2016      1           15   \n",
       "3  air_ba937bf13d40fb24_2016-01-16        5  2016      1           16   \n",
       "4  air_ba937bf13d40fb24_2016-01-18        0  2016      1           18   \n",
       "\n",
       "   days_in_month  ...  air_genre_name_int  air_area_name_int  \\\n",
       "0             31  ...                   4                 62   \n",
       "1             31  ...                   4                 62   \n",
       "2             31  ...                   4                 62   \n",
       "3             31  ...                   4                 62   \n",
       "4             31  ...                   4                 62   \n",
       "\n",
       "   hpg_genre_name_int  hpg_area_name_int  Todofuken_int  city_int street_int  \\\n",
       "0                  16                 31              7        29         77   \n",
       "1                  16                 31              7        29         77   \n",
       "2                  16                 31              7        29         77   \n",
       "3                  16                 31              7        29         77   \n",
       "4                  16                 31              7        29         77   \n",
       "\n",
       "  area_genre_int  store_weekday_int  store_weekday_holiday_int  \n",
       "0            144               4222                       7860  \n",
       "1            144               4223                       7862  \n",
       "2            144               4224                       7864  \n",
       "3            144               4225                       7866  \n",
       "4            144               4220                       7858  \n",
       "\n",
       "[5 rows x 53 columns]"
      ]
     },
     "execution_count": 91,
     "metadata": {},
     "output_type": "execute_result"
    }
   ],
   "source": [
    "train_dt.head()"
   ]
  },
  {
   "cell_type": "code",
   "execution_count": 92,
   "id": "6cb3edcb",
   "metadata": {
    "execution": {
     "iopub.execute_input": "2021-08-05T04:54:10.419545Z",
     "iopub.status.busy": "2021-08-05T04:54:10.418786Z",
     "iopub.status.idle": "2021-08-05T04:54:10.423541Z",
     "shell.execute_reply": "2021-08-05T04:54:10.422851Z",
     "shell.execute_reply.started": "2021-08-05T04:41:28.432788Z"
    },
    "papermill": {
     "duration": 0.124189,
     "end_time": "2021-08-05T04:54:10.423697",
     "exception": false,
     "start_time": "2021-08-05T04:54:10.299508",
     "status": "completed"
    },
    "tags": []
   },
   "outputs": [
    {
     "name": "stdout",
     "output_type": "stream",
     "text": [
      "['weekday', 'year', 'month', 'day_of_year', 'days_in_month', 'week_of_year', 'days_since_20160101', 'latitude_air', 'longitude_air', 'n_stores_same_street', 'n_stores_same_city', 'n_stores_same_Todofuken', 'n_reserves', 'n_reserve_visitors', 'reserve_avg_hours_ahead', 'mean_visitors', 'median_visitors', 'min_visitors', 'max_visitors', 'is_month_end', 'holiday_flg', 'tomorrow_is_holiday', 'yesterday_is_holiday', 'air_store_id_int', 'air_genre_name_int', 'air_area_name_int', 'hpg_genre_name_int', 'hpg_area_name_int', 'Todofuken_int', 'city_int', 'street_int', 'area_genre_int', 'store_weekday_int', 'store_weekday_holiday_int']\n",
      "개수 : 34\n"
     ]
    }
   ],
   "source": [
    "#숫자형과 위에서 정수로 바뀐 범주형 칼럼만 사용함.\n",
    "\n",
    "use_cols = num_cols + bin_cols + cat2int_cols\n",
    "\n",
    "print(use_cols)\n",
    "print('개수 :', len(use_cols))"
   ]
  },
  {
   "cell_type": "code",
   "execution_count": 93,
   "id": "d9d3557e",
   "metadata": {
    "execution": {
     "iopub.execute_input": "2021-08-05T04:54:10.706709Z",
     "iopub.status.busy": "2021-08-05T04:54:10.705616Z",
     "iopub.status.idle": "2021-08-05T04:54:10.800932Z",
     "shell.execute_reply": "2021-08-05T04:54:10.800287Z",
     "shell.execute_reply.started": "2021-08-05T04:42:42.191910Z"
    },
    "papermill": {
     "duration": 0.260773,
     "end_time": "2021-08-05T04:54:10.801072",
     "exception": false,
     "start_time": "2021-08-05T04:54:10.540299",
     "status": "completed"
    },
    "tags": []
   },
   "outputs": [],
   "source": [
    "#past와 future를 train_dt에서 분리\n",
    "\n",
    "past = train_dt.query('dataset==\"past\"')\n",
    "future  = train_dt.query('dataset==\"future\"')"
   ]
  },
  {
   "cell_type": "code",
   "execution_count": 94,
   "id": "b15dc97e",
   "metadata": {
    "execution": {
     "iopub.execute_input": "2021-08-05T04:54:11.055910Z",
     "iopub.status.busy": "2021-08-05T04:54:11.055260Z",
     "iopub.status.idle": "2021-08-05T04:54:11.060207Z",
     "shell.execute_reply": "2021-08-05T04:54:11.060683Z",
     "shell.execute_reply.started": "2021-08-05T04:42:49.715074Z"
    },
    "papermill": {
     "duration": 0.144223,
     "end_time": "2021-08-05T04:54:11.060856",
     "exception": false,
     "start_time": "2021-08-05T04:54:10.916633",
     "status": "completed"
    },
    "tags": []
   },
   "outputs": [
    {
     "name": "stdout",
     "output_type": "stream",
     "text": [
      "Past data set:\n",
      "(252108, 53)\n"
     ]
    },
    {
     "data": {
      "text/html": [
       "<div>\n",
       "<style scoped>\n",
       "    .dataframe tbody tr th:only-of-type {\n",
       "        vertical-align: middle;\n",
       "    }\n",
       "\n",
       "    .dataframe tbody tr th {\n",
       "        vertical-align: top;\n",
       "    }\n",
       "\n",
       "    .dataframe thead th {\n",
       "        text-align: right;\n",
       "    }\n",
       "</style>\n",
       "<table border=\"1\" class=\"dataframe\">\n",
       "  <thead>\n",
       "    <tr style=\"text-align: right;\">\n",
       "      <th></th>\n",
       "      <th>dataset</th>\n",
       "      <th>air_store_id</th>\n",
       "      <th>visit_date</th>\n",
       "      <th>visitors</th>\n",
       "      <th>id</th>\n",
       "      <th>weekday</th>\n",
       "      <th>year</th>\n",
       "      <th>month</th>\n",
       "      <th>day_of_year</th>\n",
       "      <th>days_in_month</th>\n",
       "      <th>...</th>\n",
       "      <th>air_genre_name_int</th>\n",
       "      <th>air_area_name_int</th>\n",
       "      <th>hpg_genre_name_int</th>\n",
       "      <th>hpg_area_name_int</th>\n",
       "      <th>Todofuken_int</th>\n",
       "      <th>city_int</th>\n",
       "      <th>street_int</th>\n",
       "      <th>area_genre_int</th>\n",
       "      <th>store_weekday_int</th>\n",
       "      <th>store_weekday_holiday_int</th>\n",
       "    </tr>\n",
       "  </thead>\n",
       "  <tbody>\n",
       "    <tr>\n",
       "      <th>0</th>\n",
       "      <td>past</td>\n",
       "      <td>air_ba937bf13d40fb24</td>\n",
       "      <td>2016-01-13</td>\n",
       "      <td>25</td>\n",
       "      <td>air_ba937bf13d40fb24_2016-01-13</td>\n",
       "      <td>2</td>\n",
       "      <td>2016</td>\n",
       "      <td>1</td>\n",
       "      <td>13</td>\n",
       "      <td>31</td>\n",
       "      <td>...</td>\n",
       "      <td>4</td>\n",
       "      <td>62</td>\n",
       "      <td>16</td>\n",
       "      <td>31</td>\n",
       "      <td>7</td>\n",
       "      <td>29</td>\n",
       "      <td>77</td>\n",
       "      <td>144</td>\n",
       "      <td>4222</td>\n",
       "      <td>7860</td>\n",
       "    </tr>\n",
       "    <tr>\n",
       "      <th>1</th>\n",
       "      <td>past</td>\n",
       "      <td>air_ba937bf13d40fb24</td>\n",
       "      <td>2016-01-14</td>\n",
       "      <td>32</td>\n",
       "      <td>air_ba937bf13d40fb24_2016-01-14</td>\n",
       "      <td>3</td>\n",
       "      <td>2016</td>\n",
       "      <td>1</td>\n",
       "      <td>14</td>\n",
       "      <td>31</td>\n",
       "      <td>...</td>\n",
       "      <td>4</td>\n",
       "      <td>62</td>\n",
       "      <td>16</td>\n",
       "      <td>31</td>\n",
       "      <td>7</td>\n",
       "      <td>29</td>\n",
       "      <td>77</td>\n",
       "      <td>144</td>\n",
       "      <td>4223</td>\n",
       "      <td>7862</td>\n",
       "    </tr>\n",
       "    <tr>\n",
       "      <th>2</th>\n",
       "      <td>past</td>\n",
       "      <td>air_ba937bf13d40fb24</td>\n",
       "      <td>2016-01-15</td>\n",
       "      <td>29</td>\n",
       "      <td>air_ba937bf13d40fb24_2016-01-15</td>\n",
       "      <td>4</td>\n",
       "      <td>2016</td>\n",
       "      <td>1</td>\n",
       "      <td>15</td>\n",
       "      <td>31</td>\n",
       "      <td>...</td>\n",
       "      <td>4</td>\n",
       "      <td>62</td>\n",
       "      <td>16</td>\n",
       "      <td>31</td>\n",
       "      <td>7</td>\n",
       "      <td>29</td>\n",
       "      <td>77</td>\n",
       "      <td>144</td>\n",
       "      <td>4224</td>\n",
       "      <td>7864</td>\n",
       "    </tr>\n",
       "    <tr>\n",
       "      <th>3</th>\n",
       "      <td>past</td>\n",
       "      <td>air_ba937bf13d40fb24</td>\n",
       "      <td>2016-01-16</td>\n",
       "      <td>22</td>\n",
       "      <td>air_ba937bf13d40fb24_2016-01-16</td>\n",
       "      <td>5</td>\n",
       "      <td>2016</td>\n",
       "      <td>1</td>\n",
       "      <td>16</td>\n",
       "      <td>31</td>\n",
       "      <td>...</td>\n",
       "      <td>4</td>\n",
       "      <td>62</td>\n",
       "      <td>16</td>\n",
       "      <td>31</td>\n",
       "      <td>7</td>\n",
       "      <td>29</td>\n",
       "      <td>77</td>\n",
       "      <td>144</td>\n",
       "      <td>4225</td>\n",
       "      <td>7866</td>\n",
       "    </tr>\n",
       "    <tr>\n",
       "      <th>4</th>\n",
       "      <td>past</td>\n",
       "      <td>air_ba937bf13d40fb24</td>\n",
       "      <td>2016-01-18</td>\n",
       "      <td>6</td>\n",
       "      <td>air_ba937bf13d40fb24_2016-01-18</td>\n",
       "      <td>0</td>\n",
       "      <td>2016</td>\n",
       "      <td>1</td>\n",
       "      <td>18</td>\n",
       "      <td>31</td>\n",
       "      <td>...</td>\n",
       "      <td>4</td>\n",
       "      <td>62</td>\n",
       "      <td>16</td>\n",
       "      <td>31</td>\n",
       "      <td>7</td>\n",
       "      <td>29</td>\n",
       "      <td>77</td>\n",
       "      <td>144</td>\n",
       "      <td>4220</td>\n",
       "      <td>7858</td>\n",
       "    </tr>\n",
       "  </tbody>\n",
       "</table>\n",
       "<p>5 rows × 53 columns</p>\n",
       "</div>"
      ],
      "text/plain": [
       "  dataset          air_store_id visit_date  visitors  \\\n",
       "0    past  air_ba937bf13d40fb24 2016-01-13        25   \n",
       "1    past  air_ba937bf13d40fb24 2016-01-14        32   \n",
       "2    past  air_ba937bf13d40fb24 2016-01-15        29   \n",
       "3    past  air_ba937bf13d40fb24 2016-01-16        22   \n",
       "4    past  air_ba937bf13d40fb24 2016-01-18         6   \n",
       "\n",
       "                                id  weekday  year  month  day_of_year  \\\n",
       "0  air_ba937bf13d40fb24_2016-01-13        2  2016      1           13   \n",
       "1  air_ba937bf13d40fb24_2016-01-14        3  2016      1           14   \n",
       "2  air_ba937bf13d40fb24_2016-01-15        4  2016      1           15   \n",
       "3  air_ba937bf13d40fb24_2016-01-16        5  2016      1           16   \n",
       "4  air_ba937bf13d40fb24_2016-01-18        0  2016      1           18   \n",
       "\n",
       "   days_in_month  ...  air_genre_name_int  air_area_name_int  \\\n",
       "0             31  ...                   4                 62   \n",
       "1             31  ...                   4                 62   \n",
       "2             31  ...                   4                 62   \n",
       "3             31  ...                   4                 62   \n",
       "4             31  ...                   4                 62   \n",
       "\n",
       "   hpg_genre_name_int  hpg_area_name_int  Todofuken_int  city_int street_int  \\\n",
       "0                  16                 31              7        29         77   \n",
       "1                  16                 31              7        29         77   \n",
       "2                  16                 31              7        29         77   \n",
       "3                  16                 31              7        29         77   \n",
       "4                  16                 31              7        29         77   \n",
       "\n",
       "  area_genre_int  store_weekday_int  store_weekday_holiday_int  \n",
       "0            144               4222                       7860  \n",
       "1            144               4223                       7862  \n",
       "2            144               4224                       7864  \n",
       "3            144               4225                       7866  \n",
       "4            144               4220                       7858  \n",
       "\n",
       "[5 rows x 53 columns]"
      ]
     },
     "execution_count": 94,
     "metadata": {},
     "output_type": "execute_result"
    }
   ],
   "source": [
    "print('Past data set:')\n",
    "print(past.shape)\n",
    "past.head()"
   ]
  },
  {
   "cell_type": "code",
   "execution_count": 95,
   "id": "09111c98",
   "metadata": {
    "execution": {
     "iopub.execute_input": "2021-08-05T04:54:11.315530Z",
     "iopub.status.busy": "2021-08-05T04:54:11.314792Z",
     "iopub.status.idle": "2021-08-05T04:54:11.318787Z",
     "shell.execute_reply": "2021-08-05T04:54:11.318147Z",
     "shell.execute_reply.started": "2021-08-05T04:43:21.367750Z"
    },
    "papermill": {
     "duration": 0.142507,
     "end_time": "2021-08-05T04:54:11.318936",
     "exception": false,
     "start_time": "2021-08-05T04:54:11.176429",
     "status": "completed"
    },
    "tags": []
   },
   "outputs": [
    {
     "data": {
      "text/html": [
       "<div>\n",
       "<style scoped>\n",
       "    .dataframe tbody tr th:only-of-type {\n",
       "        vertical-align: middle;\n",
       "    }\n",
       "\n",
       "    .dataframe tbody tr th {\n",
       "        vertical-align: top;\n",
       "    }\n",
       "\n",
       "    .dataframe thead th {\n",
       "        text-align: right;\n",
       "    }\n",
       "</style>\n",
       "<table border=\"1\" class=\"dataframe\">\n",
       "  <thead>\n",
       "    <tr style=\"text-align: right;\">\n",
       "      <th></th>\n",
       "      <th>dataset</th>\n",
       "      <th>air_store_id</th>\n",
       "      <th>visit_date</th>\n",
       "      <th>visitors</th>\n",
       "      <th>id</th>\n",
       "      <th>weekday</th>\n",
       "      <th>year</th>\n",
       "      <th>month</th>\n",
       "      <th>day_of_year</th>\n",
       "      <th>days_in_month</th>\n",
       "      <th>...</th>\n",
       "      <th>air_genre_name_int</th>\n",
       "      <th>air_area_name_int</th>\n",
       "      <th>hpg_genre_name_int</th>\n",
       "      <th>hpg_area_name_int</th>\n",
       "      <th>Todofuken_int</th>\n",
       "      <th>city_int</th>\n",
       "      <th>street_int</th>\n",
       "      <th>area_genre_int</th>\n",
       "      <th>store_weekday_int</th>\n",
       "      <th>store_weekday_holiday_int</th>\n",
       "    </tr>\n",
       "  </thead>\n",
       "  <tbody>\n",
       "    <tr>\n",
       "      <th>252103</th>\n",
       "      <td>past</td>\n",
       "      <td>air_24e8414b9b07decb</td>\n",
       "      <td>2017-04-18</td>\n",
       "      <td>6</td>\n",
       "      <td>air_24e8414b9b07decb_2017-04-18</td>\n",
       "      <td>1</td>\n",
       "      <td>2017</td>\n",
       "      <td>4</td>\n",
       "      <td>108</td>\n",
       "      <td>30</td>\n",
       "      <td>...</td>\n",
       "      <td>11</td>\n",
       "      <td>72</td>\n",
       "      <td>16</td>\n",
       "      <td>31</td>\n",
       "      <td>7</td>\n",
       "      <td>42</td>\n",
       "      <td>15</td>\n",
       "      <td>165</td>\n",
       "      <td>686</td>\n",
       "      <td>1281</td>\n",
       "    </tr>\n",
       "    <tr>\n",
       "      <th>252104</th>\n",
       "      <td>past</td>\n",
       "      <td>air_24e8414b9b07decb</td>\n",
       "      <td>2017-04-19</td>\n",
       "      <td>6</td>\n",
       "      <td>air_24e8414b9b07decb_2017-04-19</td>\n",
       "      <td>2</td>\n",
       "      <td>2017</td>\n",
       "      <td>4</td>\n",
       "      <td>109</td>\n",
       "      <td>30</td>\n",
       "      <td>...</td>\n",
       "      <td>11</td>\n",
       "      <td>72</td>\n",
       "      <td>16</td>\n",
       "      <td>31</td>\n",
       "      <td>7</td>\n",
       "      <td>42</td>\n",
       "      <td>15</td>\n",
       "      <td>165</td>\n",
       "      <td>687</td>\n",
       "      <td>1282</td>\n",
       "    </tr>\n",
       "    <tr>\n",
       "      <th>252105</th>\n",
       "      <td>past</td>\n",
       "      <td>air_24e8414b9b07decb</td>\n",
       "      <td>2017-04-20</td>\n",
       "      <td>7</td>\n",
       "      <td>air_24e8414b9b07decb_2017-04-20</td>\n",
       "      <td>3</td>\n",
       "      <td>2017</td>\n",
       "      <td>4</td>\n",
       "      <td>110</td>\n",
       "      <td>30</td>\n",
       "      <td>...</td>\n",
       "      <td>11</td>\n",
       "      <td>72</td>\n",
       "      <td>16</td>\n",
       "      <td>31</td>\n",
       "      <td>7</td>\n",
       "      <td>42</td>\n",
       "      <td>15</td>\n",
       "      <td>165</td>\n",
       "      <td>688</td>\n",
       "      <td>1284</td>\n",
       "    </tr>\n",
       "    <tr>\n",
       "      <th>252106</th>\n",
       "      <td>past</td>\n",
       "      <td>air_24e8414b9b07decb</td>\n",
       "      <td>2017-04-21</td>\n",
       "      <td>8</td>\n",
       "      <td>air_24e8414b9b07decb_2017-04-21</td>\n",
       "      <td>4</td>\n",
       "      <td>2017</td>\n",
       "      <td>4</td>\n",
       "      <td>111</td>\n",
       "      <td>30</td>\n",
       "      <td>...</td>\n",
       "      <td>11</td>\n",
       "      <td>72</td>\n",
       "      <td>16</td>\n",
       "      <td>31</td>\n",
       "      <td>7</td>\n",
       "      <td>42</td>\n",
       "      <td>15</td>\n",
       "      <td>165</td>\n",
       "      <td>689</td>\n",
       "      <td>1286</td>\n",
       "    </tr>\n",
       "    <tr>\n",
       "      <th>252107</th>\n",
       "      <td>past</td>\n",
       "      <td>air_24e8414b9b07decb</td>\n",
       "      <td>2017-04-22</td>\n",
       "      <td>5</td>\n",
       "      <td>air_24e8414b9b07decb_2017-04-22</td>\n",
       "      <td>5</td>\n",
       "      <td>2017</td>\n",
       "      <td>4</td>\n",
       "      <td>112</td>\n",
       "      <td>30</td>\n",
       "      <td>...</td>\n",
       "      <td>11</td>\n",
       "      <td>72</td>\n",
       "      <td>16</td>\n",
       "      <td>31</td>\n",
       "      <td>7</td>\n",
       "      <td>42</td>\n",
       "      <td>15</td>\n",
       "      <td>165</td>\n",
       "      <td>690</td>\n",
       "      <td>1288</td>\n",
       "    </tr>\n",
       "  </tbody>\n",
       "</table>\n",
       "<p>5 rows × 53 columns</p>\n",
       "</div>"
      ],
      "text/plain": [
       "       dataset          air_store_id visit_date  visitors  \\\n",
       "252103    past  air_24e8414b9b07decb 2017-04-18         6   \n",
       "252104    past  air_24e8414b9b07decb 2017-04-19         6   \n",
       "252105    past  air_24e8414b9b07decb 2017-04-20         7   \n",
       "252106    past  air_24e8414b9b07decb 2017-04-21         8   \n",
       "252107    past  air_24e8414b9b07decb 2017-04-22         5   \n",
       "\n",
       "                                     id  weekday  year  month  day_of_year  \\\n",
       "252103  air_24e8414b9b07decb_2017-04-18        1  2017      4          108   \n",
       "252104  air_24e8414b9b07decb_2017-04-19        2  2017      4          109   \n",
       "252105  air_24e8414b9b07decb_2017-04-20        3  2017      4          110   \n",
       "252106  air_24e8414b9b07decb_2017-04-21        4  2017      4          111   \n",
       "252107  air_24e8414b9b07decb_2017-04-22        5  2017      4          112   \n",
       "\n",
       "        days_in_month  ...  air_genre_name_int  air_area_name_int  \\\n",
       "252103             30  ...                  11                 72   \n",
       "252104             30  ...                  11                 72   \n",
       "252105             30  ...                  11                 72   \n",
       "252106             30  ...                  11                 72   \n",
       "252107             30  ...                  11                 72   \n",
       "\n",
       "        hpg_genre_name_int  hpg_area_name_int  Todofuken_int  city_int  \\\n",
       "252103                  16                 31              7        42   \n",
       "252104                  16                 31              7        42   \n",
       "252105                  16                 31              7        42   \n",
       "252106                  16                 31              7        42   \n",
       "252107                  16                 31              7        42   \n",
       "\n",
       "       street_int area_genre_int  store_weekday_int  store_weekday_holiday_int  \n",
       "252103         15            165                686                       1281  \n",
       "252104         15            165                687                       1282  \n",
       "252105         15            165                688                       1284  \n",
       "252106         15            165                689                       1286  \n",
       "252107         15            165                690                       1288  \n",
       "\n",
       "[5 rows x 53 columns]"
      ]
     },
     "execution_count": 95,
     "metadata": {},
     "output_type": "execute_result"
    }
   ],
   "source": [
    "past.tail()"
   ]
  },
  {
   "cell_type": "code",
   "execution_count": 96,
   "id": "0ae189f9",
   "metadata": {
    "execution": {
     "iopub.execute_input": "2021-08-05T04:54:11.559167Z",
     "iopub.status.busy": "2021-08-05T04:54:11.558495Z",
     "iopub.status.idle": "2021-08-05T04:54:11.580655Z",
     "shell.execute_reply": "2021-08-05T04:54:11.581189Z",
     "shell.execute_reply.started": "2021-08-05T04:43:10.207917Z"
    },
    "papermill": {
     "duration": 0.145656,
     "end_time": "2021-08-05T04:54:11.581377",
     "exception": false,
     "start_time": "2021-08-05T04:54:11.435721",
     "status": "completed"
    },
    "tags": []
   },
   "outputs": [
    {
     "name": "stdout",
     "output_type": "stream",
     "text": [
      "Future data set:\n",
      "(32019, 53)\n"
     ]
    },
    {
     "data": {
      "text/html": [
       "<div>\n",
       "<style scoped>\n",
       "    .dataframe tbody tr th:only-of-type {\n",
       "        vertical-align: middle;\n",
       "    }\n",
       "\n",
       "    .dataframe tbody tr th {\n",
       "        vertical-align: top;\n",
       "    }\n",
       "\n",
       "    .dataframe thead th {\n",
       "        text-align: right;\n",
       "    }\n",
       "</style>\n",
       "<table border=\"1\" class=\"dataframe\">\n",
       "  <thead>\n",
       "    <tr style=\"text-align: right;\">\n",
       "      <th></th>\n",
       "      <th>dataset</th>\n",
       "      <th>air_store_id</th>\n",
       "      <th>visit_date</th>\n",
       "      <th>visitors</th>\n",
       "      <th>id</th>\n",
       "      <th>weekday</th>\n",
       "      <th>year</th>\n",
       "      <th>month</th>\n",
       "      <th>day_of_year</th>\n",
       "      <th>days_in_month</th>\n",
       "      <th>...</th>\n",
       "      <th>air_genre_name_int</th>\n",
       "      <th>air_area_name_int</th>\n",
       "      <th>hpg_genre_name_int</th>\n",
       "      <th>hpg_area_name_int</th>\n",
       "      <th>Todofuken_int</th>\n",
       "      <th>city_int</th>\n",
       "      <th>street_int</th>\n",
       "      <th>area_genre_int</th>\n",
       "      <th>store_weekday_int</th>\n",
       "      <th>store_weekday_holiday_int</th>\n",
       "    </tr>\n",
       "  </thead>\n",
       "  <tbody>\n",
       "    <tr>\n",
       "      <th>252108</th>\n",
       "      <td>future</td>\n",
       "      <td>air_00a91d42b08b08d9</td>\n",
       "      <td>2017-04-23</td>\n",
       "      <td>0</td>\n",
       "      <td>air_00a91d42b08b08d9_2017-04-23</td>\n",
       "      <td>6</td>\n",
       "      <td>2017</td>\n",
       "      <td>4</td>\n",
       "      <td>113</td>\n",
       "      <td>30</td>\n",
       "      <td>...</td>\n",
       "      <td>6</td>\n",
       "      <td>44</td>\n",
       "      <td>16</td>\n",
       "      <td>31</td>\n",
       "      <td>7</td>\n",
       "      <td>5</td>\n",
       "      <td>45</td>\n",
       "      <td>102</td>\n",
       "      <td>6</td>\n",
       "      <td>11</td>\n",
       "    </tr>\n",
       "    <tr>\n",
       "      <th>252109</th>\n",
       "      <td>future</td>\n",
       "      <td>air_00a91d42b08b08d9</td>\n",
       "      <td>2017-04-24</td>\n",
       "      <td>0</td>\n",
       "      <td>air_00a91d42b08b08d9_2017-04-24</td>\n",
       "      <td>0</td>\n",
       "      <td>2017</td>\n",
       "      <td>4</td>\n",
       "      <td>114</td>\n",
       "      <td>30</td>\n",
       "      <td>...</td>\n",
       "      <td>6</td>\n",
       "      <td>44</td>\n",
       "      <td>16</td>\n",
       "      <td>31</td>\n",
       "      <td>7</td>\n",
       "      <td>5</td>\n",
       "      <td>45</td>\n",
       "      <td>102</td>\n",
       "      <td>0</td>\n",
       "      <td>0</td>\n",
       "    </tr>\n",
       "    <tr>\n",
       "      <th>252110</th>\n",
       "      <td>future</td>\n",
       "      <td>air_00a91d42b08b08d9</td>\n",
       "      <td>2017-04-25</td>\n",
       "      <td>0</td>\n",
       "      <td>air_00a91d42b08b08d9_2017-04-25</td>\n",
       "      <td>1</td>\n",
       "      <td>2017</td>\n",
       "      <td>4</td>\n",
       "      <td>115</td>\n",
       "      <td>30</td>\n",
       "      <td>...</td>\n",
       "      <td>6</td>\n",
       "      <td>44</td>\n",
       "      <td>16</td>\n",
       "      <td>31</td>\n",
       "      <td>7</td>\n",
       "      <td>5</td>\n",
       "      <td>45</td>\n",
       "      <td>102</td>\n",
       "      <td>1</td>\n",
       "      <td>2</td>\n",
       "    </tr>\n",
       "    <tr>\n",
       "      <th>252111</th>\n",
       "      <td>future</td>\n",
       "      <td>air_00a91d42b08b08d9</td>\n",
       "      <td>2017-04-26</td>\n",
       "      <td>0</td>\n",
       "      <td>air_00a91d42b08b08d9_2017-04-26</td>\n",
       "      <td>2</td>\n",
       "      <td>2017</td>\n",
       "      <td>4</td>\n",
       "      <td>116</td>\n",
       "      <td>30</td>\n",
       "      <td>...</td>\n",
       "      <td>6</td>\n",
       "      <td>44</td>\n",
       "      <td>16</td>\n",
       "      <td>31</td>\n",
       "      <td>7</td>\n",
       "      <td>5</td>\n",
       "      <td>45</td>\n",
       "      <td>102</td>\n",
       "      <td>2</td>\n",
       "      <td>3</td>\n",
       "    </tr>\n",
       "    <tr>\n",
       "      <th>252112</th>\n",
       "      <td>future</td>\n",
       "      <td>air_00a91d42b08b08d9</td>\n",
       "      <td>2017-04-27</td>\n",
       "      <td>0</td>\n",
       "      <td>air_00a91d42b08b08d9_2017-04-27</td>\n",
       "      <td>3</td>\n",
       "      <td>2017</td>\n",
       "      <td>4</td>\n",
       "      <td>117</td>\n",
       "      <td>30</td>\n",
       "      <td>...</td>\n",
       "      <td>6</td>\n",
       "      <td>44</td>\n",
       "      <td>16</td>\n",
       "      <td>31</td>\n",
       "      <td>7</td>\n",
       "      <td>5</td>\n",
       "      <td>45</td>\n",
       "      <td>102</td>\n",
       "      <td>3</td>\n",
       "      <td>5</td>\n",
       "    </tr>\n",
       "  </tbody>\n",
       "</table>\n",
       "<p>5 rows × 53 columns</p>\n",
       "</div>"
      ],
      "text/plain": [
       "       dataset          air_store_id visit_date  visitors  \\\n",
       "252108  future  air_00a91d42b08b08d9 2017-04-23         0   \n",
       "252109  future  air_00a91d42b08b08d9 2017-04-24         0   \n",
       "252110  future  air_00a91d42b08b08d9 2017-04-25         0   \n",
       "252111  future  air_00a91d42b08b08d9 2017-04-26         0   \n",
       "252112  future  air_00a91d42b08b08d9 2017-04-27         0   \n",
       "\n",
       "                                     id  weekday  year  month  day_of_year  \\\n",
       "252108  air_00a91d42b08b08d9_2017-04-23        6  2017      4          113   \n",
       "252109  air_00a91d42b08b08d9_2017-04-24        0  2017      4          114   \n",
       "252110  air_00a91d42b08b08d9_2017-04-25        1  2017      4          115   \n",
       "252111  air_00a91d42b08b08d9_2017-04-26        2  2017      4          116   \n",
       "252112  air_00a91d42b08b08d9_2017-04-27        3  2017      4          117   \n",
       "\n",
       "        days_in_month  ...  air_genre_name_int  air_area_name_int  \\\n",
       "252108             30  ...                   6                 44   \n",
       "252109             30  ...                   6                 44   \n",
       "252110             30  ...                   6                 44   \n",
       "252111             30  ...                   6                 44   \n",
       "252112             30  ...                   6                 44   \n",
       "\n",
       "        hpg_genre_name_int  hpg_area_name_int  Todofuken_int  city_int  \\\n",
       "252108                  16                 31              7         5   \n",
       "252109                  16                 31              7         5   \n",
       "252110                  16                 31              7         5   \n",
       "252111                  16                 31              7         5   \n",
       "252112                  16                 31              7         5   \n",
       "\n",
       "       street_int area_genre_int  store_weekday_int  store_weekday_holiday_int  \n",
       "252108         45            102                  6                         11  \n",
       "252109         45            102                  0                          0  \n",
       "252110         45            102                  1                          2  \n",
       "252111         45            102                  2                          3  \n",
       "252112         45            102                  3                          5  \n",
       "\n",
       "[5 rows x 53 columns]"
      ]
     },
     "execution_count": 96,
     "metadata": {},
     "output_type": "execute_result"
    }
   ],
   "source": [
    "print('Future data set:')\n",
    "print(future.shape)\n",
    "future.head()"
   ]
  },
  {
   "cell_type": "code",
   "execution_count": 97,
   "id": "16c605f3",
   "metadata": {
    "execution": {
     "iopub.execute_input": "2021-08-05T04:54:11.822997Z",
     "iopub.status.busy": "2021-08-05T04:54:11.822290Z",
     "iopub.status.idle": "2021-08-05T04:54:11.830954Z",
     "shell.execute_reply": "2021-08-05T04:54:11.830330Z",
     "shell.execute_reply.started": "2021-08-05T04:45:26.184480Z"
    },
    "papermill": {
     "duration": 0.132636,
     "end_time": "2021-08-05T04:54:11.831097",
     "exception": false,
     "start_time": "2021-08-05T04:54:11.698461",
     "status": "completed"
    },
    "tags": []
   },
   "outputs": [
    {
     "name": "stdout",
     "output_type": "stream",
     "text": [
      "past visit date min : 2016-01-01 00:00:00\n",
      "past visit date max : 2017-04-22 00:00:00\n",
      "future visit date min : 2017-04-23 00:00:00\n",
      "future visit date max : 2017-05-31 00:00:00\n"
     ]
    }
   ],
   "source": [
    "#train_dt를 train(past)과 test(future)로 분리\n",
    "#분리기준이 날짜이기 때문에 시작, 끝 날짜를 확인함.\n",
    "\n",
    "print(\"past visit date min :\",past.visit_date.min())\n",
    "print(\"past visit date max :\",past.visit_date.max())\n",
    "\n",
    "print(\"future visit date min :\",future.visit_date.min())\n",
    "print(\"future visit date max :\",future.visit_date.max())"
   ]
  },
  {
   "cell_type": "code",
   "execution_count": 98,
   "id": "b3bdfa50",
   "metadata": {
    "execution": {
     "iopub.execute_input": "2021-08-05T04:54:12.075123Z",
     "iopub.status.busy": "2021-08-05T04:54:12.074427Z",
     "iopub.status.idle": "2021-08-05T04:54:12.803673Z",
     "shell.execute_reply": "2021-08-05T04:54:12.804220Z",
     "shell.execute_reply.started": "2021-08-05T04:51:51.171038Z"
    },
    "papermill": {
     "duration": 0.852102,
     "end_time": "2021-08-05T04:54:12.804421",
     "exception": false,
     "start_time": "2021-08-05T04:54:11.952319",
     "status": "completed"
    },
    "tags": []
   },
   "outputs": [
    {
     "data": {
      "text/plain": [
       "<AxesSubplot:>"
      ]
     },
     "execution_count": 98,
     "metadata": {},
     "output_type": "execute_result"
    },
    {
     "data": {
      "image/png": "[encoded data removed]",
      "text/plain": [
       "<Figure size 720x360 with 2 Axes>"
      ]
     },
     "metadata": {
      "needs_background": "light"
     },
     "output_type": "display_data"
    }
   ],
   "source": [
    "#데이터 분포 확인\n",
    "\n",
    "fg, ax = plt.subplots(nrows=1, ncols=2, figsize=[10,5])\n",
    "past[target_col].hist(bins=100, ax=ax[0])\n",
    "past[target_col].apply(np.log).hist(bins=100, ax=ax[1])"
   ]
  },
  {
   "cell_type": "code",
   "execution_count": 99,
   "id": "434d8a83",
   "metadata": {
    "execution": {
     "iopub.execute_input": "2021-08-05T04:54:13.051192Z",
     "iopub.status.busy": "2021-08-05T04:54:13.050543Z",
     "iopub.status.idle": "2021-08-05T04:54:13.225915Z",
     "shell.execute_reply": "2021-08-05T04:54:13.226698Z",
     "shell.execute_reply.started": "2021-08-05T04:48:15.875486Z"
    },
    "papermill": {
     "duration": 0.301357,
     "end_time": "2021-08-05T04:54:13.226971",
     "exception": false,
     "start_time": "2021-08-05T04:54:12.925614",
     "status": "completed"
    },
    "tags": []
   },
   "outputs": [
    {
     "name": "stdout",
     "output_type": "stream",
     "text": [
      "Training set dimensions...\n",
      "- X_train: (194235, 34)\n",
      "- y_train: (194235,)\n"
     ]
    }
   ],
   "source": [
    "train_selector = past.visit_date < '2017-02-01'\n",
    "X_train = past[train_selector][use_cols]\n",
    "#target이 정규분포가 아니기 때문에 로그변환을 해 줌.\n",
    "y_train = past[train_selector][target_col].apply(np.log1p)\n",
    "\n",
    "print('Training set dimensions...')\n",
    "print('- X_train:', X_train.shape)\n",
    "print('- y_train:', y_train.shape)"
   ]
  },
  {
   "cell_type": "code",
   "execution_count": 100,
   "id": "dd25cf27",
   "metadata": {
    "execution": {
     "iopub.execute_input": "2021-08-05T04:54:13.476431Z",
     "iopub.status.busy": "2021-08-05T04:54:13.475430Z",
     "iopub.status.idle": "2021-08-05T04:54:13.534143Z",
     "shell.execute_reply": "2021-08-05T04:54:13.534875Z",
     "shell.execute_reply.started": "2021-08-05T04:49:17.424793Z"
    },
    "papermill": {
     "duration": 0.184773,
     "end_time": "2021-08-05T04:54:13.535103",
     "exception": false,
     "start_time": "2021-08-05T04:54:13.350330",
     "status": "completed"
    },
    "tags": []
   },
   "outputs": [
    {
     "name": "stdout",
     "output_type": "stream",
     "text": [
      "Validation set dimensions...\n",
      "- X_tset: (57873, 34)\n",
      "- y_test: (57873,)\n"
     ]
    }
   ],
   "source": [
    "val_selector = past.visit_date >= '2017-02-01'\n",
    "X_test = past[val_selector][use_cols]\n",
    "y_test = past[val_selector][target_col].apply(np.log1p)\n",
    "\n",
    "print('Validation set dimensions...')\n",
    "print('- X_tset:', X_test.shape)\n",
    "print('- y_test:', y_test.shape)"
   ]
  }
 ],
 "metadata": {
  "kernelspec": {
   "display_name": "Python 3",
   "language": "python",
   "name": "python3"
  },
  "language_info": {
   "codemirror_mode": {
    "name": "ipython",
    "version": 3
   },
   "file_extension": ".py",
   "mimetype": "text/x-python",
   "name": "python",
   "nbconvert_exporter": "python",
   "pygments_lexer": "ipython3",
   "version": "3.7.10"
  },
  "papermill": {
   "default_parameters": {},
   "duration": 56.851071,
   "end_time": "2021-08-05T04:54:14.667632",
   "environment_variables": {},
   "exception": null,
   "input_path": "__notebook__.ipynb",
   "output_path": "__notebook__.ipynb",
   "parameters": {},
   "start_time": "2021-08-05T04:53:17.816561",
   "version": "2.3.3"
  }
 },
 "nbformat": 4,
 "nbformat_minor": 5
}
